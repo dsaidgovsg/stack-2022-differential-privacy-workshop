{
 "cells": [
  {
   "cell_type": "markdown",
   "id": "8509e905-72ba-4718-9c59-3f7ddb7ed389",
   "metadata": {},
   "source": [
    "## Using Differential Privacy for Privacy-preserving Statistical Releases on a Suvery Data"
   ]
  },
  {
   "cell_type": "markdown",
   "id": "4ea81685-49bd-4ffd-9318-79e6f0a00ec8",
   "metadata": {},
   "source": [
    "![title](images/researchers.jpeg)\n",
    "\n",
    "This notebook is aimed at demonstrating how to generate and release basic statistical outcomes in differentially private manner. We will access the impacts of the factors that were presented as below:\n",
    "1. Epsilon -- privacy loss parameter\n",
    "/* Set the epsilon value for each query */\n",
    "/* Epislon(ε): The privacy loss incurred by firms in the dataset. \n",
    "   Larger values indicate less privacy and more utility.*/\n",
    "   \n",
    "2. Sensitivity of a query\n",
    "2. Clamping bounds \n",
    "3. Dataset size\n",
    "\n",
    "### Contents \n",
    "\n",
    "1. [Heuristics for filtering Singapore-based users' tweets from streaming twitter API](#cell1)\",\n",
    "    * 2 [Loading the data (csv files)](#cell2)\n",
    "    * 3 [Cleaning and processing the data](#cell3)\n",
    "        * 3.1. [Datetime cleanup and formatting](#cell31)\n",
    "        * 3.2. [Geocoding fixes](#cell32)\n"
   ]
  },
  {
   "cell_type": "markdown",
   "id": "90dc6a76-1d2a-4eb5-abe0-a93622a3e210",
   "metadata": {},
   "source": [
    "### Imports "
   ]
  },
  {
   "cell_type": "code",
   "execution_count": 1,
   "id": "2a488984-bed2-4f99-9216-d096d0132948",
   "metadata": {},
   "outputs": [],
   "source": [
    "import numpy as np\n",
    "import pandas as pd\n",
    "\n",
    "import seaborn as sns\n",
    "import matplotlib.pyplot as plt"
   ]
  },
  {
   "cell_type": "markdown",
   "id": "622f4661-c8bf-4af9-9058-fe4dad44d8a9",
   "metadata": {},
   "source": [
    "### Differntial Private Mechanisms <a id=\"cell1\"></a>"
   ]
  },
  {
   "cell_type": "markdown",
   "id": "56720dc6-dfc2-40a6-8e3a-bd8a938bdca7",
   "metadata": {},
   "source": [
    "#### Laplace Mechanism "
   ]
  },
  {
   "cell_type": "code",
   "execution_count": 71,
   "id": "44a52c96-8b8e-477a-9f49-a66800377fe9",
   "metadata": {},
   "outputs": [],
   "source": [
    "# Laplace mechanism returns a random number from the laplacian distribution \n",
    "# The laplacian distribution scales with a smaller epsilon value and larger sensitivity of a query\n",
    "def laplace_mechanism(sensitivity, epsilon):\n",
    "    return np.random.laplace(loc=0, scale=sensitivity/epsilon)"
   ]
  },
  {
   "cell_type": "markdown",
   "id": "3abf3e77-cd56-4059-a074-b71d138ddada",
   "metadata": {},
   "source": [
    "#### Gaussian Mechanism "
   ]
  },
  {
   "cell_type": "code",
   "execution_count": 72,
   "id": "a8d039f1-0c70-47f0-b5d1-893d8341406e",
   "metadata": {},
   "outputs": [],
   "source": [
    "# Gaussian mechanism returns a random number from the laplacian distribution \n",
    "# The gaussian or normal distribution scales with a smaller epsilon and delta, and larger sensitivity of a query\n",
    "def gaussian_mechanism(sensitivity, epsilon, delta):\n",
    "    sigma = np.sqrt(2 * np.log(1.25 / delta)) * sensitivity / epsilon\n",
    "    return np.random.normal(loc=0, scale=sigma)"
   ]
  },
  {
   "cell_type": "markdown",
   "id": "921ed731-ef1f-434b-8bc2-0c52dcb79f44",
   "metadata": {},
   "source": [
    "### Utility Functions"
   ]
  },
  {
   "cell_type": "code",
   "execution_count": 73,
   "id": "7ddc1fc5-0de6-4c4c-ab52-0f640b3363ce",
   "metadata": {},
   "outputs": [],
   "source": [
    "# function we will use to compute percentage absolute error \n",
    "def percentage_error(true_value, noisy_value):\n",
    "    return round(abs(true_value - noisy_value)/true_value*100, 2)"
   ]
  },
  {
   "cell_type": "code",
   "execution_count": 74,
   "id": "41b72831-cf43-4c53-af16-c83e0897f463",
   "metadata": {},
   "outputs": [],
   "source": [
    "# constants for the visualisations \n",
    "COLOR_1 = \"#4CB7A5\"\n",
    "COLOR_2 = \"#0198E1\"\n",
    "COLOR_3 = \"#DE3163\"\n",
    "COLOR_MAP = \"Wistia\"\n",
    "\n",
    "# function we will use to visualise the impact of sensitivity, epsilon, bounds and dataset size \n",
    "# on the accuracy of a query output\n",
    "def visualise(dp_results, epsilons, errors, ylabel, title, labels, figsize=(10, 6)):\n",
    "    dp_results = pd.DataFrame(dp_results, index=labels)\n",
    "    \n",
    "    legend_labels = ['True value']\n",
    "    for epsilon, error in zip(epsilons, errors):\n",
    "        legend_labels.append('ε = ' + str(epsilon) + ' : Error = ' + str(round(error, 1)) + '%')\n",
    "\n",
    "    ax = dp_results.plot.bar(rot=0, figsize=figsize, width=0.8, fontsize=12, colormap = COLOR_MAP)\n",
    "    \n",
    "    plt.title(title, fontsize=16)\n",
    "    plt.grid(axis='y', alpha=0.5)\n",
    "    plt.ylabel(ylabel, fontsize = 14)\n",
    "    plt.legend(fontsize = 12, labels=legend_labels)\n",
    "    sns.move_legend(ax, \"upper left\", bbox_to_anchor=(1, 1))"
   ]
  },
  {
   "cell_type": "markdown",
   "id": "62d0f441-b67d-468b-8857-f2d6249417a5",
   "metadata": {},
   "source": [
    "## Calulating Queries on Researchers Survey Data"
   ]
  },
  {
   "cell_type": "markdown",
   "id": "b06e855c-8ea9-4005-a5eb-3b3a3fd8d12e",
   "metadata": {},
   "source": [
    "### Loading the Survey Data"
   ]
  },
  {
   "cell_type": "code",
   "execution_count": 7,
   "id": "262ac056-f280-4134-b433-23d0da6d8aaa",
   "metadata": {},
   "outputs": [
    {
     "data": {
      "text/html": [
       "<div>\n",
       "<style scoped>\n",
       "    .dataframe tbody tr th:only-of-type {\n",
       "        vertical-align: middle;\n",
       "    }\n",
       "\n",
       "    .dataframe tbody tr th {\n",
       "        vertical-align: top;\n",
       "    }\n",
       "\n",
       "    .dataframe thead th {\n",
       "        text-align: right;\n",
       "    }\n",
       "</style>\n",
       "<table border=\"1\" class=\"dataframe\">\n",
       "  <thead>\n",
       "    <tr style=\"text-align: right;\">\n",
       "      <th></th>\n",
       "      <th>NRIC</th>\n",
       "      <th>researcher_name</th>\n",
       "      <th>sector</th>\n",
       "      <th>salary</th>\n",
       "      <th>degree</th>\n",
       "    </tr>\n",
       "  </thead>\n",
       "  <tbody>\n",
       "    <tr>\n",
       "      <th>0</th>\n",
       "      <td>G5629588W</td>\n",
       "      <td>Justin Smith</td>\n",
       "      <td>Healthcare</td>\n",
       "      <td>7632</td>\n",
       "      <td>Masters</td>\n",
       "    </tr>\n",
       "    <tr>\n",
       "      <th>1</th>\n",
       "      <td>S6111665R</td>\n",
       "      <td>Milton Dunn</td>\n",
       "      <td>Agricultural</td>\n",
       "      <td>13832</td>\n",
       "      <td>Post-grad</td>\n",
       "    </tr>\n",
       "    <tr>\n",
       "      <th>2</th>\n",
       "      <td>S9246827E</td>\n",
       "      <td>Edmund Volante</td>\n",
       "      <td>Agricultural</td>\n",
       "      <td>9010</td>\n",
       "      <td>PhD</td>\n",
       "    </tr>\n",
       "    <tr>\n",
       "      <th>3</th>\n",
       "      <td>T3962425J</td>\n",
       "      <td>Vicki Mcalpine</td>\n",
       "      <td>Aerospace</td>\n",
       "      <td>12823</td>\n",
       "      <td>Non-degree</td>\n",
       "    </tr>\n",
       "    <tr>\n",
       "      <th>4</th>\n",
       "      <td>T2736605S</td>\n",
       "      <td>John Walker</td>\n",
       "      <td>Aerospace</td>\n",
       "      <td>14431</td>\n",
       "      <td>Bachelors</td>\n",
       "    </tr>\n",
       "    <tr>\n",
       "      <th>5</th>\n",
       "      <td>F6320719Z</td>\n",
       "      <td>Connie Thomson</td>\n",
       "      <td>Agricultural</td>\n",
       "      <td>6549</td>\n",
       "      <td>Post-grad</td>\n",
       "    </tr>\n",
       "    <tr>\n",
       "      <th>6</th>\n",
       "      <td>G1978827T</td>\n",
       "      <td>Anna Reynolds</td>\n",
       "      <td>Healthcare</td>\n",
       "      <td>10554</td>\n",
       "      <td>Post-grad</td>\n",
       "    </tr>\n",
       "    <tr>\n",
       "      <th>7</th>\n",
       "      <td>S3962825E</td>\n",
       "      <td>Clare Riley</td>\n",
       "      <td>Agricultural</td>\n",
       "      <td>5626</td>\n",
       "      <td>Non-degree</td>\n",
       "    </tr>\n",
       "    <tr>\n",
       "      <th>8</th>\n",
       "      <td>T5219183N</td>\n",
       "      <td>Carmen Willey</td>\n",
       "      <td>Healthcare</td>\n",
       "      <td>10891</td>\n",
       "      <td>Masters</td>\n",
       "    </tr>\n",
       "    <tr>\n",
       "      <th>9</th>\n",
       "      <td>F2074020T</td>\n",
       "      <td>Edgar Lopez</td>\n",
       "      <td>Engineering</td>\n",
       "      <td>11768</td>\n",
       "      <td>Bachelors</td>\n",
       "    </tr>\n",
       "  </tbody>\n",
       "</table>\n",
       "</div>"
      ],
      "text/plain": [
       "        NRIC researcher_name        sector  salary      degree\n",
       "0  G5629588W    Justin Smith    Healthcare    7632     Masters\n",
       "1  S6111665R     Milton Dunn  Agricultural   13832   Post-grad\n",
       "2  S9246827E  Edmund Volante  Agricultural    9010         PhD\n",
       "3  T3962425J  Vicki Mcalpine     Aerospace   12823  Non-degree\n",
       "4  T2736605S     John Walker     Aerospace   14431   Bachelors\n",
       "5  F6320719Z  Connie Thomson  Agricultural    6549   Post-grad\n",
       "6  G1978827T   Anna Reynolds    Healthcare   10554   Post-grad\n",
       "7  S3962825E     Clare Riley  Agricultural    5626  Non-degree\n",
       "8  T5219183N   Carmen Willey    Healthcare   10891     Masters\n",
       "9  F2074020T     Edgar Lopez   Engineering   11768   Bachelors"
      ]
     },
     "execution_count": 7,
     "metadata": {},
     "output_type": "execute_result"
    }
   ],
   "source": [
    "# reading the csv file \n",
    "data = pd.read_csv(\"data/simulated_data_500.csv\")\n",
    "data_size = len(data)\n",
    "data.head(10)"
   ]
  },
  {
   "cell_type": "markdown",
   "id": "5b9e83f2-3622-4025-b946-129bd05b200c",
   "metadata": {},
   "source": [
    "#### 1. Counting the number of researchers "
   ]
  },
  {
   "cell_type": "markdown",
   "id": "8e82c25b-8b7b-4394-b2e9-996c365d3287",
   "metadata": {},
   "source": [
    "##### True count"
   ]
  },
  {
   "cell_type": "code",
   "execution_count": 8,
   "id": "b17b5e49-877f-487e-be52-60b77131be4b",
   "metadata": {},
   "outputs": [
    {
     "name": "stdout",
     "output_type": "stream",
     "text": [
      "True count of the researchers: 500\n"
     ]
    }
   ],
   "source": [
    "true_count = len(data['researcher_name'])\n",
    "print(f\"True count of the researchers: {true_count}\")"
   ]
  },
  {
   "cell_type": "markdown",
   "id": "f74da60d-6140-48da-af6f-6a2b84c01d67",
   "metadata": {},
   "source": [
    "##### Privatised count "
   ]
  },
  {
   "cell_type": "markdown",
   "id": "dd619075-8556-4c3f-8dec-fb5ee85c998f",
   "metadata": {},
   "source": [
    "As a rule of thumb, sensitivity of **count** query is 1. "
   ]
  },
  {
   "cell_type": "code",
   "execution_count": 9,
   "id": "c5b92505-3a1e-46af-9ee9-4647c1f81080",
   "metadata": {},
   "outputs": [
    {
     "name": "stdout",
     "output_type": "stream",
     "text": [
      "Noisy count of the researchers: 500.4759905570983 with error: 0.1%\n"
     ]
    }
   ],
   "source": [
    "# \n",
    "sensitivity = 1 \n",
    "epsilon = 0.1\n",
    "noisy_count = true_count + laplace_mechanism(sensitivity, epsilon)\n",
    "# noisy_count_gauss = count + gaussian_mechanism(sensitivity, epsilon, 10e-3)\n",
    "print(f\"Noisy count of the researchers: {noisy_count} with error: {percentage_error(true_count, noisy_count)}%\")\n",
    "# print(f\"Noisy count of the researchers: {noisy_count_gauss} with error: {round(abs(count - noisy_count_gauss)/count*100, 2)}%\")"
   ]
  },
  {
   "cell_type": "markdown",
   "id": "4dc18e69-86c6-4947-be2f-3cd612e9c82f",
   "metadata": {},
   "source": [
    "#### Impact of epsilon on the query's accuracy"
   ]
  },
  {
   "cell_type": "code",
   "execution_count": 33,
   "id": "6f48b26e-9538-48ca-8fbe-7d81dcb42bd0",
   "metadata": {},
   "outputs": [
    {
     "name": "stdout",
     "output_type": "stream",
     "text": [
      "[35.15, 0.66, 0.12, 0.02]\n"
     ]
    },
    {
     "data": {
      "image/png": "[encoded data removed]",
      "text/plain": [
       "<Figure size 432x288 with 1 Axes>"
      ]
     },
     "metadata": {
      "needs_background": "light"
     },
     "output_type": "display_data"
    }
   ],
   "source": [
    "epsilons = [0.01, 0.5, 2, 5]\n",
    "errors = []\n",
    "dp_results = {}\n",
    "dp_results[\"true_count\"] = [true_count]\n",
    "\n",
    "for epsilon in epsilons:\n",
    "    noisy_count = true_count + laplace_mechanism(sensitivity, epsilon)\n",
    "    dp_results[f\"epsilon_{epsilon}\"] = [noisy_count]\n",
    "    errors.append(percentage_error(true_count, noisy_count))\n",
    "print(errors)\n",
    "# visualise data \n",
    "labels = [\"\"]\n",
    "title = f\"Researchers' count (data size = {data_size})\"\n",
    "ylabel = \"Count\"\n",
    "visualise(dp_results, epsilons, errors, ylabel, title, labels, (6, 4))"
   ]
  },
  {
   "cell_type": "markdown",
   "id": "69540c7d-2afa-48e9-b361-f62a36212f7b",
   "metadata": {
    "tags": []
   },
   "source": [
    "#### 2. Sum of the researchers' salary "
   ]
  },
  {
   "cell_type": "code",
   "execution_count": 75,
   "id": "08d6e820-3574-4165-9002-cd08f795988d",
   "metadata": {},
   "outputs": [
    {
     "name": "stdout",
     "output_type": "stream",
     "text": [
      "True sum of the researchers' salary: 4623652\n"
     ]
    }
   ],
   "source": [
    "true_sum_salary = sum(data['salary'])\n",
    "print(f\"True sum of the researchers' salary: {true_sum_salary}\")"
   ]
  },
  {
   "cell_type": "markdown",
   "id": "913f74d4-5a3a-49f5-bb42-496c780e3a85",
   "metadata": {},
   "source": [
    "#### Settings the bounds \n",
    "\n",
    "Clamping bounds for min and max BERD contributions by a firm \n",
    "The data is clamped to be within min and max bounds in order to limit\n",
    "the influence any one firm has on the query. If these bounds are too \n",
    "tight, the release may be biased, because values outside these bounds\n",
    "are replaced with the nearest bound. On the other hand, if these bounds \n",
    "are too wide, the respective release will have greater variance.\n",
    "   "
   ]
  },
  {
   "cell_type": "code",
   "execution_count": 36,
   "id": "72169038-5972-4ad6-bb83-1cc5d7059a7b",
   "metadata": {},
   "outputs": [
    {
     "data": {
      "image/png": "[encoded data removed]",
      "text/plain": [
       "<Figure size 432x288 with 1 Axes>"
      ]
     },
     "metadata": {
      "needs_background": "light"
     },
     "output_type": "display_data"
    }
   ],
   "source": [
    "sns.histplot(data['salary'], color=COLOR_1)\n",
    "plt.xlabel('Salary')\n",
    "plt.ylabel('Count of researchers');"
   ]
  },
  {
   "cell_type": "code",
   "execution_count": 37,
   "id": "ef0ab84d-d4a6-44af-8155-23fcfce21fac",
   "metadata": {},
   "outputs": [],
   "source": [
    "upper_bound = 6000\n",
    "lower_bound = 9000\n",
    "# applying clamping \n",
    "data['bounded_salary'] = data['salary'].clip(lower=lower_bound, upper=lower_bound)"
   ]
  },
  {
   "cell_type": "code",
   "execution_count": 38,
   "id": "f6989b3f-e547-4101-8de7-c3a48d3cf98e",
   "metadata": {},
   "outputs": [
    {
     "name": "stdout",
     "output_type": "stream",
     "text": [
      "Noisy sum of the researchers's salary: 4585336.463318533 with error: 0.83%\n"
     ]
    }
   ],
   "source": [
    "sensitivity = upper_bound \n",
    "epsilon = 0.1\n",
    "noisy_sum_salary = true_sum_salary + laplace_mechanism(sensitivity, epsilon)\n",
    "print(f\"Noisy sum of the researchers's salary: {noisy_sum_salary} with error: {percentage_error(true_sum_salary, noisy_sum_salary)}%\")"
   ]
  },
  {
   "cell_type": "code",
   "execution_count": 47,
   "id": "5bf18c98-7d7e-40c5-898b-ead65a48c6f8",
   "metadata": {},
   "outputs": [
    {
     "data": {
      "image/png": "[encoded data removed]",
      "text/plain": [
       "<Figure size 432x288 with 1 Axes>"
      ]
     },
     "metadata": {
      "needs_background": "light"
     },
     "output_type": "display_data"
    }
   ],
   "source": [
    "epsilons = [0.01, 0.1, 0.5, 1]\n",
    "errors = []\n",
    "dp_results = {}\n",
    "dp_results[\"true_sum\"] = [true_sum_salary]\n",
    "\n",
    "for epsilon in epsilons:\n",
    "    noisy_sum_salary = true_sum_salary + laplace_mechanism(sensitivity, epsilon)\n",
    "    dp_results[f\"epsilon_{epsilon}\"] = [noisy_sum_salary]\n",
    "    errors.append(percentage_error(true_sum_salary, noisy_sum_salary))\n",
    "\n",
    "# visualie data \n",
    "labels = [\"\"]\n",
    "title = f\"Sum of Researchers' salary (data size = {data_size})\"\n",
    "ylabel = \"Sum\"\n",
    "visualise(dp_results, epsilons, errors, ylabel, title, labels, (6, 4))"
   ]
  },
  {
   "cell_type": "markdown",
   "id": "cc0c7500-63ab-4afc-8c8c-9eea68f208a0",
   "metadata": {},
   "source": [
    "#### 3. Mean of the reserachers' salary (post-processing)"
   ]
  },
  {
   "cell_type": "code",
   "execution_count": 51,
   "id": "ed182de6-c3bf-408f-890a-3deae57c9a25",
   "metadata": {},
   "outputs": [
    {
     "name": "stdout",
     "output_type": "stream",
     "text": [
      "True mean of the researchers's salary: 9247.304\n"
     ]
    }
   ],
   "source": [
    "true_mean_salary = true_sum_salary/true_count\n",
    "print(f\"True mean of the researchers's salary: {true_mean_salary}\")"
   ]
  },
  {
   "cell_type": "code",
   "execution_count": 52,
   "id": "b8312437-62e4-4738-babf-cd00c3c579e4",
   "metadata": {},
   "outputs": [
    {
     "name": "stdout",
     "output_type": "stream",
     "text": [
      "Noisy mean of the researchers's salary: 9216.607412972606 with error: 0.33%\n"
     ]
    }
   ],
   "source": [
    "noisy_mean_salary = noisy_sum_salary/noisy_count\n",
    "print(f\"Noisy mean of the researchers's salary: {noisy_mean_salary} with error: {percentage_error(true_mean_salary, noisy_mean_salary)}%\")"
   ]
  },
  {
   "cell_type": "markdown",
   "id": "bbabb7f2-b3ec-4ebe-a32f-8b9bab9d7116",
   "metadata": {},
   "source": [
    "## Parallel composition \n",
    "\n",
    "Parallel composition is based on the idea of splitting your dataset into disjoint chunks and running a differentially private mechanism on each chunk separately. Since the chunks are disjoint, each individual’s data appears in exactly one k chunk - so even if there are  chunks in total (and therefore k runs of the mechanism), the mechanism runs exactly once on the data of each individual."
   ]
  },
  {
   "cell_type": "markdown",
   "id": "f7884269-3259-4a81-8305-cab399a76b22",
   "metadata": {},
   "source": [
    "#### 4. Counting the number of researchers by sector\n",
    "\n",
    "We will assume that each researcher belongs to only one sector. \n",
    "\n",
    "Note: If a reseacher belongs to more than one sector than sensivity of the query will increase. Moreover, we need to apply bounds on the maximum sectors a researcher can belong to prevent scaling of the noise. "
   ]
  },
  {
   "cell_type": "markdown",
   "id": "e3723e05-0ce9-49ef-8b06-399e7990b06e",
   "metadata": {},
   "source": [
    "##### **True** count of the researchers by sector"
   ]
  },
  {
   "cell_type": "code",
   "execution_count": 91,
   "id": "cf6f9a8b-28bb-45aa-8857-688533f6f68c",
   "metadata": {},
   "outputs": [
    {
     "data": {
      "text/html": [
       "<div>\n",
       "<style scoped>\n",
       "    .dataframe tbody tr th:only-of-type {\n",
       "        vertical-align: middle;\n",
       "    }\n",
       "\n",
       "    .dataframe tbody tr th {\n",
       "        vertical-align: top;\n",
       "    }\n",
       "\n",
       "    .dataframe thead th {\n",
       "        text-align: right;\n",
       "    }\n",
       "</style>\n",
       "<table border=\"1\" class=\"dataframe\">\n",
       "  <thead>\n",
       "    <tr style=\"text-align: right;\">\n",
       "      <th></th>\n",
       "      <th>sector</th>\n",
       "    </tr>\n",
       "  </thead>\n",
       "  <tbody>\n",
       "    <tr>\n",
       "      <th>Agricultural</th>\n",
       "      <td>137</td>\n",
       "    </tr>\n",
       "    <tr>\n",
       "      <th>Engineering</th>\n",
       "      <td>125</td>\n",
       "    </tr>\n",
       "    <tr>\n",
       "      <th>Aerospace</th>\n",
       "      <td>120</td>\n",
       "    </tr>\n",
       "    <tr>\n",
       "      <th>Healthcare</th>\n",
       "      <td>118</td>\n",
       "    </tr>\n",
       "  </tbody>\n",
       "</table>\n",
       "</div>"
      ],
      "text/plain": [
       "              sector\n",
       "Agricultural     137\n",
       "Engineering      125\n",
       "Aerospace        120\n",
       "Healthcare       118"
      ]
     },
     "execution_count": 91,
     "metadata": {},
     "output_type": "execute_result"
    }
   ],
   "source": [
    "true_counts_by_sector = data['sector'].value_counts().to_frame()\n",
    "true_counts_by_sector"
   ]
  },
  {
   "cell_type": "markdown",
   "id": "29274c10-4ee9-48d9-a57e-562109fca2f2",
   "metadata": {},
   "source": [
    "##### **Private** count of the researchers by sector\n",
    "\n",
    "This analysis has a total privacy loss of the set epsilon value (in this case 1), even though we release many results"
   ]
  },
  {
   "cell_type": "code",
   "execution_count": 87,
   "id": "bf125a0e-3a87-4076-9863-f792f90fb1b9",
   "metadata": {},
   "outputs": [
    {
     "data": {
      "text/html": [
       "<div>\n",
       "<style scoped>\n",
       "    .dataframe tbody tr th:only-of-type {\n",
       "        vertical-align: middle;\n",
       "    }\n",
       "\n",
       "    .dataframe tbody tr th {\n",
       "        vertical-align: top;\n",
       "    }\n",
       "\n",
       "    .dataframe thead th {\n",
       "        text-align: right;\n",
       "    }\n",
       "</style>\n",
       "<table border=\"1\" class=\"dataframe\">\n",
       "  <thead>\n",
       "    <tr style=\"text-align: right;\">\n",
       "      <th></th>\n",
       "      <th>sector</th>\n",
       "    </tr>\n",
       "  </thead>\n",
       "  <tbody>\n",
       "    <tr>\n",
       "      <th>Agricultural</th>\n",
       "      <td>136.304858</td>\n",
       "    </tr>\n",
       "    <tr>\n",
       "      <th>Engineering</th>\n",
       "      <td>124.556058</td>\n",
       "    </tr>\n",
       "    <tr>\n",
       "      <th>Aerospace</th>\n",
       "      <td>120.851831</td>\n",
       "    </tr>\n",
       "    <tr>\n",
       "      <th>Healthcare</th>\n",
       "      <td>116.946520</td>\n",
       "    </tr>\n",
       "  </tbody>\n",
       "</table>\n",
       "</div>"
      ],
      "text/plain": [
       "                  sector\n",
       "Agricultural  136.304858\n",
       "Engineering   124.556058\n",
       "Aerospace     120.851831\n",
       "Healthcare    116.946520"
      ]
     },
     "execution_count": 87,
     "metadata": {},
     "output_type": "execute_result"
    }
   ],
   "source": [
    "# sensitivity of the query is 1 \n",
    "sensitivity = 1 \n",
    "# setting the epsilon \n",
    "epsilon = 1\n",
    "\n",
    "# function to add noise from the laplace distribution\n",
    "add_laplace_noise = lambda true_value: true_value + laplace_mechanism(sensitivity, epsilon)\n",
    "# adding noise\n",
    "private_count_by_sector = data['sector'].value_counts().apply(add_laplace_noise)\n",
    "\n",
    "private_count_by_sector.to_frame()"
   ]
  },
  {
   "cell_type": "markdown",
   "id": "9a0794a7-4193-4bc1-8aec-0df7f8a14283",
   "metadata": {},
   "source": [
    "#### Impact of epsilon on the query's output "
   ]
  },
  {
   "cell_type": "code",
   "execution_count": 92,
   "id": "e13c19eb-1846-467c-8845-35e65a681360",
   "metadata": {},
   "outputs": [],
   "source": [
    "true_counts_by_sector_dict = dict(true_counts_by_sector)"
   ]
  },
  {
   "cell_type": "code",
   "execution_count": 94,
   "id": "c55c69ac-bb1b-4c33-bda8-4755f4f543b9",
   "metadata": {},
   "outputs": [
    {
     "data": {
      "image/png": "[encoded data removed]",
      "text/plain": [
       "<Figure size 864x432 with 1 Axes>"
      ]
     },
     "metadata": {
      "needs_background": "light"
     },
     "output_type": "display_data"
    }
   ],
   "source": [
    "epsilons = [0.01, 0.1, 0.5, 1]\n",
    "errors = []\n",
    "dp_results = {}\n",
    "\n",
    "true_counts_by_sector = counts_by_sector_dict.values()\n",
    "dp_results[\"true_counts_by_sector\"] = true_counts_by_sector\n",
    "num_sectors = len(true_counts_by_sector)\n",
    "\n",
    "for epsilon in epsilons:\n",
    "    noisy_counts_by_sector = [true_count + laplace_mechanism(sensitivity, epsilon) for true_count in true_counts_by_sector]\n",
    "    error = sum([percentage_error(tc, nc) for  tc, nc in zip(true_counts_by_sector, noisy_counts_by_sector)])/num_sectors\n",
    "    dp_results[f\"epsilon_{epsilon}\"] = noisy_counts_by_sector\n",
    "    errors.append(error)\n",
    "\n",
    "# visualise data \n",
    "labels = counts_by_sector_dict.keys() #[\"Aerospace\", \"Agricultural\", \"Engineering\", \"Healthcare\"]\n",
    "title = f\"Count of researchers by sector (data size = {data_size})\"\n",
    "ylabel = \"Count\"\n",
    "visualise(dp_results, epsilons, errors, ylabel, title, labels, (12, 6))"
   ]
  },
  {
   "cell_type": "markdown",
   "id": "606a1775-b953-4f0d-bfaa-29c72d702782",
   "metadata": {},
   "source": [
    "#### 5. Counting the number of researchers by degree and sector"
   ]
  },
  {
   "cell_type": "code",
   "execution_count": 59,
   "id": "f9af7e28-5478-4f61-8657-c9986289001d",
   "metadata": {},
   "outputs": [
    {
     "data": {
      "text/html": [
       "<div>\n",
       "<style scoped>\n",
       "    .dataframe tbody tr th:only-of-type {\n",
       "        vertical-align: middle;\n",
       "    }\n",
       "\n",
       "    .dataframe tbody tr th {\n",
       "        vertical-align: top;\n",
       "    }\n",
       "\n",
       "    .dataframe thead th {\n",
       "        text-align: right;\n",
       "    }\n",
       "</style>\n",
       "<table border=\"1\" class=\"dataframe\">\n",
       "  <thead>\n",
       "    <tr style=\"text-align: right;\">\n",
       "      <th>degree</th>\n",
       "      <th>Bachelors</th>\n",
       "      <th>Masters</th>\n",
       "      <th>Non-degree</th>\n",
       "      <th>PhD</th>\n",
       "      <th>Post-grad</th>\n",
       "    </tr>\n",
       "    <tr>\n",
       "      <th>sector</th>\n",
       "      <th></th>\n",
       "      <th></th>\n",
       "      <th></th>\n",
       "      <th></th>\n",
       "      <th></th>\n",
       "    </tr>\n",
       "  </thead>\n",
       "  <tbody>\n",
       "    <tr>\n",
       "      <th>Aerospace</th>\n",
       "      <td>29</td>\n",
       "      <td>23</td>\n",
       "      <td>24</td>\n",
       "      <td>19</td>\n",
       "      <td>25</td>\n",
       "    </tr>\n",
       "    <tr>\n",
       "      <th>Agricultural</th>\n",
       "      <td>31</td>\n",
       "      <td>22</td>\n",
       "      <td>23</td>\n",
       "      <td>27</td>\n",
       "      <td>34</td>\n",
       "    </tr>\n",
       "    <tr>\n",
       "      <th>Engineering</th>\n",
       "      <td>24</td>\n",
       "      <td>30</td>\n",
       "      <td>16</td>\n",
       "      <td>32</td>\n",
       "      <td>23</td>\n",
       "    </tr>\n",
       "    <tr>\n",
       "      <th>Healthcare</th>\n",
       "      <td>25</td>\n",
       "      <td>20</td>\n",
       "      <td>27</td>\n",
       "      <td>22</td>\n",
       "      <td>24</td>\n",
       "    </tr>\n",
       "  </tbody>\n",
       "</table>\n",
       "</div>"
      ],
      "text/plain": [
       "degree        Bachelors  Masters  Non-degree  PhD  Post-grad\n",
       "sector                                                      \n",
       "Aerospace            29       23          24   19         25\n",
       "Agricultural         31       22          23   27         34\n",
       "Engineering          24       30          16   32         23\n",
       "Healthcare           25       20          27   22         24"
      ]
     },
     "execution_count": 59,
     "metadata": {},
     "output_type": "execute_result"
    }
   ],
   "source": [
    "pd.crosstab(data['sector'], data['degree'])"
   ]
  },
  {
   "cell_type": "code",
   "execution_count": 96,
   "id": "340c7c5e-90b9-4dca-a1fc-3d4b88bffbdc",
   "metadata": {},
   "outputs": [
    {
     "data": {
      "text/html": [
       "<div>\n",
       "<style scoped>\n",
       "    .dataframe tbody tr th:only-of-type {\n",
       "        vertical-align: middle;\n",
       "    }\n",
       "\n",
       "    .dataframe tbody tr th {\n",
       "        vertical-align: top;\n",
       "    }\n",
       "\n",
       "    .dataframe thead th {\n",
       "        text-align: right;\n",
       "    }\n",
       "</style>\n",
       "<table border=\"1\" class=\"dataframe\">\n",
       "  <thead>\n",
       "    <tr style=\"text-align: right;\">\n",
       "      <th>degree</th>\n",
       "      <th>Bachelors</th>\n",
       "      <th>Masters</th>\n",
       "      <th>Non-degree</th>\n",
       "      <th>PhD</th>\n",
       "      <th>Post-grad</th>\n",
       "    </tr>\n",
       "    <tr>\n",
       "      <th>sector</th>\n",
       "      <th></th>\n",
       "      <th></th>\n",
       "      <th></th>\n",
       "      <th></th>\n",
       "      <th></th>\n",
       "    </tr>\n",
       "  </thead>\n",
       "  <tbody>\n",
       "    <tr>\n",
       "      <th>Aerospace</th>\n",
       "      <td>29.171426</td>\n",
       "      <td>24.024759</td>\n",
       "      <td>26.754328</td>\n",
       "      <td>19.074863</td>\n",
       "      <td>23.591288</td>\n",
       "    </tr>\n",
       "    <tr>\n",
       "      <th>Agricultural</th>\n",
       "      <td>33.342040</td>\n",
       "      <td>28.393788</td>\n",
       "      <td>21.646523</td>\n",
       "      <td>25.772956</td>\n",
       "      <td>31.705074</td>\n",
       "    </tr>\n",
       "    <tr>\n",
       "      <th>Engineering</th>\n",
       "      <td>22.891994</td>\n",
       "      <td>29.672902</td>\n",
       "      <td>15.649550</td>\n",
       "      <td>30.327985</td>\n",
       "      <td>22.073158</td>\n",
       "    </tr>\n",
       "    <tr>\n",
       "      <th>Healthcare</th>\n",
       "      <td>26.573824</td>\n",
       "      <td>18.677728</td>\n",
       "      <td>27.190534</td>\n",
       "      <td>22.041202</td>\n",
       "      <td>24.646126</td>\n",
       "    </tr>\n",
       "  </tbody>\n",
       "</table>\n",
       "</div>"
      ],
      "text/plain": [
       "degree        Bachelors    Masters  Non-degree        PhD  Post-grad\n",
       "sector                                                              \n",
       "Aerospace     29.171426  24.024759   26.754328  19.074863  23.591288\n",
       "Agricultural  33.342040  28.393788   21.646523  25.772956  31.705074\n",
       "Engineering   22.891994  29.672902   15.649550  30.327985  22.073158\n",
       "Healthcare    26.573824  18.677728   27.190534  22.041202  24.646126"
      ]
     },
     "execution_count": 96,
     "metadata": {},
     "output_type": "execute_result"
    }
   ],
   "source": [
    "sensitivity = 1 \n",
    "epsilon = 0.5\n",
    "\n",
    "tue_count_by_degree_and_sector = pd.crosstab(data['sector'], data['degree'])\n",
    "add_laplace_noise = lambda x: x + laplace_mechanism(sensitivity, epsilon)\n",
    "tue_count_by_degree_and_sector.applymap(add_laplace_noise)"
   ]
  },
  {
   "cell_type": "markdown",
   "id": "8da5de5d-9ad6-47b9-822a-f3d4fb028a03",
   "metadata": {},
   "source": [
    "### Impact of the dataset size "
   ]
  },
  {
   "cell_type": "code",
   "execution_count": null,
   "id": "68449599-bd61-4928-ac21-8a31d26f898d",
   "metadata": {},
   "outputs": [],
   "source": []
  }
 ],
 "metadata": {
  "kernelspec": {
   "display_name": "Python 3 (ipykernel)",
   "language": "python",
   "name": "python3"
  },
  "language_info": {
   "codemirror_mode": {
    "name": "ipython",
    "version": 3
   },
   "file_extension": ".py",
   "mimetype": "text/x-python",
   "name": "python",
   "nbconvert_exporter": "python",
   "pygments_lexer": "ipython3",
   "version": "3.8.11"
  }
 },
 "nbformat": 4,
 "nbformat_minor": 5
}
