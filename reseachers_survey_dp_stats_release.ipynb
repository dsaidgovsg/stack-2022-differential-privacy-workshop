{
 "cells": [
  {
   "cell_type": "markdown",
   "id": "8509e905-72ba-4718-9c59-3f7ddb7ed389",
   "metadata": {},
   "source": [
    "## Using Differential Privacy for privacy-preserving statistical releases"
   ]
  },
  {
   "cell_type": "markdown",
   "id": "4ea81685-49bd-4ffd-9318-79e6f0a00ec8",
   "metadata": {},
   "source": [
    "![title](images/researchers.jpeg)"
   ]
  },
  {
   "cell_type": "code",
   "execution_count": 1,
   "id": "2a488984-bed2-4f99-9216-d096d0132948",
   "metadata": {},
   "outputs": [],
   "source": [
    "import numpy as np\n",
    "import pandas as pd\n",
    "\n",
    "import seaborn as sns\n",
    "import matplotlib.pyplot as plt"
   ]
  },
  {
   "cell_type": "code",
   "execution_count": 199,
   "id": "f85e101c-255a-4402-9f7e-991eae498080",
   "metadata": {},
   "outputs": [],
   "source": [
    "COLOR_1 = \"#4CB7A5\"\n",
    "COLOR_2 = \"#0198E1\"\n",
    "COLOR_3 = \"#DE3163\"\n",
    "COLOR_MAP = \"Wistia\""
   ]
  },
  {
   "cell_type": "code",
   "execution_count": 8,
   "id": "44a52c96-8b8e-477a-9f49-a66800377fe9",
   "metadata": {},
   "outputs": [],
   "source": [
    "def laplace_mechanism(sensitivity, epsilon):\n",
    "    return np.random.laplace(loc=0, scale=sensitivity/epsilon)"
   ]
  },
  {
   "cell_type": "code",
   "execution_count": 9,
   "id": "a8d039f1-0c70-47f0-b5d1-893d8341406e",
   "metadata": {},
   "outputs": [],
   "source": [
    "def gaussian_mechanism(sensitivity, epsilon, delta):\n",
    "    sigma = np.sqrt(2 * np.log(1.25 / delta)) * sensitivity / epsilon\n",
    "    return np.random.normal(loc=0, scale=sigma)"
   ]
  },
  {
   "cell_type": "code",
   "execution_count": 312,
   "id": "7ddc1fc5-0de6-4c4c-ab52-0f640b3363ce",
   "metadata": {},
   "outputs": [],
   "source": [
    "def percentage_error(true_value, noisy_value):\n",
    "    return round(abs(true_value - noisy_value)/true_value*100, 2)"
   ]
  },
  {
   "cell_type": "code",
   "execution_count": 475,
   "id": "41b72831-cf43-4c53-af16-c83e0897f463",
   "metadata": {},
   "outputs": [],
   "source": [
    "def visualise(dp_results, epsilons, errors, ylabel, title, labels, figsize=(10, 6)):\n",
    "    dp_results = pd.DataFrame(dp_results, index=labels)\n",
    "    # dp_results = dp_results.set_index('labels')\n",
    "    \n",
    "    legend_labels = ['True value']\n",
    "    for epsilon, error in zip(epsilons, errors):\n",
    "        legend_labels.append('ε = ' + str(epsilon) + ' : Error = ' + str(round(error, 1)) + '%')\n",
    "\n",
    "    ax = dp_results.plot.bar(rot=0, figsize=figsize, width=0.8, fontsize=12, colormap = COLOR_MAP)\n",
    "    # ax.ticklabel_format(style='plain')\n",
    "\n",
    "    plt.title(title, fontsize=16)\n",
    "    plt.grid(axis='y', alpha=0.5)\n",
    "    plt.ylabel(ylabel, fontsize = 14)\n",
    "    # plt.xlabel(\"Researchers\", fontsize = 14)\n",
    "    plt.legend(fontsize = 12, labels=legend_labels)\n",
    "    sns.move_legend(ax, \"upper left\", bbox_to_anchor=(1, 1))"
   ]
  },
  {
   "cell_type": "markdown",
   "id": "62d0f441-b67d-468b-8857-f2d6249417a5",
   "metadata": {},
   "source": [
    "## Calulating Queries on Researchers Survey Data"
   ]
  },
  {
   "cell_type": "code",
   "execution_count": 401,
   "id": "262ac056-f280-4134-b433-23d0da6d8aaa",
   "metadata": {},
   "outputs": [
    {
     "data": {
      "text/html": [
       "<div>\n",
       "<style scoped>\n",
       "    .dataframe tbody tr th:only-of-type {\n",
       "        vertical-align: middle;\n",
       "    }\n",
       "\n",
       "    .dataframe tbody tr th {\n",
       "        vertical-align: top;\n",
       "    }\n",
       "\n",
       "    .dataframe thead th {\n",
       "        text-align: right;\n",
       "    }\n",
       "</style>\n",
       "<table border=\"1\" class=\"dataframe\">\n",
       "  <thead>\n",
       "    <tr style=\"text-align: right;\">\n",
       "      <th></th>\n",
       "      <th>NRIC</th>\n",
       "      <th>researcher_name</th>\n",
       "      <th>sector</th>\n",
       "      <th>salary</th>\n",
       "      <th>degree</th>\n",
       "    </tr>\n",
       "  </thead>\n",
       "  <tbody>\n",
       "    <tr>\n",
       "      <th>0</th>\n",
       "      <td>T4632965N</td>\n",
       "      <td>Nicole Kallman</td>\n",
       "      <td>Engineering</td>\n",
       "      <td>5016</td>\n",
       "      <td>Bachelors</td>\n",
       "    </tr>\n",
       "    <tr>\n",
       "      <th>1</th>\n",
       "      <td>T9804006O</td>\n",
       "      <td>Nancy Gonzales</td>\n",
       "      <td>Healthcare</td>\n",
       "      <td>11830</td>\n",
       "      <td>Post-grad</td>\n",
       "    </tr>\n",
       "    <tr>\n",
       "      <th>2</th>\n",
       "      <td>T2934239H</td>\n",
       "      <td>Joseph Rigby</td>\n",
       "      <td>Engineering</td>\n",
       "      <td>8520</td>\n",
       "      <td>Masters</td>\n",
       "    </tr>\n",
       "    <tr>\n",
       "      <th>3</th>\n",
       "      <td>S6248584N</td>\n",
       "      <td>Michelle Sheriff</td>\n",
       "      <td>Healthcare</td>\n",
       "      <td>4354</td>\n",
       "      <td>Bachelors</td>\n",
       "    </tr>\n",
       "    <tr>\n",
       "      <th>4</th>\n",
       "      <td>G8665162J</td>\n",
       "      <td>Lester Odonnell</td>\n",
       "      <td>Healthcare</td>\n",
       "      <td>6871</td>\n",
       "      <td>Bachelors</td>\n",
       "    </tr>\n",
       "  </tbody>\n",
       "</table>\n",
       "</div>"
      ],
      "text/plain": [
       "        NRIC   researcher_name       sector  salary     degree\n",
       "0  T4632965N    Nicole Kallman  Engineering    5016  Bachelors\n",
       "1  T9804006O    Nancy Gonzales   Healthcare   11830  Post-grad\n",
       "2  T2934239H      Joseph Rigby  Engineering    8520    Masters\n",
       "3  S6248584N  Michelle Sheriff   Healthcare    4354  Bachelors\n",
       "4  G8665162J   Lester Odonnell   Healthcare    6871  Bachelors"
      ]
     },
     "execution_count": 401,
     "metadata": {},
     "output_type": "execute_result"
    }
   ],
   "source": [
    "data = pd.read_csv(\"data/simulated_data.csv\")\n",
    "data_size = len(data)\n",
    "data.head()"
   ]
  },
  {
   "cell_type": "markdown",
   "id": "5b9e83f2-3622-4025-b946-129bd05b200c",
   "metadata": {},
   "source": [
    "#### 1. Counting the number of researchers "
   ]
  },
  {
   "cell_type": "markdown",
   "id": "8e82c25b-8b7b-4394-b2e9-996c365d3287",
   "metadata": {},
   "source": [
    "10e-6"
   ]
  },
  {
   "cell_type": "code",
   "execution_count": 402,
   "id": "b17b5e49-877f-487e-be52-60b77131be4b",
   "metadata": {},
   "outputs": [
    {
     "name": "stdout",
     "output_type": "stream",
     "text": [
      "True count of the researchers: 1000\n"
     ]
    }
   ],
   "source": [
    "true_count = len(data['researcher_name'])\n",
    "print(f\"True count of the researchers: {count}\")"
   ]
  },
  {
   "cell_type": "markdown",
   "id": "dd619075-8556-4c3f-8dec-fb5ee85c998f",
   "metadata": {},
   "source": [
    "As a rule of thumb, sensitivity of **count** query is 1. "
   ]
  },
  {
   "cell_type": "code",
   "execution_count": 403,
   "id": "c5b92505-3a1e-46af-9ee9-4647c1f81080",
   "metadata": {},
   "outputs": [
    {
     "name": "stdout",
     "output_type": "stream",
     "text": [
      "Noisy count of the researchers: 990.5622420088712 with error: 0.94%\n"
     ]
    }
   ],
   "source": [
    "sensitivity = 1 \n",
    "epsilon = 0.1\n",
    "noisy_count = true_count + laplace_mechanism(sensitivity, epsilon)\n",
    "# noisy_count_gauss = count + gaussian_mechanism(sensitivity, epsilon, 10e-3)\n",
    "print(f\"Noisy count of the researchers: {noisy_count} with error: {percentage_error(true_count, noisy_count)}%\")\n",
    "# print(f\"Noisy count of the researchers: {noisy_count_gauss} with error: {round(abs(count - noisy_count_gauss)/count*100, 2)}%\")"
   ]
  },
  {
   "cell_type": "code",
   "execution_count": 471,
   "id": "6f48b26e-9538-48ca-8fbe-7d81dcb42bd0",
   "metadata": {},
   "outputs": [
    {
     "data": {
      "image/png": "[encoded data removed]",
      "text/plain": [
       "<Figure size 432x288 with 1 Axes>"
      ]
     },
     "metadata": {
      "needs_background": "light"
     },
     "output_type": "display_data"
    }
   ],
   "source": [
    "epsilons = [0.01, 0.1, 0.5, 1]\n",
    "errors = []\n",
    "dp_results = {}\n",
    "dp_results[\"true_count\"] = [count]\n",
    "\n",
    "for epsilon in epsilons:\n",
    "    noisy_count = count + laplace_mechanism(sensitivity, epsilon)\n",
    "    dp_results[f\"epsilon_{epsilon}\"] = [noisy_count]\n",
    "    errors.append(percentage_error(true_count, noisy_count))\n",
    "\n",
    "# visualie data \n",
    "labels = [\"\"]\n",
    "title = f\"Researchers' count (data size = {data_size})\"\n",
    "ylabel = \"Count\"\n",
    "visualise(dp_results, epsilons, errors, ylabel, title, labels, (6, 4))"
   ]
  },
  {
   "cell_type": "markdown",
   "id": "69540c7d-2afa-48e9-b361-f62a36212f7b",
   "metadata": {
    "tags": []
   },
   "source": [
    "#### 2. Sum of the researchers' salary "
   ]
  },
  {
   "cell_type": "code",
   "execution_count": 405,
   "id": "08d6e820-3574-4165-9002-cd08f795988d",
   "metadata": {},
   "outputs": [
    {
     "name": "stdout",
     "output_type": "stream",
     "text": [
      "True sum of the researchers's salary: 8031772\n"
     ]
    }
   ],
   "source": [
    "true_sum_salary = sum(data['salary'])\n",
    "print(f\"True sum of the researchers's salary: {sum_salary}\")"
   ]
  },
  {
   "cell_type": "markdown",
   "id": "913f74d4-5a3a-49f5-bb42-496c780e3a85",
   "metadata": {},
   "source": [
    "##### Settings the bounds "
   ]
  },
  {
   "cell_type": "code",
   "execution_count": 406,
   "id": "72169038-5972-4ad6-bb83-1cc5d7059a7b",
   "metadata": {},
   "outputs": [
    {
     "data": {
      "image/png": "[encoded data removed]",
      "text/plain": [
       "<Figure size 432x288 with 1 Axes>"
      ]
     },
     "metadata": {
      "needs_background": "light"
     },
     "output_type": "display_data"
    }
   ],
   "source": [
    "sns.histplot(data['salary'], color=COLOR_1)\n",
    "plt.xlabel('Salary')\n",
    "plt.ylabel('Count of researchers');"
   ]
  },
  {
   "cell_type": "code",
   "execution_count": 407,
   "id": "ef0ab84d-d4a6-44af-8155-23fcfce21fac",
   "metadata": {},
   "outputs": [],
   "source": [
    "upper_bound = 6000\n",
    "lower_bound = 9000\n",
    "data['bounded_salary'] = data['salary'].clip(lower=lower_bound, upper=lower_bound)"
   ]
  },
  {
   "cell_type": "code",
   "execution_count": 408,
   "id": "f6989b3f-e547-4101-8de7-c3a48d3cf98e",
   "metadata": {},
   "outputs": [
    {
     "name": "stdout",
     "output_type": "stream",
     "text": [
      "Noisy sum of the researchers's salary: 8119909.636812566 with error: 1.1%\n"
     ]
    }
   ],
   "source": [
    "sensitivity = upper_bound \n",
    "epsilon = 0.1\n",
    "noisy_sum_salary = true_sum_salary + laplace_mechanism(sensitivity, epsilon)\n",
    "print(f\"Noisy sum of the researchers's salary: {noisy_sum_salary} with error: {percentage_error(true_sum_salary, noisy_sum_salary)}%\")"
   ]
  },
  {
   "cell_type": "code",
   "execution_count": 473,
   "id": "5bf18c98-7d7e-40c5-898b-ead65a48c6f8",
   "metadata": {},
   "outputs": [
    {
     "data": {
      "image/png": "[encoded data removed]",
      "text/plain": [
       "<Figure size 432x288 with 1 Axes>"
      ]
     },
     "metadata": {
      "needs_background": "light"
     },
     "output_type": "display_data"
    }
   ],
   "source": [
    "epsilons = [0.01, 0.1, 0.5, 1]\n",
    "errors = []\n",
    "dp_results = {}\n",
    "dp_results[\"true_sum\"] = [true_sum_salary]\n",
    "\n",
    "for epsilon in epsilons:\n",
    "    noisy_sum_salary = true_sum_salary + laplace_mechanism(sensitivity, epsilon)\n",
    "    dp_results[f\"epsilon_{epsilon}\"] = [noisy_sum_salary]\n",
    "    errors.append(percentage_error(true_sum_salary, noisy_sum_salary))\n",
    "\n",
    "# visualie data \n",
    "labels = [\"\"]\n",
    "title = f\"Sum of Researchers' salary (data size = {data_size})\"\n",
    "ylabel = \"Sum\"\n",
    "visualise(dp_results, epsilons, errors, ylabel, title, labels, (6, 4))"
   ]
  },
  {
   "cell_type": "markdown",
   "id": "cc0c7500-63ab-4afc-8c8c-9eea68f208a0",
   "metadata": {},
   "source": [
    "#### 3. Mean of the reserachers' salary (post-processing)"
   ]
  },
  {
   "cell_type": "code",
   "execution_count": 416,
   "id": "ed182de6-c3bf-408f-890a-3deae57c9a25",
   "metadata": {},
   "outputs": [
    {
     "name": "stdout",
     "output_type": "stream",
     "text": [
      "True mean of the researchers's salary: 8031.772\n"
     ]
    }
   ],
   "source": [
    "true_mean_salary = sum_salary/count\n",
    "print(f\"True mean of the researchers's salary: {mean_salary}\")"
   ]
  },
  {
   "cell_type": "code",
   "execution_count": 418,
   "id": "b8312437-62e4-4738-babf-cd00c3c579e4",
   "metadata": {},
   "outputs": [
    {
     "name": "stdout",
     "output_type": "stream",
     "text": [
      "Noisy mean of the researchers's salary: 8054.4954876851725 with error: 0.28%\n"
     ]
    }
   ],
   "source": [
    "noisy_mean_salary = noisy_sum_salary/noisy_count\n",
    "print(f\"Noisy mean of the researchers's salary: {noisy_mean_salary} with error: {percentage_error(true_mean_salary, noisy_mean_salary)}%\")"
   ]
  },
  {
   "cell_type": "markdown",
   "id": "bbabb7f2-b3ec-4ebe-a32f-8b9bab9d7116",
   "metadata": {},
   "source": [
    "## Parallel composition "
   ]
  },
  {
   "cell_type": "markdown",
   "id": "f7884269-3259-4a81-8305-cab399a76b22",
   "metadata": {},
   "source": [
    "#### 4. Counting the number of researchers by sector"
   ]
  },
  {
   "cell_type": "code",
   "execution_count": 425,
   "id": "cf6f9a8b-28bb-45aa-8857-688533f6f68c",
   "metadata": {},
   "outputs": [
    {
     "data": {
      "text/html": [
       "<div>\n",
       "<style scoped>\n",
       "    .dataframe tbody tr th:only-of-type {\n",
       "        vertical-align: middle;\n",
       "    }\n",
       "\n",
       "    .dataframe tbody tr th {\n",
       "        vertical-align: top;\n",
       "    }\n",
       "\n",
       "    .dataframe thead th {\n",
       "        text-align: right;\n",
       "    }\n",
       "</style>\n",
       "<table border=\"1\" class=\"dataframe\">\n",
       "  <thead>\n",
       "    <tr style=\"text-align: right;\">\n",
       "      <th></th>\n",
       "      <th>sector</th>\n",
       "    </tr>\n",
       "  </thead>\n",
       "  <tbody>\n",
       "    <tr>\n",
       "      <th>Agricultural</th>\n",
       "      <td>260</td>\n",
       "    </tr>\n",
       "    <tr>\n",
       "      <th>Engineering</th>\n",
       "      <td>257</td>\n",
       "    </tr>\n",
       "    <tr>\n",
       "      <th>Healthcare</th>\n",
       "      <td>248</td>\n",
       "    </tr>\n",
       "    <tr>\n",
       "      <th>Aerospace</th>\n",
       "      <td>235</td>\n",
       "    </tr>\n",
       "  </tbody>\n",
       "</table>\n",
       "</div>"
      ],
      "text/plain": [
       "              sector\n",
       "Agricultural     260\n",
       "Engineering      257\n",
       "Healthcare       248\n",
       "Aerospace        235"
      ]
     },
     "execution_count": 425,
     "metadata": {},
     "output_type": "execute_result"
    }
   ],
   "source": [
    "data['sector'].value_counts().to_frame()"
   ]
  },
  {
   "cell_type": "code",
   "execution_count": 477,
   "id": "bf125a0e-3a87-4076-9863-f792f90fb1b9",
   "metadata": {},
   "outputs": [
    {
     "data": {
      "text/html": [
       "<div>\n",
       "<style scoped>\n",
       "    .dataframe tbody tr th:only-of-type {\n",
       "        vertical-align: middle;\n",
       "    }\n",
       "\n",
       "    .dataframe tbody tr th {\n",
       "        vertical-align: top;\n",
       "    }\n",
       "\n",
       "    .dataframe thead th {\n",
       "        text-align: right;\n",
       "    }\n",
       "</style>\n",
       "<table border=\"1\" class=\"dataframe\">\n",
       "  <thead>\n",
       "    <tr style=\"text-align: right;\">\n",
       "      <th></th>\n",
       "      <th>sector</th>\n",
       "    </tr>\n",
       "  </thead>\n",
       "  <tbody>\n",
       "    <tr>\n",
       "      <th>Agricultural</th>\n",
       "      <td>261.977278</td>\n",
       "    </tr>\n",
       "    <tr>\n",
       "      <th>Engineering</th>\n",
       "      <td>255.972565</td>\n",
       "    </tr>\n",
       "    <tr>\n",
       "      <th>Healthcare</th>\n",
       "      <td>248.699026</td>\n",
       "    </tr>\n",
       "    <tr>\n",
       "      <th>Aerospace</th>\n",
       "      <td>231.581765</td>\n",
       "    </tr>\n",
       "  </tbody>\n",
       "</table>\n",
       "</div>"
      ],
      "text/plain": [
       "                  sector\n",
       "Agricultural  261.977278\n",
       "Engineering   255.972565\n",
       "Healthcare    248.699026\n",
       "Aerospace     231.581765"
      ]
     },
     "execution_count": 477,
     "metadata": {},
     "output_type": "execute_result"
    }
   ],
   "source": [
    "sensitivity = 1 \n",
    "epsilon = 0.5\n",
    "\n",
    "# This analysis has a total privacy cost of epsilon = 1, even though we release many results!\n",
    "f = lambda x: x + laplace_mechanism(sensitivity, epsilon)\n",
    "s = data['sector'].value_counts().apply(f)\n",
    "s.to_frame().head(5)"
   ]
  },
  {
   "cell_type": "code",
   "execution_count": 433,
   "id": "e13c19eb-1846-467c-8845-35e65a681360",
   "metadata": {},
   "outputs": [],
   "source": [
    "counts_by_sector_dict = dict(data['sector'].value_counts())"
   ]
  },
  {
   "cell_type": "code",
   "execution_count": 474,
   "id": "c55c69ac-bb1b-4c33-bda8-4755f4f543b9",
   "metadata": {},
   "outputs": [
    {
     "data": {
      "image/png": "[encoded data removed]",
      "text/plain": [
       "<Figure size 864x432 with 1 Axes>"
      ]
     },
     "metadata": {
      "needs_background": "light"
     },
     "output_type": "display_data"
    }
   ],
   "source": [
    "epsilons = [0.01, 0.1, 0.5, 1]\n",
    "errors = []\n",
    "dp_results = {}\n",
    "\n",
    "true_counts_by_sector = counts_by_sector_dict.values()\n",
    "dp_results[\"true_counts_by_sector\"] = true_counts_by_sector\n",
    "num_sectors = len(true_counts_by_sector)\n",
    "\n",
    "for epsilon in epsilons:\n",
    "    noisy_counts_by_sector = [true_count + laplace_mechanism(sensitivity, epsilon) for true_count in true_counts_by_sector]\n",
    "    error = sum([percentage_error(tc, nc) for  tc, nc in zip(true_counts_by_sector, noisy_counts_by_sector)])/num_sectors\n",
    "    dp_results[f\"epsilon_{epsilon}\"] = noisy_counts_by_sector\n",
    "    errors.append(error)\n",
    "\n",
    "# visualie data \n",
    "labels = counts_by_sector_dict.keys() #[\"Aerospace\", \"Agricultural\", \"Engineering\", \"Healthcare\"]\n",
    "title = f\"Count of researchers by sector (data size = {data_size})\"\n",
    "ylabel = \"Count\"\n",
    "visualise(dp_results, epsilons, errors, ylabel, title, labels, (12, 6))"
   ]
  },
  {
   "cell_type": "markdown",
   "id": "606a1775-b953-4f0d-bfaa-29c72d702782",
   "metadata": {},
   "source": [
    "#### 5. Counting the number of researchers by degree and sector"
   ]
  },
  {
   "cell_type": "code",
   "execution_count": 83,
   "id": "f9af7e28-5478-4f61-8657-c9986289001d",
   "metadata": {},
   "outputs": [],
   "source": [
    "k = pd.crosstab(data['sector'], data['degree'])"
   ]
  },
  {
   "cell_type": "code",
   "execution_count": 87,
   "id": "4739263b-387b-4db1-9db4-abe44df8f079",
   "metadata": {},
   "outputs": [
    {
     "data": {
      "text/html": [
       "<div>\n",
       "<style scoped>\n",
       "    .dataframe tbody tr th:only-of-type {\n",
       "        vertical-align: middle;\n",
       "    }\n",
       "\n",
       "    .dataframe tbody tr th {\n",
       "        vertical-align: top;\n",
       "    }\n",
       "\n",
       "    .dataframe thead th {\n",
       "        text-align: right;\n",
       "    }\n",
       "</style>\n",
       "<table border=\"1\" class=\"dataframe\">\n",
       "  <thead>\n",
       "    <tr style=\"text-align: right;\">\n",
       "      <th>degree</th>\n",
       "      <th>Bachelors</th>\n",
       "      <th>Masters</th>\n",
       "      <th>Non-degree</th>\n",
       "      <th>PhD</th>\n",
       "      <th>Post-grad</th>\n",
       "    </tr>\n",
       "    <tr>\n",
       "      <th>sector</th>\n",
       "      <th></th>\n",
       "      <th></th>\n",
       "      <th></th>\n",
       "      <th></th>\n",
       "      <th></th>\n",
       "    </tr>\n",
       "  </thead>\n",
       "  <tbody>\n",
       "    <tr>\n",
       "      <th>Aerospace</th>\n",
       "      <td>37</td>\n",
       "      <td>66</td>\n",
       "      <td>47</td>\n",
       "      <td>43</td>\n",
       "      <td>42</td>\n",
       "    </tr>\n",
       "    <tr>\n",
       "      <th>Agricultural</th>\n",
       "      <td>58</td>\n",
       "      <td>49</td>\n",
       "      <td>48</td>\n",
       "      <td>52</td>\n",
       "      <td>53</td>\n",
       "    </tr>\n",
       "    <tr>\n",
       "      <th>Engineering</th>\n",
       "      <td>52</td>\n",
       "      <td>46</td>\n",
       "      <td>53</td>\n",
       "      <td>54</td>\n",
       "      <td>52</td>\n",
       "    </tr>\n",
       "    <tr>\n",
       "      <th>Healthcare</th>\n",
       "      <td>59</td>\n",
       "      <td>47</td>\n",
       "      <td>48</td>\n",
       "      <td>43</td>\n",
       "      <td>51</td>\n",
       "    </tr>\n",
       "  </tbody>\n",
       "</table>\n",
       "</div>"
      ],
      "text/plain": [
       "degree        Bachelors  Masters  Non-degree  PhD  Post-grad\n",
       "sector                                                      \n",
       "Aerospace            37       66          47   43         42\n",
       "Agricultural         58       49          48   52         53\n",
       "Engineering          52       46          53   54         52\n",
       "Healthcare           59       47          48   43         51"
      ]
     },
     "execution_count": 87,
     "metadata": {},
     "output_type": "execute_result"
    }
   ],
   "source": [
    "k "
   ]
  },
  {
   "cell_type": "code",
   "execution_count": 12,
   "id": "340c7c5e-90b9-4dca-a1fc-3d4b88bffbdc",
   "metadata": {},
   "outputs": [
    {
     "data": {
      "text/html": [
       "<div>\n",
       "<style scoped>\n",
       "    .dataframe tbody tr th:only-of-type {\n",
       "        vertical-align: middle;\n",
       "    }\n",
       "\n",
       "    .dataframe tbody tr th {\n",
       "        vertical-align: top;\n",
       "    }\n",
       "\n",
       "    .dataframe thead th {\n",
       "        text-align: right;\n",
       "    }\n",
       "</style>\n",
       "<table border=\"1\" class=\"dataframe\">\n",
       "  <thead>\n",
       "    <tr style=\"text-align: right;\">\n",
       "      <th>degree</th>\n",
       "      <th>Bachelors</th>\n",
       "      <th>Masters</th>\n",
       "      <th>Non-degree</th>\n",
       "      <th>PhD</th>\n",
       "      <th>Post-grad</th>\n",
       "    </tr>\n",
       "    <tr>\n",
       "      <th>sector</th>\n",
       "      <th></th>\n",
       "      <th></th>\n",
       "      <th></th>\n",
       "      <th></th>\n",
       "      <th></th>\n",
       "    </tr>\n",
       "  </thead>\n",
       "  <tbody>\n",
       "    <tr>\n",
       "      <th>Aerospace</th>\n",
       "      <td>37.827867</td>\n",
       "      <td>66.042086</td>\n",
       "      <td>44.997644</td>\n",
       "      <td>43.285872</td>\n",
       "      <td>40.050088</td>\n",
       "    </tr>\n",
       "    <tr>\n",
       "      <th>Agricultural</th>\n",
       "      <td>59.793785</td>\n",
       "      <td>47.385290</td>\n",
       "      <td>48.751147</td>\n",
       "      <td>52.083474</td>\n",
       "      <td>52.955827</td>\n",
       "    </tr>\n",
       "    <tr>\n",
       "      <th>Engineering</th>\n",
       "      <td>51.909444</td>\n",
       "      <td>48.273811</td>\n",
       "      <td>56.243580</td>\n",
       "      <td>53.551813</td>\n",
       "      <td>46.679244</td>\n",
       "    </tr>\n",
       "    <tr>\n",
       "      <th>Healthcare</th>\n",
       "      <td>60.529573</td>\n",
       "      <td>47.440284</td>\n",
       "      <td>46.200875</td>\n",
       "      <td>45.591494</td>\n",
       "      <td>53.366957</td>\n",
       "    </tr>\n",
       "  </tbody>\n",
       "</table>\n",
       "</div>"
      ],
      "text/plain": [
       "degree        Bachelors    Masters  Non-degree        PhD  Post-grad\n",
       "sector                                                              \n",
       "Aerospace     37.827867  66.042086   44.997644  43.285872  40.050088\n",
       "Agricultural  59.793785  47.385290   48.751147  52.083474  52.955827\n",
       "Engineering   51.909444  48.273811   56.243580  53.551813  46.679244\n",
       "Healthcare    60.529573  47.440284   46.200875  45.591494  53.366957"
      ]
     },
     "execution_count": 12,
     "metadata": {},
     "output_type": "execute_result"
    }
   ],
   "source": [
    "sensitivity = 1 \n",
    "epsilon = 0.5\n",
    "\n",
    "ct = pd.crosstab(data['sector'], data['degree'])\n",
    "f = lambda x: x + laplace_mechanism(sensitivity, epsilon)\n",
    "ct.applymap(f)"
   ]
  }
 ],
 "metadata": {
  "kernelspec": {
   "display_name": "Python 3 (ipykernel)",
   "language": "python",
   "name": "python3"
  },
  "language_info": {
   "codemirror_mode": {
    "name": "ipython",
    "version": 3
   },
   "file_extension": ".py",
   "mimetype": "text/x-python",
   "name": "python",
   "nbconvert_exporter": "python",
   "pygments_lexer": "ipython3",
   "version": "3.8.11"
  }
 },
 "nbformat": 4,
 "nbformat_minor": 5
}
