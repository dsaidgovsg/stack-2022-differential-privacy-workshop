{
 "cells": [
  {
   "cell_type": "markdown",
   "id": "8509e905-72ba-4718-9c59-3f7ddb7ed389",
   "metadata": {},
   "source": [
    "## Using Differential Privacy for Privacy-preserving Statistical Releases on Synthetic Suvery Data"
   ]
  },
  {
   "cell_type": "markdown",
   "id": "4ea81685-49bd-4ffd-9318-79e6f0a00ec8",
   "metadata": {},
   "source": [
    "![title](images/researchers.jpeg)\n",
    "\n",
    "This notebook is aimed at demonstrating how to generate and release basic statistical outcomes in differentially private manner. \n",
    "\n",
    "Let's assume NRF has requested A\\*STAR for the following statistics (queries): \n",
    "- Count of researchers \n",
    "- Sum of researchers' salary \n",
    "- Mean of researchers' salary \n",
    "- Count of researchers by sector\n",
    "- Count of researchers by sector and academic degree\n",
    "\n",
    "\n",
    "In this notebook we will limit to **Laplacian Mechanism**, and study the impact of the following:  \n",
    "1. **Epsilon(ε)**: The privacy loss incurred by researchers in the dataset. Larger values indicate less privacy and more accuracy.\n",
    "2. **Sensitivity**: The worst case change in a query's output when a row is removed/added. Noise scales with the sensitivity of a query.\n",
    "3. **Clamping bounds**: Clipping the raw values to the set lower and upper bounds. Noise scales with the size of the bounds\n",
    "4. **Dataset size**: Noise cancels out with larger dataset size. \n",
    "\n",
    "With the above queries we will also be introduced to the concepts of **parallel composition** and **post-processing**.  \n",
    "\n",
    "### Contents \n",
    "\n",
    "1. [Differential Private Mechanisms](#cell1)\n",
    "    * 1.1. [Visualising laplacian distribution ](#cell11)\n",
    "    * 1.2. [Visualising the impact of epsilon on noise scale](#cell12)"
   ]
  },
  {
   "cell_type": "markdown",
   "id": "90dc6a76-1d2a-4eb5-abe0-a93622a3e210",
   "metadata": {},
   "source": [
    "### Imports "
   ]
  },
  {
   "cell_type": "code",
   "execution_count": 1,
   "id": "2a488984-bed2-4f99-9216-d096d0132948",
   "metadata": {},
   "outputs": [],
   "source": [
    "import numpy as np\n",
    "import pandas as pd\n",
    "\n",
    "import seaborn as sns\n",
    "import matplotlib.pyplot as plt"
   ]
  },
  {
   "cell_type": "markdown",
   "id": "622f4661-c8bf-4af9-9058-fe4dad44d8a9",
   "metadata": {},
   "source": [
    "### Differential Private Mechanisms <a id=\"cell1\"></a>"
   ]
  },
  {
   "cell_type": "markdown",
   "id": "56720dc6-dfc2-40a6-8e3a-bd8a938bdca7",
   "metadata": {},
   "source": [
    "## Laplace Mechanism \n",
    "\n",
    "For a function ${f}(x)$ that output's a number for a query, **laplace mechanism** $M(x)$ is given as: \n",
    "\n",
    "$M(x)= {f}(x) + Lap(\\frac{s}{\\epsilon}$)\n",
    "\n",
    "where **$s$** denotes sensitivtity and **$Lap(S)$** denotes sampling a random value from the [laplacian distribution](https://en.wikipedia.org/wiki/Laplace_distribution) with center 0 and scale **$S$** = $\\frac{sensitivity}{epsilon}$.\n",
    "\n",
    "You can notice that the noise scale is directly proportional to sensitivity ($s$) and inversely proportional to epsilon ($\\epsilon$).\n",
    "\n",
    "The laplacian mechanism satisfies the **$\\epsilon$-differential privacy** i.e. pure-differential privacy, meaning, it provides worst case privacy gaurantee to the individuals in the dataset. "
   ]
  },
  {
   "cell_type": "code",
   "execution_count": 2,
   "id": "44a52c96-8b8e-477a-9f49-a66800377fe9",
   "metadata": {},
   "outputs": [],
   "source": [
    "def laplace_mechanism(query, sensitivity, epsilon):\n",
    "    return query + np.random.laplace(loc=0, scale=sensitivity/epsilon)"
   ]
  },
  {
   "cell_type": "markdown",
   "id": "3abf3e77-cd56-4059-a074-b71d138ddada",
   "metadata": {},
   "source": [
    "#### Gaussian Mechanism \n",
    "\n",
    "For a function ${f}(x)$ that output's a number for a query, **gaussian mechanism** $M(x)$ is given as: \n",
    "\n",
    "$M(x)= {f}(x) + \\mathcal{N}(\\sigma^{2})$\n",
    "\n",
    "where $\\sigma^{2} = \\frac{2s^2 \\log(1.25/\\delta)}{\\epsilon^2}$\n",
    "\n",
    "$\\mathcal{N}(\\sigma^{2})$ denotes sampling a random value from the [gaussian distribution](https://en.wikipedia.org/wiki/Normal_distribution) with center 0 and scale **$\\sigma^{2}$**. \n",
    "\n",
    "$s$ is sensitivity  \n",
    "\n",
    "𝛿 is the failue probability \n",
    "- With probability 1−𝛿, we will get the same guarantee as pure differential privacy;\n",
    "- with probability 𝛿, we get no guarantee \n",
    "\n",
    "You can notice that the noise scale is directly proportional to sensitivity ($s$) and inversely proportional to epsilon ($\\epsilon$) and delta ($\\delta$).\n",
    "\n",
    "The gaussian mechanism satisfies the **$(\\epsilon, \\delta)$-differential privacy** i.e. approximate-differential privacy, meaning, it provides relaxed privacy gaurantee. "
   ]
  },
  {
   "cell_type": "code",
   "execution_count": 3,
   "id": "a8d039f1-0c70-47f0-b5d1-893d8341406e",
   "metadata": {},
   "outputs": [],
   "source": [
    "def gaussian_mechanism(query, sensitivity, epsilon, delta):\n",
    "    sigma = np.sqrt(2 * np.log(1.25 / delta)) * sensitivity / epsilon\n",
    "    return query + np.random.normal(loc=0, scale=sigma)"
   ]
  },
  {
   "cell_type": "markdown",
   "id": "921ed731-ef1f-434b-8bc2-0c52dcb79f44",
   "metadata": {},
   "source": [
    "### Utility Functions"
   ]
  },
  {
   "cell_type": "code",
   "execution_count": 4,
   "id": "7ddc1fc5-0de6-4c4c-ab52-0f640b3363ce",
   "metadata": {},
   "outputs": [],
   "source": [
    "# function we will use to compute percentage absolute error \n",
    "def percentage_error(true_value, private_value):\n",
    "    return round(abs(true_value - private_value)/true_value*100, 2)"
   ]
  },
  {
   "cell_type": "code",
   "execution_count": 5,
   "id": "41b72831-cf43-4c53-af16-c83e0897f463",
   "metadata": {},
   "outputs": [],
   "source": [
    "# constants for the visualisations \n",
    "COLOR_1 = \"#4CB7A5\"\n",
    "COLOR_2 = \"#0198E1\"\n",
    "COLOR_3 = \"#DE3163\"\n",
    "COLOR_MAP = \"Wistia\"\n",
    "\n",
    "# function we will use to visualise the impact of sensitivity, epsilon, bounds and dataset size \n",
    "# on the accuracy of a query output\n",
    "def visualise(dp_results, epsilons, errors, ylabel, title, labels, figsize=(10, 6)):\n",
    "    dp_results = pd.DataFrame(dp_results, index=labels)\n",
    "    \n",
    "    legend_labels = ['True value']\n",
    "    for epsilon, error in zip(epsilons, errors):\n",
    "        legend_labels.append('ε = ' + str(epsilon) + ' : Error = ' + str(round(error, 1)) + '%')\n",
    "\n",
    "    ax = dp_results.plot.bar(rot=0, figsize=figsize, width=0.8, fontsize=12, colormap = COLOR_MAP)\n",
    "    \n",
    "    plt.title(title, fontsize=16)\n",
    "    plt.grid(axis='y', alpha=0.5)\n",
    "    plt.ylabel(ylabel, fontsize = 14)\n",
    "    plt.legend(fontsize = 12, labels=legend_labels)\n",
    "    sns.move_legend(ax, \"upper left\", bbox_to_anchor=(1, 1))"
   ]
  },
  {
   "cell_type": "markdown",
   "id": "62d0f441-b67d-468b-8857-f2d6249417a5",
   "metadata": {},
   "source": [
    "### Calulating Queries on Researchers Survey Data"
   ]
  },
  {
   "cell_type": "markdown",
   "id": "b06e855c-8ea9-4005-a5eb-3b3a3fd8d12e",
   "metadata": {},
   "source": [
    "#### Loading the Survey Data"
   ]
  },
  {
   "cell_type": "code",
   "execution_count": 6,
   "id": "262ac056-f280-4134-b433-23d0da6d8aaa",
   "metadata": {},
   "outputs": [
    {
     "name": "stdout",
     "output_type": "stream",
     "text": [
      "Number of rows in the dataset 500\n"
     ]
    },
    {
     "data": {
      "text/html": [
       "<div>\n",
       "<style scoped>\n",
       "    .dataframe tbody tr th:only-of-type {\n",
       "        vertical-align: middle;\n",
       "    }\n",
       "\n",
       "    .dataframe tbody tr th {\n",
       "        vertical-align: top;\n",
       "    }\n",
       "\n",
       "    .dataframe thead th {\n",
       "        text-align: right;\n",
       "    }\n",
       "</style>\n",
       "<table border=\"1\" class=\"dataframe\">\n",
       "  <thead>\n",
       "    <tr style=\"text-align: right;\">\n",
       "      <th></th>\n",
       "      <th>NRIC</th>\n",
       "      <th>researcher_name</th>\n",
       "      <th>sector</th>\n",
       "      <th>salary</th>\n",
       "      <th>degree</th>\n",
       "    </tr>\n",
       "  </thead>\n",
       "  <tbody>\n",
       "    <tr>\n",
       "      <th>0</th>\n",
       "      <td>G5629588W</td>\n",
       "      <td>Justin Smith</td>\n",
       "      <td>Healthcare</td>\n",
       "      <td>7632</td>\n",
       "      <td>Masters</td>\n",
       "    </tr>\n",
       "    <tr>\n",
       "      <th>1</th>\n",
       "      <td>S6111665R</td>\n",
       "      <td>Milton Dunn</td>\n",
       "      <td>Agricultural</td>\n",
       "      <td>13832</td>\n",
       "      <td>Post-grad</td>\n",
       "    </tr>\n",
       "    <tr>\n",
       "      <th>2</th>\n",
       "      <td>S9246827E</td>\n",
       "      <td>Edmund Volante</td>\n",
       "      <td>Agricultural</td>\n",
       "      <td>9010</td>\n",
       "      <td>PhD</td>\n",
       "    </tr>\n",
       "    <tr>\n",
       "      <th>3</th>\n",
       "      <td>T3962425J</td>\n",
       "      <td>Vicki Mcalpine</td>\n",
       "      <td>Aerospace</td>\n",
       "      <td>12823</td>\n",
       "      <td>Non-degree</td>\n",
       "    </tr>\n",
       "    <tr>\n",
       "      <th>4</th>\n",
       "      <td>T2736605S</td>\n",
       "      <td>John Walker</td>\n",
       "      <td>Aerospace</td>\n",
       "      <td>14431</td>\n",
       "      <td>Bachelors</td>\n",
       "    </tr>\n",
       "    <tr>\n",
       "      <th>5</th>\n",
       "      <td>F6320719Z</td>\n",
       "      <td>Connie Thomson</td>\n",
       "      <td>Agricultural</td>\n",
       "      <td>6549</td>\n",
       "      <td>Post-grad</td>\n",
       "    </tr>\n",
       "    <tr>\n",
       "      <th>6</th>\n",
       "      <td>G1978827T</td>\n",
       "      <td>Anna Reynolds</td>\n",
       "      <td>Healthcare</td>\n",
       "      <td>10554</td>\n",
       "      <td>Post-grad</td>\n",
       "    </tr>\n",
       "    <tr>\n",
       "      <th>7</th>\n",
       "      <td>S3962825E</td>\n",
       "      <td>Clare Riley</td>\n",
       "      <td>Agricultural</td>\n",
       "      <td>5626</td>\n",
       "      <td>Non-degree</td>\n",
       "    </tr>\n",
       "    <tr>\n",
       "      <th>8</th>\n",
       "      <td>T5219183N</td>\n",
       "      <td>Carmen Willey</td>\n",
       "      <td>Healthcare</td>\n",
       "      <td>10891</td>\n",
       "      <td>Masters</td>\n",
       "    </tr>\n",
       "    <tr>\n",
       "      <th>9</th>\n",
       "      <td>F2074020T</td>\n",
       "      <td>Edgar Lopez</td>\n",
       "      <td>Engineering</td>\n",
       "      <td>11768</td>\n",
       "      <td>Bachelors</td>\n",
       "    </tr>\n",
       "    <tr>\n",
       "      <th>10</th>\n",
       "      <td>G5797650S</td>\n",
       "      <td>William Badami</td>\n",
       "      <td>Healthcare</td>\n",
       "      <td>11520</td>\n",
       "      <td>Non-degree</td>\n",
       "    </tr>\n",
       "    <tr>\n",
       "      <th>11</th>\n",
       "      <td>S7026614P</td>\n",
       "      <td>Steven Lewis</td>\n",
       "      <td>Aerospace</td>\n",
       "      <td>9473</td>\n",
       "      <td>Masters</td>\n",
       "    </tr>\n",
       "    <tr>\n",
       "      <th>12</th>\n",
       "      <td>F5438403C</td>\n",
       "      <td>Rachel Layden</td>\n",
       "      <td>Healthcare</td>\n",
       "      <td>13768</td>\n",
       "      <td>Post-grad</td>\n",
       "    </tr>\n",
       "    <tr>\n",
       "      <th>13</th>\n",
       "      <td>S5788448Q</td>\n",
       "      <td>Gerald Bowman</td>\n",
       "      <td>Engineering</td>\n",
       "      <td>4354</td>\n",
       "      <td>Masters</td>\n",
       "    </tr>\n",
       "    <tr>\n",
       "      <th>14</th>\n",
       "      <td>G5136614R</td>\n",
       "      <td>Gwendolyn Slaughenhoupt</td>\n",
       "      <td>Aerospace</td>\n",
       "      <td>4147</td>\n",
       "      <td>Bachelors</td>\n",
       "    </tr>\n",
       "    <tr>\n",
       "      <th>15</th>\n",
       "      <td>T8154517Y</td>\n",
       "      <td>James Fowler</td>\n",
       "      <td>Engineering</td>\n",
       "      <td>4802</td>\n",
       "      <td>Non-degree</td>\n",
       "    </tr>\n",
       "    <tr>\n",
       "      <th>16</th>\n",
       "      <td>G4517427I</td>\n",
       "      <td>Alicia Hauck</td>\n",
       "      <td>Agricultural</td>\n",
       "      <td>3981</td>\n",
       "      <td>PhD</td>\n",
       "    </tr>\n",
       "    <tr>\n",
       "      <th>17</th>\n",
       "      <td>F0870537Q</td>\n",
       "      <td>Amy Tate</td>\n",
       "      <td>Engineering</td>\n",
       "      <td>11003</td>\n",
       "      <td>Masters</td>\n",
       "    </tr>\n",
       "    <tr>\n",
       "      <th>18</th>\n",
       "      <td>F5325822W</td>\n",
       "      <td>Dorothy Robbins</td>\n",
       "      <td>Agricultural</td>\n",
       "      <td>4943</td>\n",
       "      <td>Bachelors</td>\n",
       "    </tr>\n",
       "    <tr>\n",
       "      <th>19</th>\n",
       "      <td>S3871183Q</td>\n",
       "      <td>Sarah King</td>\n",
       "      <td>Aerospace</td>\n",
       "      <td>10123</td>\n",
       "      <td>Bachelors</td>\n",
       "    </tr>\n",
       "  </tbody>\n",
       "</table>\n",
       "</div>"
      ],
      "text/plain": [
       "         NRIC          researcher_name        sector  salary      degree\n",
       "0   G5629588W             Justin Smith    Healthcare    7632     Masters\n",
       "1   S6111665R              Milton Dunn  Agricultural   13832   Post-grad\n",
       "2   S9246827E           Edmund Volante  Agricultural    9010         PhD\n",
       "3   T3962425J           Vicki Mcalpine     Aerospace   12823  Non-degree\n",
       "4   T2736605S              John Walker     Aerospace   14431   Bachelors\n",
       "5   F6320719Z           Connie Thomson  Agricultural    6549   Post-grad\n",
       "6   G1978827T            Anna Reynolds    Healthcare   10554   Post-grad\n",
       "7   S3962825E              Clare Riley  Agricultural    5626  Non-degree\n",
       "8   T5219183N            Carmen Willey    Healthcare   10891     Masters\n",
       "9   F2074020T              Edgar Lopez   Engineering   11768   Bachelors\n",
       "10  G5797650S           William Badami    Healthcare   11520  Non-degree\n",
       "11  S7026614P             Steven Lewis     Aerospace    9473     Masters\n",
       "12  F5438403C            Rachel Layden    Healthcare   13768   Post-grad\n",
       "13  S5788448Q            Gerald Bowman   Engineering    4354     Masters\n",
       "14  G5136614R  Gwendolyn Slaughenhoupt     Aerospace    4147   Bachelors\n",
       "15  T8154517Y             James Fowler   Engineering    4802  Non-degree\n",
       "16  G4517427I             Alicia Hauck  Agricultural    3981         PhD\n",
       "17  F0870537Q                 Amy Tate   Engineering   11003     Masters\n",
       "18  F5325822W          Dorothy Robbins  Agricultural    4943   Bachelors\n",
       "19  S3871183Q               Sarah King     Aerospace   10123   Bachelors"
      ]
     },
     "execution_count": 6,
     "metadata": {},
     "output_type": "execute_result"
    }
   ],
   "source": [
    "# reading the csv file \n",
    "data = pd.read_csv(\"data/simulated_data_500.csv\")\n",
    "data_size = len(data)\n",
    "\n",
    "print(f\"Number of rows in the dataset {data_size}\")\n",
    "data.head(20)"
   ]
  },
  {
   "cell_type": "markdown",
   "id": "5b9e83f2-3622-4025-b946-129bd05b200c",
   "metadata": {},
   "source": [
    "#### 1. Counting the number of researchers "
   ]
  },
  {
   "cell_type": "markdown",
   "id": "8e82c25b-8b7b-4394-b2e9-996c365d3287",
   "metadata": {},
   "source": [
    "##### True count"
   ]
  },
  {
   "cell_type": "code",
   "execution_count": 7,
   "id": "b17b5e49-877f-487e-be52-60b77131be4b",
   "metadata": {},
   "outputs": [
    {
     "name": "stdout",
     "output_type": "stream",
     "text": [
      "True count of the researchers: 500\n"
     ]
    }
   ],
   "source": [
    "true_count = len(data['researcher_name'])\n",
    "print(f\"True count of the researchers: {true_count}\")"
   ]
  },
  {
   "cell_type": "markdown",
   "id": "f74da60d-6140-48da-af6f-6a2b84c01d67",
   "metadata": {},
   "source": [
    "##### Private count "
   ]
  },
  {
   "cell_type": "markdown",
   "id": "dd619075-8556-4c3f-8dec-fb5ee85c998f",
   "metadata": {},
   "source": [
    "As a rule of thumb, sensitivity of **count** query is 1. "
   ]
  },
  {
   "cell_type": "code",
   "execution_count": 8,
   "id": "c5b92505-3a1e-46af-9ee9-4647c1f81080",
   "metadata": {},
   "outputs": [
    {
     "name": "stdout",
     "output_type": "stream",
     "text": [
      "Private count of the researchers: 496.3002321918458 with error: 0.74%\n"
     ]
    }
   ],
   "source": [
    "sensitivity = 1 \n",
    "epsilon = 0.1\n",
    "\n",
    "private_count = laplace_mechanism(true_count, sensitivity, epsilon)\n",
    "\n",
    "print(f\"Private count of the researchers: {private_count} with error: {percentage_error(true_count, private_count)}%\")"
   ]
  },
  {
   "cell_type": "markdown",
   "id": "4dc18e69-86c6-4947-be2f-3cd612e9c82f",
   "metadata": {},
   "source": [
    "#### Impact of epsilon on the query's accuracy"
   ]
  },
  {
   "cell_type": "code",
   "execution_count": 9,
   "id": "6f48b26e-9538-48ca-8fbe-7d81dcb42bd0",
   "metadata": {},
   "outputs": [
    {
     "data": {
      "image/png": "[encoded data removed]",
      "text/plain": [
       "<Figure size 432x288 with 1 Axes>"
      ]
     },
     "metadata": {
      "needs_background": "light"
     },
     "output_type": "display_data"
    }
   ],
   "source": [
    "epsilons = [0.01, 0.5, 2, 5]\n",
    "errors = []\n",
    "dp_results = {}\n",
    "dp_results[\"true_count\"] = [true_count]\n",
    "\n",
    "for epsilon in epsilons:\n",
    "    private_count = laplace_mechanism(true_count, sensitivity, epsilon)\n",
    "    dp_results[f\"epsilon_{epsilon}\"] = [private_count]\n",
    "    errors.append(percentage_error(true_count, private_count))\n",
    "\n",
    "# visualise data \n",
    "labels = [\"\"]\n",
    "title = f\"Researchers' count (data size = {data_size})\"\n",
    "ylabel = \"Count\"\n",
    "visualise(dp_results, epsilons, errors, ylabel, title, labels, (6, 4))"
   ]
  },
  {
   "cell_type": "markdown",
   "id": "69540c7d-2afa-48e9-b361-f62a36212f7b",
   "metadata": {
    "tags": []
   },
   "source": [
    "#### 2. Sum of the researchers' salary "
   ]
  },
  {
   "cell_type": "code",
   "execution_count": 10,
   "id": "08d6e820-3574-4165-9002-cd08f795988d",
   "metadata": {},
   "outputs": [
    {
     "name": "stdout",
     "output_type": "stream",
     "text": [
      "True sum of the researchers' salary: 4623652\n"
     ]
    }
   ],
   "source": [
    "true_sum_salary = sum(data['salary'])\n",
    "print(f\"True sum of the researchers' salary: {true_sum_salary}\")"
   ]
  },
  {
   "cell_type": "markdown",
   "id": "913f74d4-5a3a-49f5-bb42-496c780e3a85",
   "metadata": {},
   "source": [
    "#### Settings the bounds \n",
    "\n",
    "Clamping bounds for min and max BERD contributions by a firm \n",
    "The data is clamped to be within min and max bounds in order to limit\n",
    "the influence any one firm has on the query. If these bounds are too \n",
    "tight, the release may be biased, because values outside these bounds\n",
    "are replaced with the nearest bound. On the other hand, if these bounds \n",
    "are too wide, the respective release will have greater variance.\n",
    "   "
   ]
  },
  {
   "cell_type": "code",
   "execution_count": 11,
   "id": "72169038-5972-4ad6-bb83-1cc5d7059a7b",
   "metadata": {},
   "outputs": [
    {
     "data": {
      "image/png": "[encoded data removed]",
      "text/plain": [
       "<Figure size 432x288 with 1 Axes>"
      ]
     },
     "metadata": {
      "needs_background": "light"
     },
     "output_type": "display_data"
    }
   ],
   "source": [
    "sns.histplot(data['salary'], color=COLOR_1)\n",
    "plt.xlabel('Salary')\n",
    "plt.ylabel('Count of researchers');"
   ]
  },
  {
   "cell_type": "code",
   "execution_count": 12,
   "id": "ef0ab84d-d4a6-44af-8155-23fcfce21fac",
   "metadata": {},
   "outputs": [],
   "source": [
    "upper_bound = 6000\n",
    "lower_bound = 9000\n",
    "# applying clamping \n",
    "data['bounded_salary'] = data['salary'].clip(lower=lower_bound, upper=lower_bound)"
   ]
  },
  {
   "cell_type": "code",
   "execution_count": 13,
   "id": "f6989b3f-e547-4101-8de7-c3a48d3cf98e",
   "metadata": {},
   "outputs": [
    {
     "name": "stdout",
     "output_type": "stream",
     "text": [
      "Private sum of the researchers's salary: 4587684.064070455 with error: 0.78%\n"
     ]
    }
   ],
   "source": [
    "sensitivity = upper_bound \n",
    "epsilon = 0.1\n",
    "\n",
    "private_sum_salary = laplace_mechanism(true_sum_salary, sensitivity, epsilon)\n",
    "\n",
    "print(f\"Private sum of the researchers's salary: {private_sum_salary} with error: {percentage_error(true_sum_salary, private_sum_salary)}%\")"
   ]
  },
  {
   "cell_type": "code",
   "execution_count": 14,
   "id": "5bf18c98-7d7e-40c5-898b-ead65a48c6f8",
   "metadata": {},
   "outputs": [
    {
     "data": {
      "image/png": "[encoded data removed]",
      "text/plain": [
       "<Figure size 432x288 with 1 Axes>"
      ]
     },
     "metadata": {
      "needs_background": "light"
     },
     "output_type": "display_data"
    }
   ],
   "source": [
    "epsilons = [0.01, 0.1, 0.5, 1]\n",
    "errors = []\n",
    "dp_results = {}\n",
    "dp_results[\"true_sum\"] = [true_sum_salary]\n",
    "\n",
    "for epsilon in epsilons:\n",
    "    private_sum_salary = laplace_mechanism(true_sum_salary, sensitivity, epsilon)\n",
    "    dp_results[f\"epsilon_{epsilon}\"] = [private_sum_salary]\n",
    "    errors.append(percentage_error(true_sum_salary, private_sum_salary))\n",
    "\n",
    "# visualise data \n",
    "labels = [\"\"]\n",
    "title = f\"Sum of Researchers' salary (data size = {data_size})\"\n",
    "ylabel = \"Sum\"\n",
    "visualise(dp_results, epsilons, errors, ylabel, title, labels, (6, 4))"
   ]
  },
  {
   "cell_type": "markdown",
   "id": "7df225c5-e5cf-44c5-b964-4b5d19c190f8",
   "metadata": {},
   "source": [
    "# SHOW the impact of bounds "
   ]
  },
  {
   "cell_type": "markdown",
   "id": "cc0c7500-63ab-4afc-8c8c-9eea68f208a0",
   "metadata": {},
   "source": [
    "#### 3. Mean of the reserachers' salary (post-processing)"
   ]
  },
  {
   "cell_type": "code",
   "execution_count": 15,
   "id": "ed182de6-c3bf-408f-890a-3deae57c9a25",
   "metadata": {},
   "outputs": [
    {
     "name": "stdout",
     "output_type": "stream",
     "text": [
      "True mean of the researchers's salary: 9247.304\n"
     ]
    }
   ],
   "source": [
    "true_mean_salary = true_sum_salary/true_count\n",
    "print(f\"True mean of the researchers's salary: {true_mean_salary}\")"
   ]
  },
  {
   "cell_type": "code",
   "execution_count": 16,
   "id": "b8312437-62e4-4738-babf-cd00c3c579e4",
   "metadata": {},
   "outputs": [
    {
     "name": "stdout",
     "output_type": "stream",
     "text": [
      "Private mean of the researchers's salary: 9248.502504112574 with error: 0.01%\n"
     ]
    }
   ],
   "source": [
    "private_mean_salary = private_sum_salary/private_count\n",
    "print(f\"Private mean of the researchers's salary: {private_mean_salary} with error: {percentage_error(true_mean_salary, private_mean_salary)}%\")"
   ]
  },
  {
   "cell_type": "markdown",
   "id": "bbabb7f2-b3ec-4ebe-a32f-8b9bab9d7116",
   "metadata": {},
   "source": [
    "## Parallel composition \n",
    "\n",
    "Parallel composition is based on the idea of splitting your dataset into disjoint chunks and running a differentially private mechanism on each chunk separately. Since the chunks are disjoint, each individual’s data appears in exactly one k chunk - so even if there are  chunks in total (and therefore k runs of the mechanism), the mechanism runs exactly once on the data of each individual."
   ]
  },
  {
   "cell_type": "markdown",
   "id": "f7884269-3259-4a81-8305-cab399a76b22",
   "metadata": {},
   "source": [
    "#### 4. Counting the number of researchers by sector\n",
    "\n",
    "We will assume that each researcher belongs to only one sector. \n",
    "\n",
    "Note: If a reseacher belongs to more than one sector than sensivity of the query will increase. Moreover, we need to apply bounds on the maximum sectors a researcher can belong to prevent scaling of the noise. "
   ]
  },
  {
   "cell_type": "markdown",
   "id": "e3723e05-0ce9-49ef-8b06-399e7990b06e",
   "metadata": {},
   "source": [
    "##### **True** count of the researchers by sector"
   ]
  },
  {
   "cell_type": "code",
   "execution_count": 45,
   "id": "cf6f9a8b-28bb-45aa-8857-688533f6f68c",
   "metadata": {},
   "outputs": [
    {
     "data": {
      "text/html": [
       "<div>\n",
       "<style scoped>\n",
       "    .dataframe tbody tr th:only-of-type {\n",
       "        vertical-align: middle;\n",
       "    }\n",
       "\n",
       "    .dataframe tbody tr th {\n",
       "        vertical-align: top;\n",
       "    }\n",
       "\n",
       "    .dataframe thead th {\n",
       "        text-align: right;\n",
       "    }\n",
       "</style>\n",
       "<table border=\"1\" class=\"dataframe\">\n",
       "  <thead>\n",
       "    <tr style=\"text-align: right;\">\n",
       "      <th></th>\n",
       "      <th>sector</th>\n",
       "    </tr>\n",
       "  </thead>\n",
       "  <tbody>\n",
       "    <tr>\n",
       "      <th>Agricultural</th>\n",
       "      <td>137</td>\n",
       "    </tr>\n",
       "    <tr>\n",
       "      <th>Engineering</th>\n",
       "      <td>125</td>\n",
       "    </tr>\n",
       "    <tr>\n",
       "      <th>Aerospace</th>\n",
       "      <td>120</td>\n",
       "    </tr>\n",
       "    <tr>\n",
       "      <th>Healthcare</th>\n",
       "      <td>118</td>\n",
       "    </tr>\n",
       "  </tbody>\n",
       "</table>\n",
       "</div>"
      ],
      "text/plain": [
       "              sector\n",
       "Agricultural     137\n",
       "Engineering      125\n",
       "Aerospace        120\n",
       "Healthcare       118"
      ]
     },
     "execution_count": 45,
     "metadata": {},
     "output_type": "execute_result"
    }
   ],
   "source": [
    "true_counts_by_sector = data['sector'].value_counts().to_frame()\n",
    "true_counts_by_sector"
   ]
  },
  {
   "cell_type": "markdown",
   "id": "29274c10-4ee9-48d9-a57e-562109fca2f2",
   "metadata": {},
   "source": [
    "##### **Private** count of the researchers by sector\n",
    "\n",
    "This analysis has a total privacy loss of the set epsilon value (in this case 1), even though we release many results"
   ]
  },
  {
   "cell_type": "code",
   "execution_count": 46,
   "id": "bf125a0e-3a87-4076-9863-f792f90fb1b9",
   "metadata": {},
   "outputs": [
    {
     "data": {
      "text/html": [
       "<div>\n",
       "<style scoped>\n",
       "    .dataframe tbody tr th:only-of-type {\n",
       "        vertical-align: middle;\n",
       "    }\n",
       "\n",
       "    .dataframe tbody tr th {\n",
       "        vertical-align: top;\n",
       "    }\n",
       "\n",
       "    .dataframe thead th {\n",
       "        text-align: right;\n",
       "    }\n",
       "</style>\n",
       "<table border=\"1\" class=\"dataframe\">\n",
       "  <thead>\n",
       "    <tr style=\"text-align: right;\">\n",
       "      <th></th>\n",
       "      <th>sector</th>\n",
       "    </tr>\n",
       "  </thead>\n",
       "  <tbody>\n",
       "    <tr>\n",
       "      <th>Agricultural</th>\n",
       "      <td>134.178402</td>\n",
       "    </tr>\n",
       "    <tr>\n",
       "      <th>Engineering</th>\n",
       "      <td>125.194374</td>\n",
       "    </tr>\n",
       "    <tr>\n",
       "      <th>Aerospace</th>\n",
       "      <td>119.992018</td>\n",
       "    </tr>\n",
       "    <tr>\n",
       "      <th>Healthcare</th>\n",
       "      <td>121.325059</td>\n",
       "    </tr>\n",
       "  </tbody>\n",
       "</table>\n",
       "</div>"
      ],
      "text/plain": [
       "                  sector\n",
       "Agricultural  134.178402\n",
       "Engineering   125.194374\n",
       "Aerospace     119.992018\n",
       "Healthcare    121.325059"
      ]
     },
     "execution_count": 46,
     "metadata": {},
     "output_type": "execute_result"
    }
   ],
   "source": [
    "# sensitivity of the query is 1 \n",
    "sensitivity = 1 \n",
    "# setting the epsilon \n",
    "epsilon = 1\n",
    "\n",
    "# function to add noise from the laplace distribution\n",
    "add_laplace_noise = lambda true_value: laplace_mechanism(true_value, sensitivity, epsilon)\n",
    "# adding noise\n",
    "private_count_by_sector = data['sector'].value_counts().apply(add_laplace_noise)\n",
    "\n",
    "private_count_by_sector.to_frame()"
   ]
  },
  {
   "cell_type": "markdown",
   "id": "9a0794a7-4193-4bc1-8aec-0df7f8a14283",
   "metadata": {},
   "source": [
    "#### Impact of epsilon on the query's output "
   ]
  },
  {
   "cell_type": "code",
   "execution_count": 47,
   "id": "e13c19eb-1846-467c-8845-35e65a681360",
   "metadata": {},
   "outputs": [
    {
     "data": {
      "text/plain": [
       "{'Agricultural': 137, 'Engineering': 125, 'Aerospace': 120, 'Healthcare': 118}"
      ]
     },
     "execution_count": 47,
     "metadata": {},
     "output_type": "execute_result"
    }
   ],
   "source": [
    "true_counts_by_sector_dict = dict(true_counts_by_sector['sector'])\n",
    "# true_counts_by_sector_dict['Agricultural']\n",
    "true_counts_by_sector_dict"
   ]
  },
  {
   "cell_type": "code",
   "execution_count": 48,
   "id": "c55c69ac-bb1b-4c33-bda8-4755f4f543b9",
   "metadata": {},
   "outputs": [
    {
     "name": "stdout",
     "output_type": "stream",
     "text": [
      "[82.30250000000001, 5.1775, 2.4225, 1.1724999999999999]\n"
     ]
    },
    {
     "data": {
      "image/png": "[encoded data removed]",
      "text/plain": [
       "<Figure size 864x432 with 1 Axes>"
      ]
     },
     "metadata": {
      "needs_background": "light"
     },
     "output_type": "display_data"
    }
   ],
   "source": [
    "epsilons = [0.01, 0.1, 0.5, 1]\n",
    "errors = []\n",
    "dp_results = {}\n",
    "\n",
    "true_counts_by_sector = true_counts_by_sector_dict.values()\n",
    "dp_results[\"true_counts_by_sector\"] = true_counts_by_sector\n",
    "num_sectors = len(true_counts_by_sector)\n",
    "\n",
    "for epsilon in epsilons:\n",
    "    private_counts_by_sector = [laplace_mechanism(true_count, sensitivity, epsilon) for true_count in true_counts_by_sector]\n",
    "    dp_results[f\"epsilon_{epsilon}\"] = private_counts_by_sector\n",
    "    error = sum([percentage_error(tc, pc) for  tc, pc in zip(true_counts_by_sector, private_counts_by_sector)])/num_sectors\n",
    "    errors.append(error)\n",
    "\n",
    "# visualise data \n",
    "labels = true_counts_by_sector_dict.keys() #[\"Aerospace\", \"Agricultural\", \"Engineering\", \"Healthcare\"]\n",
    "title = f\"Count of researchers by sector (data size = {data_size})\"\n",
    "ylabel = \"Count\"\n",
    "\n",
    "print(errors)\n",
    "visualise(dp_results, epsilons, errors, ylabel, title, labels, (12, 6))"
   ]
  },
  {
   "cell_type": "markdown",
   "id": "606a1775-b953-4f0d-bfaa-29c72d702782",
   "metadata": {},
   "source": [
    "#### 5. Counting the number of researchers by degree and sector"
   ]
  },
  {
   "cell_type": "code",
   "execution_count": 30,
   "id": "f9af7e28-5478-4f61-8657-c9986289001d",
   "metadata": {},
   "outputs": [
    {
     "data": {
      "text/html": [
       "<div>\n",
       "<style scoped>\n",
       "    .dataframe tbody tr th:only-of-type {\n",
       "        vertical-align: middle;\n",
       "    }\n",
       "\n",
       "    .dataframe tbody tr th {\n",
       "        vertical-align: top;\n",
       "    }\n",
       "\n",
       "    .dataframe thead th {\n",
       "        text-align: right;\n",
       "    }\n",
       "</style>\n",
       "<table border=\"1\" class=\"dataframe\">\n",
       "  <thead>\n",
       "    <tr style=\"text-align: right;\">\n",
       "      <th>degree</th>\n",
       "      <th>Bachelors</th>\n",
       "      <th>Masters</th>\n",
       "      <th>Non-degree</th>\n",
       "      <th>PhD</th>\n",
       "      <th>Post-grad</th>\n",
       "    </tr>\n",
       "    <tr>\n",
       "      <th>sector</th>\n",
       "      <th></th>\n",
       "      <th></th>\n",
       "      <th></th>\n",
       "      <th></th>\n",
       "      <th></th>\n",
       "    </tr>\n",
       "  </thead>\n",
       "  <tbody>\n",
       "    <tr>\n",
       "      <th>Aerospace</th>\n",
       "      <td>29</td>\n",
       "      <td>23</td>\n",
       "      <td>24</td>\n",
       "      <td>19</td>\n",
       "      <td>25</td>\n",
       "    </tr>\n",
       "    <tr>\n",
       "      <th>Agricultural</th>\n",
       "      <td>31</td>\n",
       "      <td>22</td>\n",
       "      <td>23</td>\n",
       "      <td>27</td>\n",
       "      <td>34</td>\n",
       "    </tr>\n",
       "    <tr>\n",
       "      <th>Engineering</th>\n",
       "      <td>24</td>\n",
       "      <td>30</td>\n",
       "      <td>16</td>\n",
       "      <td>32</td>\n",
       "      <td>23</td>\n",
       "    </tr>\n",
       "    <tr>\n",
       "      <th>Healthcare</th>\n",
       "      <td>25</td>\n",
       "      <td>20</td>\n",
       "      <td>27</td>\n",
       "      <td>22</td>\n",
       "      <td>24</td>\n",
       "    </tr>\n",
       "  </tbody>\n",
       "</table>\n",
       "</div>"
      ],
      "text/plain": [
       "degree        Bachelors  Masters  Non-degree  PhD  Post-grad\n",
       "sector                                                      \n",
       "Aerospace            29       23          24   19         25\n",
       "Agricultural         31       22          23   27         34\n",
       "Engineering          24       30          16   32         23\n",
       "Healthcare           25       20          27   22         24"
      ]
     },
     "execution_count": 30,
     "metadata": {},
     "output_type": "execute_result"
    }
   ],
   "source": [
    "pd.crosstab(data['sector'], data['degree'])"
   ]
  },
  {
   "cell_type": "code",
   "execution_count": 31,
   "id": "340c7c5e-90b9-4dca-a1fc-3d4b88bffbdc",
   "metadata": {},
   "outputs": [
    {
     "data": {
      "text/html": [
       "<div>\n",
       "<style scoped>\n",
       "    .dataframe tbody tr th:only-of-type {\n",
       "        vertical-align: middle;\n",
       "    }\n",
       "\n",
       "    .dataframe tbody tr th {\n",
       "        vertical-align: top;\n",
       "    }\n",
       "\n",
       "    .dataframe thead th {\n",
       "        text-align: right;\n",
       "    }\n",
       "</style>\n",
       "<table border=\"1\" class=\"dataframe\">\n",
       "  <thead>\n",
       "    <tr style=\"text-align: right;\">\n",
       "      <th>degree</th>\n",
       "      <th>Bachelors</th>\n",
       "      <th>Masters</th>\n",
       "      <th>Non-degree</th>\n",
       "      <th>PhD</th>\n",
       "      <th>Post-grad</th>\n",
       "    </tr>\n",
       "    <tr>\n",
       "      <th>sector</th>\n",
       "      <th></th>\n",
       "      <th></th>\n",
       "      <th></th>\n",
       "      <th></th>\n",
       "      <th></th>\n",
       "    </tr>\n",
       "  </thead>\n",
       "  <tbody>\n",
       "    <tr>\n",
       "      <th>Aerospace</th>\n",
       "      <td>29.112717</td>\n",
       "      <td>22.987379</td>\n",
       "      <td>28.867568</td>\n",
       "      <td>18.214731</td>\n",
       "      <td>24.802709</td>\n",
       "    </tr>\n",
       "    <tr>\n",
       "      <th>Agricultural</th>\n",
       "      <td>33.000078</td>\n",
       "      <td>21.445613</td>\n",
       "      <td>26.751272</td>\n",
       "      <td>30.832729</td>\n",
       "      <td>38.648015</td>\n",
       "    </tr>\n",
       "    <tr>\n",
       "      <th>Engineering</th>\n",
       "      <td>25.777203</td>\n",
       "      <td>31.786634</td>\n",
       "      <td>19.919268</td>\n",
       "      <td>31.577088</td>\n",
       "      <td>21.179907</td>\n",
       "    </tr>\n",
       "    <tr>\n",
       "      <th>Healthcare</th>\n",
       "      <td>27.435232</td>\n",
       "      <td>17.044140</td>\n",
       "      <td>25.807760</td>\n",
       "      <td>17.447751</td>\n",
       "      <td>19.702181</td>\n",
       "    </tr>\n",
       "  </tbody>\n",
       "</table>\n",
       "</div>"
      ],
      "text/plain": [
       "degree        Bachelors    Masters  Non-degree        PhD  Post-grad\n",
       "sector                                                              \n",
       "Aerospace     29.112717  22.987379   28.867568  18.214731  24.802709\n",
       "Agricultural  33.000078  21.445613   26.751272  30.832729  38.648015\n",
       "Engineering   25.777203  31.786634   19.919268  31.577088  21.179907\n",
       "Healthcare    27.435232  17.044140   25.807760  17.447751  19.702181"
      ]
     },
     "execution_count": 31,
     "metadata": {},
     "output_type": "execute_result"
    }
   ],
   "source": [
    "sensitivity = 1 \n",
    "epsilon = 0.5\n",
    "\n",
    "true_count_by_degree_and_sector = pd.crosstab(data['sector'], data['degree'])\n",
    "add_laplace_noise = lambda true_value: laplace_mechanism(true_value, sensitivity, epsilon)\n",
    "true_count_by_degree_and_sector.applymap(add_laplace_noise)"
   ]
  },
  {
   "cell_type": "markdown",
   "id": "8da5de5d-9ad6-47b9-822a-f3d4fb028a03",
   "metadata": {},
   "source": [
    "### Impact of the dataset size "
   ]
  },
  {
   "cell_type": "code",
   "execution_count": null,
   "id": "68449599-bd61-4928-ac21-8a31d26f898d",
   "metadata": {},
   "outputs": [],
   "source": []
  }
 ],
 "metadata": {
  "kernelspec": {
   "display_name": "Python 3 (ipykernel)",
   "language": "python",
   "name": "python3"
  },
  "language_info": {
   "codemirror_mode": {
    "name": "ipython",
    "version": 3
   },
   "file_extension": ".py",
   "mimetype": "text/x-python",
   "name": "python",
   "nbconvert_exporter": "python",
   "pygments_lexer": "ipython3",
   "version": "3.8.11"
  }
 },
 "nbformat": 4,
 "nbformat_minor": 5
}
