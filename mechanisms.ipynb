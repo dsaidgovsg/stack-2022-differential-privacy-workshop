{
 "cells": [
  {
   "cell_type": "markdown",
   "id": "4620c953-7435-434c-a6cf-944eaa06aa84",
   "metadata": {},
   "source": [
    "# Basic Mechanisms that Satisfy Differential Privacy Definition\n",
    "\n",
    "Adding random noise to a query's output is the simplest way to achieve differential privacy. The main difficulty is to add just the right amount of noise to satisfy the differential privacy definition without making the output too noisy to be of any use. Some fundamental mechanisms that specify precisely what kind of noise to use and how much to use have been developed in the area of differential privacy to facilitate this process.\n",
    "\n",
    "Two commonly used **mechanisms** we will be covering in this notebook are: \n",
    "- **Laplacian mechanism** that satisfies the pure differential privacy \n",
    "- **Gaussian mechanism** that satisfies the approximate differential privacy\n",
    "\n",
    "### Contents \n",
    "\n",
    "1. [Laplacian mechanism](#cell1)\n",
    "    * 1.1. [Visualising laplacian distribution ](#cell11)\n",
    "    * 1.2. [Visualising the impact of epsilon on noise scale](#cell12)\n",
    "    * 1.3. [Visualising the impact of sensitivity on noise scale](#cell13)\n",
    "2. [Gaussian mechanism](#cell2)\n",
    "    * 2.1. [Visualising gaussian distribution ](#cell21)\n",
    "    * 2.2. [Visualising the impact of epsilon on noise scale](#cell22)\n",
    "    * 2.3. [Visualising the impact of delta on noise scale](#cell23)\n",
    "    * 2.4. [Visualising the impact of sensitivity on noise scale](#cell24) \n",
    "3. [Other mechanisms](#cell3) [TODO]"
   ]
  },
  {
   "cell_type": "markdown",
   "id": "bd990759-ef6e-4921-8e4d-56472328118e",
   "metadata": {},
   "source": [
    "### Imports "
   ]
  },
  {
   "cell_type": "code",
   "execution_count": 1,
   "id": "b47df044-40fa-492e-8975-34ca485bb1d5",
   "metadata": {},
   "outputs": [],
   "source": [
    "import numpy as np\n",
    "import pandas as pd\n",
    "\n",
    "import seaborn as sns\n",
    "import matplotlib.pyplot as plt"
   ]
  },
  {
   "cell_type": "code",
   "execution_count": 2,
   "id": "ab52317a-c238-4251-a2ce-05187b662d89",
   "metadata": {},
   "outputs": [],
   "source": [
    "# constants for visualising graphs\n",
    "colors = [\"#4CB7A5\", \"#0198E1\", \"#DE3163\"]"
   ]
  },
  {
   "cell_type": "markdown",
   "id": "ac898061-c838-4467-875c-6e33c7327ca0",
   "metadata": {},
   "source": [
    "## 1. Laplacian mechanism <a id=\"cell1\"></a>"
   ]
  },
  {
   "cell_type": "markdown",
   "id": "068873fd-8d66-4224-8bcf-5860794f500e",
   "metadata": {},
   "source": [
    "For a function ${f}(x)$ that output's a number for a query, **laplace mechanism** $M(x)$ is given as: \n",
    "\n",
    "$M(x)= {f}(x) + Lap(\\frac{s}{\\epsilon}$)\n",
    "\n",
    "where **$s$** denotes sensitivtity and **$Lap(S)$** denotes sampling a random value from the [laplacian distribution](https://en.wikipedia.org/wiki/Laplace_distribution) with center 0 and scale **$S$** = $\\frac{sensitivity}{epsilon}$.\n",
    "\n",
    "You can notice that the noise scale is directly proportional to sensitivity ($s$) and inversely proportional to epsilon ($\\epsilon$).\n",
    "\n",
    "The laplacian mechanism satisfies the **$\\epsilon$-differential privacy** i.e. pure-differential privacy, meaning, it provides worst case privacy gaurantee to the individuals in the dataset. "
   ]
  },
  {
   "cell_type": "code",
   "execution_count": 3,
   "id": "1495e01f-f996-4b42-8174-90fda8ff275d",
   "metadata": {},
   "outputs": [],
   "source": [
    "def laplace_mechanism(query, sensitivity, epsilon):\n",
    "    return query + np.random.laplace(loc=0, scale=sensitivity/epsilon)"
   ]
  },
  {
   "cell_type": "markdown",
   "id": "4f2b245d-f8d4-4619-b849-e2713c6e1668",
   "metadata": {},
   "source": [
    "### 1.1. Visualising laplacian distribution <a id=\"cell11\"></a>"
   ]
  },
  {
   "cell_type": "code",
   "execution_count": 4,
   "id": "d17c4ece-a08d-4343-bacb-629fc5f2d7a7",
   "metadata": {},
   "outputs": [
    {
     "data": {
      "image/png": "[encoded data removed]",
      "text/plain": [
       "<Figure size 432x288 with 1 Axes>"
      ]
     },
     "metadata": {
      "needs_background": "light"
     },
     "output_type": "display_data"
    }
   ],
   "source": [
    "sensitivity = 100\n",
    "epsilon = 2\n",
    "sns.histplot([laplace_mechanism(0, sensitivity, epsilon) for i in range(10000)], bins=50, element=\"step\", color=colors[0]);"
   ]
  },
  {
   "cell_type": "markdown",
   "id": "acd191e9-bcd1-4500-a929-50163f19c396",
   "metadata": {},
   "source": [
    "### 1.2. Visualising the impact of epsilon on noise scale <a id=\"cell12\"></a>\n",
    "\n",
    "Keeping the sensitivity fixed, we can visualise that the noise scales with smaller values of epsilon. "
   ]
  },
  {
   "cell_type": "code",
   "execution_count": 5,
   "id": "a4f80224-d8ef-416f-b10b-822f2455735b",
   "metadata": {},
   "outputs": [
    {
     "data": {
      "image/png": "[encoded data removed]",
      "text/plain": [
       "<Figure size 432x288 with 1 Axes>"
      ]
     },
     "metadata": {
      "needs_background": "light"
     },
     "output_type": "display_data"
    }
   ],
   "source": [
    "# keeping sensitivity fixed\n",
    "sensitivity = 1\n",
    "\n",
    "# epsilon values\n",
    "epsilons = [0.2, 1, 5]\n",
    "\n",
    "for idx, epsilon in enumerate(epsilons):\n",
    "    # ploting laplacian distribution\n",
    "    sns.histplot([laplace_mechanism(0, sensitivity, epsilon) for i in range(10000)],\n",
    "                 bins=50, element=\"step\", color=colors[idx], label=f\"epsilon (ε) = {epsilon}\");\n",
    "plt.legend();"
   ]
  },
  {
   "cell_type": "markdown",
   "id": "0412dfd1-ca63-4ce7-9cc0-caddee5ef619",
   "metadata": {},
   "source": [
    "### 1.3. Visualising the impact of sensitivity on noise scale <a id=\"cell13\"></a>\n",
    "\n",
    "Keeping the epsilon fixed, we can visualise that the noise scales with increasing sensitivity. "
   ]
  },
  {
   "cell_type": "code",
   "execution_count": 6,
   "id": "732ecbfc-8157-4e7f-9a8f-c0eb642ecbf0",
   "metadata": {},
   "outputs": [
    {
     "data": {
      "image/png": "[encoded data removed]",
      "text/plain": [
       "<Figure size 432x288 with 1 Axes>"
      ]
     },
     "metadata": {
      "needs_background": "light"
     },
     "output_type": "display_data"
    }
   ],
   "source": [
    "# keeping epsilon fixed\n",
    "epsilon = 0.1\n",
    "\n",
    "# sensitivity values\n",
    "sensitivities = [200, 100, 50]\n",
    "\n",
    "for idx, sensitivity in enumerate(sensitivities):\n",
    "    # ploting laplacian distribution\n",
    "    sns.histplot([laplace_mechanism(0, sensitivity, epsilon) for i in range(10000)],\n",
    "                 bins=50, element=\"step\", color=colors[idx], label=f\"sensitivity: {sensitivity}\");\n",
    "plt.legend();"
   ]
  },
  {
   "cell_type": "markdown",
   "id": "eb62c445-d1aa-4433-810d-6fc3d3cceef0",
   "metadata": {},
   "source": [
    "## 2. Gaussian mechanism <a id=\"cell2\"></a>\n",
    "\n",
    "For a function ${f}(x)$ that output's a number for a query, **gaussian mechanism** $M(x)$ is given as: \n",
    "\n",
    "$M(x)= {f}(x) + \\mathcal{N}(\\sigma^{2})$\n",
    "\n",
    "where $\\sigma^{2} = \\frac{2s^2 \\log(1.25/\\delta)}{\\epsilon^2}$\n",
    "\n",
    "$\\mathcal{N}(\\sigma^{2})$ denotes sampling a random value from the [gaussian distribution](https://en.wikipedia.org/wiki/Normal_distribution) with center 0 and scale **$\\sigma^{2}$**. \n",
    "\n",
    "$s$ is sensitivity  \n",
    "\n",
    "𝛿 is the failue probability \n",
    "- With probability 1−𝛿, we will get the same guarantee as pure differential privacy;\n",
    "- with probability 𝛿, we get no guarantee \n",
    "\n",
    "You can notice that the noise scale is directly proportional to sensitivity ($s$) and inversely proportional to epsilon ($\\epsilon$) and delta ($\\delta$).\n",
    "\n",
    "The gaussian mechanism satisfies the **$(\\epsilon, \\delta)$-differential privacy** i.e. approximate-differential privacy, meaning, it provides relaxed privacy gaurantee.  \n"
   ]
  },
  {
   "cell_type": "code",
   "execution_count": 12,
   "id": "94625e21-c8b6-478a-b1ab-fdb2904e190b",
   "metadata": {},
   "outputs": [],
   "source": [
    "def gaussian_mechanism(query, sensitivity, epsilon, delta):\n",
    "    sigma = np.sqrt(2 * np.log(1.25 / delta)) * sensitivity / epsilon\n",
    "    return query + np.random.normal(loc=0, scale=sigma)"
   ]
  },
  {
   "cell_type": "markdown",
   "id": "35773011-72bd-4273-8322-588b2a748445",
   "metadata": {},
   "source": [
    "### 2.1. Visualising the gaussian distribution <a id=\"cell21\"></a>"
   ]
  },
  {
   "cell_type": "code",
   "execution_count": 13,
   "id": "c4b0d466-f892-4ca1-b8b5-2ce334a38939",
   "metadata": {},
   "outputs": [
    {
     "data": {
      "image/png": "[encoded data removed]",
      "text/plain": [
       "<Figure size 432x288 with 1 Axes>"
      ]
     },
     "metadata": {
      "needs_background": "light"
     },
     "output_type": "display_data"
    }
   ],
   "source": [
    "sensitivity = 100\n",
    "epsilon = 2\n",
    "delta = 10e-5\n",
    "sns.histplot([gaussian_mechanism(0, sensitivity, epsilon, delta) for i in range(10000)], bins=50, element=\"step\", color=colors[0]);"
   ]
  },
  {
   "cell_type": "markdown",
   "id": "5b0a420b-47f2-4d21-a45e-5ea492147d70",
   "metadata": {},
   "source": [
    "### 2.2. Visualising the impact of epsilon on noise scale <a id=\"cell22\"></a>\n",
    "\n",
    "Keeping sensitivity and $\\delta$ fixed, we can visualise that the noise scales with smaller values of epsilon. "
   ]
  },
  {
   "cell_type": "code",
   "execution_count": 29,
   "id": "70b26012-d71a-4410-814c-a0564c037bd9",
   "metadata": {},
   "outputs": [
    {
     "data": {
      "text/plain": [
       "<matplotlib.legend.Legend at 0x138f6b8e0>"
      ]
     },
     "execution_count": 29,
     "metadata": {},
     "output_type": "execute_result"
    },
    {
     "data": {
      "image/png": "[encoded data removed]",
      "text/plain": [
       "<Figure size 432x288 with 1 Axes>"
      ]
     },
     "metadata": {
      "needs_background": "light"
     },
     "output_type": "display_data"
    }
   ],
   "source": [
    "# keeping sensitivity fixed\n",
    "sensitivity = 1\n",
    "\n",
    "# keeping delta fixed \n",
    "delta = 10e-5\n",
    "\n",
    "# epsilon values\n",
    "epsilons = [0.2, 1, 5]\n",
    "\n",
    "for idx, e in enumerate(epsilons):\n",
    "    # ploting gaussian distribution\n",
    "    sns.histplot([gaussian_mechanism(0, sensitivity, e, delta) for i in range(10000)],\n",
    "                 bins=50, element=\"step\", color=colors[idx], label=f\"epsilon (ε) = {e}\");\n",
    "plt.legend()"
   ]
  },
  {
   "cell_type": "markdown",
   "id": "82c213ae-7cc9-498c-bc19-68a80f962594",
   "metadata": {},
   "source": [
    "### 2.3. Visualising the impact of delta on noise scale <a id=\"cell23\"></a>\n",
    "\n",
    "Keeping sensitivity and $\\epsilon$ fixed, we can visualise that the noise scales with smaller values of delta ($\\delta$). "
   ]
  },
  {
   "cell_type": "code",
   "execution_count": 28,
   "id": "a45fcdb8-3b5f-4f22-8bf4-77dd99998026",
   "metadata": {},
   "outputs": [
    {
     "data": {
      "text/plain": [
       "<matplotlib.legend.Legend at 0x138ee9b50>"
      ]
     },
     "execution_count": 28,
     "metadata": {},
     "output_type": "execute_result"
    },
    {
     "data": {
      "image/png": "[encoded data removed]",
      "text/plain": [
       "<Figure size 432x288 with 1 Axes>"
      ]
     },
     "metadata": {
      "needs_background": "light"
     },
     "output_type": "display_data"
    }
   ],
   "source": [
    "# keeping sensitivity fixed\n",
    "sensitivity = 1\n",
    "\n",
    "# keeping epsilon fixed \n",
    "epsilon = 0.1\n",
    "\n",
    "# delta values\n",
    "deltas = [10e-6, 10e-4, 10e-2]\n",
    "\n",
    "for idx, d in enumerate(deltas):\n",
    "    # ploting gaussian distribution\n",
    "    sns.histplot([gaussian_mechanism(0, sensitivity, epsilon, d) for i in range(10000)],\n",
    "                 bins=50, element=\"step\", color=colors[idx], label=f\"delta = {d}\");\n",
    "plt.legend()"
   ]
  },
  {
   "cell_type": "markdown",
   "id": "e54e742c-2090-452a-b1d4-7a874a961f73",
   "metadata": {},
   "source": [
    "### 2.4. Visualising the impact of sensitivity on noise scale <a id=\"cell24\"></a>\n",
    "\n",
    "Keeping $\\delta$ and $\\epsilon$ fixed, we can visualise that the noise scales with increasing sensitivity. . "
   ]
  },
  {
   "cell_type": "code",
   "execution_count": 26,
   "id": "78e96494-67b9-45c8-874b-6daea832663b",
   "metadata": {},
   "outputs": [
    {
     "data": {
      "text/plain": [
       "<matplotlib.legend.Legend at 0x138cf8490>"
      ]
     },
     "execution_count": 26,
     "metadata": {},
     "output_type": "execute_result"
    },
    {
     "data": {
      "image/png": "[encoded data removed]",
      "text/plain": [
       "<Figure size 432x288 with 1 Axes>"
      ]
     },
     "metadata": {
      "needs_background": "light"
     },
     "output_type": "display_data"
    }
   ],
   "source": [
    "# keeping epsilon fixed \n",
    "epsilon = 0.1\n",
    "\n",
    "# keeping delta fixed\n",
    "delta = 10e-5\n",
    "\n",
    "# sensitivity values\n",
    "sensitivities = [200, 100, 50]\n",
    "\n",
    "for idx, s in enumerate(sensitivities):\n",
    "    # ploting gaussian distribution\n",
    "    sns.histplot([gaussian_mechanism(0, s, epsilon, delta) for i in range(10000)],\n",
    "                 bins=50, element=\"step\", color=colors[idx], label=f\"sensitiviy = {s}\");\n",
    "plt.legend()"
   ]
  },
  {
   "cell_type": "markdown",
   "id": "1e5905ef-7dff-4669-b138-0e953875000b",
   "metadata": {},
   "source": [
    "## 3. Other mechanisms <a id=\"cell3\"></a>"
   ]
  },
  {
   "cell_type": "code",
   "execution_count": null,
   "id": "24c0fa88-c252-49bc-ba77-465542db68cb",
   "metadata": {},
   "outputs": [],
   "source": []
  }
 ],
 "metadata": {
  "kernelspec": {
   "display_name": "Python 3 (ipykernel)",
   "language": "python",
   "name": "python3"
  },
  "language_info": {
   "codemirror_mode": {
    "name": "ipython",
    "version": 3
   },
   "file_extension": ".py",
   "mimetype": "text/x-python",
   "name": "python",
   "nbconvert_exporter": "python",
   "pygments_lexer": "ipython3",
   "version": "3.8.11"
  }
 },
 "nbformat": 4,
 "nbformat_minor": 5
}
