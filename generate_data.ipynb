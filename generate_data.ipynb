{
 "cells": [
  {
   "cell_type": "markdown",
   "id": "53f1af4b-2109-4717-8350-88c0108effe8",
   "metadata": {},
   "source": [
    "# Synthetic Survey Data Generator"
   ]
  },
  {
   "cell_type": "code",
   "execution_count": 1,
   "id": "d3dcb5d3-c35b-4bce-9fc0-39bf72329726",
   "metadata": {},
   "outputs": [
    {
     "name": "stdout",
     "output_type": "stream",
     "text": [
      "Requirement already satisfied: names in /Users/anshusingh/.pyenv/versions/3.8.11/lib/python3.8/site-packages (0.3.0)\n",
      "\n",
      "\u001b[1m[\u001b[0m\u001b[34;49mnotice\u001b[0m\u001b[1;39;49m]\u001b[0m\u001b[39;49m A new release of pip available: \u001b[0m\u001b[31;49m22.2.2\u001b[0m\u001b[39;49m -> \u001b[0m\u001b[32;49m22.3\u001b[0m\n",
      "\u001b[1m[\u001b[0m\u001b[34;49mnotice\u001b[0m\u001b[1;39;49m]\u001b[0m\u001b[39;49m To update, run: \u001b[0m\u001b[32;49mpip install --upgrade pip\u001b[0m\n",
      "Requirement already satisfied: rstr in /Users/anshusingh/.pyenv/versions/3.8.11/lib/python3.8/site-packages (3.2.0)\n",
      "\n",
      "\u001b[1m[\u001b[0m\u001b[34;49mnotice\u001b[0m\u001b[1;39;49m]\u001b[0m\u001b[39;49m A new release of pip available: \u001b[0m\u001b[31;49m22.2.2\u001b[0m\u001b[39;49m -> \u001b[0m\u001b[32;49m22.3\u001b[0m\n",
      "\u001b[1m[\u001b[0m\u001b[34;49mnotice\u001b[0m\u001b[1;39;49m]\u001b[0m\u001b[39;49m To update, run: \u001b[0m\u001b[32;49mpip install --upgrade pip\u001b[0m\n"
     ]
    }
   ],
   "source": [
    "!pip3 install names\n",
    "!pip3 install rstr"
   ]
  },
  {
   "cell_type": "code",
   "execution_count": 2,
   "id": "ef36ba70-1de5-4aa3-9164-bfb079cabbdc",
   "metadata": {},
   "outputs": [],
   "source": [
    "import random\n",
    "import pandas as pd\n",
    "import numpy as np\n",
    "from scipy.stats import truncnorm\n",
    "# from scipy.stats import skewnorm\n",
    "import seaborn as sns\n",
    "\n",
    "# for random strings generation\n",
    "import rstr\n",
    "\n",
    "# for random names generation\n",
    "import names"
   ]
  },
  {
   "cell_type": "code",
   "execution_count": 3,
   "id": "1093954b-7751-4b9b-85f1-7215f1c39576",
   "metadata": {},
   "outputs": [],
   "source": [
    "# defaults \n",
    "NO_OF_RECORDS = 500\n",
    "FILENAME = \"simulated_data\""
   ]
  },
  {
   "cell_type": "code",
   "execution_count": 4,
   "id": "7fb6a40c-6775-44eb-abca-819b32ceb0c7",
   "metadata": {},
   "outputs": [],
   "source": [
    "# NRIC generator\n",
    "def generate_nric(): \n",
    "    return rstr.xeger(r'^[STFG]\\d{7}[A-Z]$')\n",
    "\n",
    "# for income generation\n",
    "def get_truncated_normal(mean=0, sd=1, low=0, upp=10):\n",
    "    return truncnorm(\n",
    "        (low - mean) / sd, (upp - mean) / sd, loc=mean, scale=sd)"
   ]
  },
  {
   "cell_type": "code",
   "execution_count": 11,
   "id": "e826f525-1921-45f8-a2e6-b25831d54da9",
   "metadata": {},
   "outputs": [],
   "source": [
    "\"\"\"\n",
    "Sample survey data\n",
    "|---------- |-----------------|---------------|--------|-----------|\n",
    "| NRIC      | researcher_name | sector        | income | degree    | \n",
    "|---------- |------------------------------------------------------|\n",
    "| T8270500P | Ted Osborn      | Agricultural  | 6000   | Masters   |\n",
    "| S6754779S | Edith Ward      | Aerospace     | 5000   | Bachelors |\n",
    "| G4976879R | Eric Heard      | Engineering   | 7000   | Masters   |\n",
    "| S4190526H | Franklin Brod   | Healthcare    | 9000   | PhD       |\n",
    "|------------------------------------------------------------------|\n",
    "\n",
    "Types:\n",
    "NRIC: string \n",
    "researcher_name: string \n",
    "sector: string (categorical)\n",
    "income: int \n",
    "degree: int (categorical) \n",
    "\"\"\"\n",
    "\n",
    "# categorical attributes \n",
    "SECTOR_TYPES = [\"Agricultural\", \"Aerospace\", \"Engineering\", \"Healthcare\"] \n",
    "QUALIFICATION_TYPES = [\"PhD\", \"Masters\", \"Bachelors\", \"Non-degree\", \"Post-grad\"]\n",
    "\n",
    "# constants\n",
    "SKEW_PARAM = 2\n",
    "INCOME_RANGE = [3000, 15000]\n",
    "\n",
    "# NATIONALITY_TYPES = [\"SC\", \"PR\", \"FC\"]\n",
    "\n",
    "def create_simulated_data(no_of_records=NO_OF_RECORDS):\n",
    "    simulated_data = pd.DataFrame()\n",
    "    \n",
    "    # NRIC\n",
    "    simulated_data[\"NRIC\"] = [generate_nric() for _ in range(0, no_of_records)]\n",
    "    \n",
    "    # researcher_name\n",
    "    simulated_data[\"researcher_name\"] = [names.get_full_name() for _ in range(0, no_of_records)]\n",
    "    \n",
    "    # sector\n",
    "    simulated_data[\"sector\"] = np.random.choice(SECTOR_TYPES, size=no_of_records) \n",
    "    \n",
    "    # income\n",
    "    income_generator = get_truncated_normal(mean=0, sd=5000, low=INCOME_RANGE[0], upp=INCOME_RANGE[1])\n",
    "    simulated_data[\"income\"] = income_generator.rvs(no_of_records)\n",
    "    simulated_data[\"income\"] = [int(income) for income in simulated_data[\"income\"]]\n",
    "    \n",
    "\n",
    "    # degree\n",
    "    simulated_data[\"degree\"] = np.random.choice(QUALIFICATION_TYPES, size=no_of_records) \n",
    "     \n",
    "    return simulated_data"
   ]
  },
  {
   "cell_type": "code",
   "execution_count": 12,
   "id": "5de49d82-486d-4ba3-8136-813d9eee6f7e",
   "metadata": {},
   "outputs": [],
   "source": [
    "no_of_records = [200, 500, 1000, 10000]\n",
    "for n in no_of_records:\n",
    "    simulated_data = create_simulated_data(n)\n",
    "    simulated_data.to_csv(f\"data/{FILENAME}_{n}.csv\", mode='w', index=False)"
   ]
  },
  {
   "cell_type": "code",
   "execution_count": 13,
   "id": "682ded98-a4b9-4158-ad9b-1116da114e61",
   "metadata": {},
   "outputs": [
    {
     "data": {
      "text/html": [
       "<div>\n",
       "<style scoped>\n",
       "    .dataframe tbody tr th:only-of-type {\n",
       "        vertical-align: middle;\n",
       "    }\n",
       "\n",
       "    .dataframe tbody tr th {\n",
       "        vertical-align: top;\n",
       "    }\n",
       "\n",
       "    .dataframe thead th {\n",
       "        text-align: right;\n",
       "    }\n",
       "</style>\n",
       "<table border=\"1\" class=\"dataframe\">\n",
       "  <thead>\n",
       "    <tr style=\"text-align: right;\">\n",
       "      <th></th>\n",
       "      <th>NRIC</th>\n",
       "      <th>researcher_name</th>\n",
       "      <th>sector</th>\n",
       "      <th>income</th>\n",
       "      <th>degree</th>\n",
       "    </tr>\n",
       "  </thead>\n",
       "  <tbody>\n",
       "    <tr>\n",
       "      <th>0</th>\n",
       "      <td>S7212245T</td>\n",
       "      <td>Ernesto Griffin</td>\n",
       "      <td>Aerospace</td>\n",
       "      <td>4876</td>\n",
       "      <td>Non-degree</td>\n",
       "    </tr>\n",
       "    <tr>\n",
       "      <th>1</th>\n",
       "      <td>F0642125K</td>\n",
       "      <td>Margaret Mays</td>\n",
       "      <td>Healthcare</td>\n",
       "      <td>6685</td>\n",
       "      <td>Non-degree</td>\n",
       "    </tr>\n",
       "    <tr>\n",
       "      <th>2</th>\n",
       "      <td>G2319709V</td>\n",
       "      <td>David Hendryx</td>\n",
       "      <td>Engineering</td>\n",
       "      <td>8337</td>\n",
       "      <td>Masters</td>\n",
       "    </tr>\n",
       "    <tr>\n",
       "      <th>3</th>\n",
       "      <td>F4712075F</td>\n",
       "      <td>John Hagens</td>\n",
       "      <td>Agricultural</td>\n",
       "      <td>3504</td>\n",
       "      <td>Masters</td>\n",
       "    </tr>\n",
       "    <tr>\n",
       "      <th>4</th>\n",
       "      <td>T5654604E</td>\n",
       "      <td>Michael Shaddix</td>\n",
       "      <td>Engineering</td>\n",
       "      <td>5232</td>\n",
       "      <td>Masters</td>\n",
       "    </tr>\n",
       "    <tr>\n",
       "      <th>...</th>\n",
       "      <td>...</td>\n",
       "      <td>...</td>\n",
       "      <td>...</td>\n",
       "      <td>...</td>\n",
       "      <td>...</td>\n",
       "    </tr>\n",
       "    <tr>\n",
       "      <th>9995</th>\n",
       "      <td>F2490729V</td>\n",
       "      <td>Herbert Nimox</td>\n",
       "      <td>Aerospace</td>\n",
       "      <td>5143</td>\n",
       "      <td>PhD</td>\n",
       "    </tr>\n",
       "    <tr>\n",
       "      <th>9996</th>\n",
       "      <td>S9362124H</td>\n",
       "      <td>Aaron Crase</td>\n",
       "      <td>Agricultural</td>\n",
       "      <td>3840</td>\n",
       "      <td>Bachelors</td>\n",
       "    </tr>\n",
       "    <tr>\n",
       "      <th>9997</th>\n",
       "      <td>T9725536O</td>\n",
       "      <td>Anthony Cooper</td>\n",
       "      <td>Agricultural</td>\n",
       "      <td>6458</td>\n",
       "      <td>Non-degree</td>\n",
       "    </tr>\n",
       "    <tr>\n",
       "      <th>9998</th>\n",
       "      <td>G9049833S</td>\n",
       "      <td>Amy Morrical</td>\n",
       "      <td>Agricultural</td>\n",
       "      <td>4734</td>\n",
       "      <td>Bachelors</td>\n",
       "    </tr>\n",
       "    <tr>\n",
       "      <th>9999</th>\n",
       "      <td>F7960068Q</td>\n",
       "      <td>Robert Aguayo</td>\n",
       "      <td>Engineering</td>\n",
       "      <td>10837</td>\n",
       "      <td>Masters</td>\n",
       "    </tr>\n",
       "  </tbody>\n",
       "</table>\n",
       "<p>10000 rows × 5 columns</p>\n",
       "</div>"
      ],
      "text/plain": [
       "           NRIC  researcher_name        sector  income      degree\n",
       "0     S7212245T  Ernesto Griffin     Aerospace    4876  Non-degree\n",
       "1     F0642125K    Margaret Mays    Healthcare    6685  Non-degree\n",
       "2     G2319709V    David Hendryx   Engineering    8337     Masters\n",
       "3     F4712075F      John Hagens  Agricultural    3504     Masters\n",
       "4     T5654604E  Michael Shaddix   Engineering    5232     Masters\n",
       "...         ...              ...           ...     ...         ...\n",
       "9995  F2490729V    Herbert Nimox     Aerospace    5143         PhD\n",
       "9996  S9362124H      Aaron Crase  Agricultural    3840   Bachelors\n",
       "9997  T9725536O   Anthony Cooper  Agricultural    6458  Non-degree\n",
       "9998  G9049833S     Amy Morrical  Agricultural    4734   Bachelors\n",
       "9999  F7960068Q    Robert Aguayo   Engineering   10837     Masters\n",
       "\n",
       "[10000 rows x 5 columns]"
      ]
     },
     "execution_count": 13,
     "metadata": {},
     "output_type": "execute_result"
    }
   ],
   "source": [
    "simulated_data"
   ]
  },
  {
   "cell_type": "markdown",
   "id": "1534e379-a521-487f-94f0-ccab6a5de584",
   "metadata": {},
   "source": [
    "### Income distribution"
   ]
  },
  {
   "cell_type": "code",
   "execution_count": 14,
   "id": "0f8c29df-1605-4534-9669-100dd32e9511",
   "metadata": {},
   "outputs": [
    {
     "data": {
      "text/plain": [
       "<AxesSubplot:xlabel='income', ylabel='Count'>"
      ]
     },
     "execution_count": 14,
     "metadata": {},
     "output_type": "execute_result"
    },
    {
     "data": {
      "image/png": "[encoded data removed]",
      "text/plain": [
       "<Figure size 432x288 with 1 Axes>"
      ]
     },
     "metadata": {
      "needs_background": "light"
     },
     "output_type": "display_data"
    }
   ],
   "source": [
    "sns.histplot(data=simulated_data['income'], binwidth=1000)"
   ]
  }
 ],
 "metadata": {
  "kernelspec": {
   "display_name": "Python 3 (ipykernel)",
   "language": "python",
   "name": "python3"
  },
  "language_info": {
   "codemirror_mode": {
    "name": "ipython",
    "version": 3
   },
   "file_extension": ".py",
   "mimetype": "text/x-python",
   "name": "python",
   "nbconvert_exporter": "python",
   "pygments_lexer": "ipython3",
   "version": "3.8.11"
  }
 },
 "nbformat": 4,
 "nbformat_minor": 5
}
