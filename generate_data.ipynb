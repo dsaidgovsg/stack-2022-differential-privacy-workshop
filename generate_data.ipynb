{
 "cells": [
  {
   "cell_type": "markdown",
   "id": "53f1af4b-2109-4717-8350-88c0108effe8",
   "metadata": {},
   "source": [
    "# Synthetic survey data generator"
   ]
  },
  {
   "cell_type": "code",
   "execution_count": 1,
   "id": "d3dcb5d3-c35b-4bce-9fc0-39bf72329726",
   "metadata": {},
   "outputs": [
    {
     "name": "stdout",
     "output_type": "stream",
     "text": [
      "Requirement already satisfied: names in /Users/anshusingh/.pyenv/versions/3.8.11/lib/python3.8/site-packages (0.3.0)\n",
      "\n",
      "\u001b[1m[\u001b[0m\u001b[34;49mnotice\u001b[0m\u001b[1;39;49m]\u001b[0m\u001b[39;49m A new release of pip available: \u001b[0m\u001b[31;49m22.2.2\u001b[0m\u001b[39;49m -> \u001b[0m\u001b[32;49m22.3\u001b[0m\n",
      "\u001b[1m[\u001b[0m\u001b[34;49mnotice\u001b[0m\u001b[1;39;49m]\u001b[0m\u001b[39;49m To update, run: \u001b[0m\u001b[32;49mpip install --upgrade pip\u001b[0m\n",
      "Requirement already satisfied: rstr in /Users/anshusingh/.pyenv/versions/3.8.11/lib/python3.8/site-packages (3.2.0)\n",
      "\n",
      "\u001b[1m[\u001b[0m\u001b[34;49mnotice\u001b[0m\u001b[1;39;49m]\u001b[0m\u001b[39;49m A new release of pip available: \u001b[0m\u001b[31;49m22.2.2\u001b[0m\u001b[39;49m -> \u001b[0m\u001b[32;49m22.3\u001b[0m\n",
      "\u001b[1m[\u001b[0m\u001b[34;49mnotice\u001b[0m\u001b[1;39;49m]\u001b[0m\u001b[39;49m To update, run: \u001b[0m\u001b[32;49mpip install --upgrade pip\u001b[0m\n"
     ]
    }
   ],
   "source": [
    "!pip3 install names\n",
    "!pip3 install rstr"
   ]
  },
  {
   "cell_type": "code",
   "execution_count": 115,
   "id": "ef36ba70-1de5-4aa3-9164-bfb079cabbdc",
   "metadata": {},
   "outputs": [],
   "source": [
    "import random\n",
    "import pandas as pd\n",
    "import numpy as np\n",
    "from scipy.stats import skewnorm\n",
    "import seaborn as sns\n",
    "\n",
    "# for random strings generation\n",
    "import rstr\n",
    "\n",
    "# for random names generation\n",
    "import names"
   ]
  },
  {
   "cell_type": "code",
   "execution_count": 116,
   "id": "1093954b-7751-4b9b-85f1-7215f1c39576",
   "metadata": {},
   "outputs": [],
   "source": [
    "# defaults \n",
    "NO_OF_RECORDS = 500\n",
    "FILENAME = \"simulated_data\""
   ]
  },
  {
   "cell_type": "code",
   "execution_count": 117,
   "id": "7fb6a40c-6775-44eb-abca-819b32ceb0c7",
   "metadata": {},
   "outputs": [],
   "source": [
    "# NRIC generator\n",
    "def generate_nric(): \n",
    "    return rstr.xeger(r'^[STFG]\\d{7}[A-Z]$')"
   ]
  },
  {
   "cell_type": "code",
   "execution_count": 120,
   "id": "e826f525-1921-45f8-a2e6-b25831d54da9",
   "metadata": {},
   "outputs": [],
   "source": [
    "\"\"\"\n",
    "Sample survey data\n",
    "|---------- |-----------------|---------------|--------|-----------|\n",
    "| NRIC      | researcher_name | sector        | salary | degree    | \n",
    "|---------- |------------------------------------------------------|\n",
    "| T8270500P | Ted Osborn      | Agricultural  | 6000   | Masters   |\n",
    "| S6754779S | Edith Ward      | Aerospace     | 5000   | Bachelors |\n",
    "| G4976879R | Eric Heard      | Engineering   | 7000   | Masters   |\n",
    "| S4190526H | Franklin Brod   | Healthcare    | 9000   | PhD       |\n",
    "|------------------------------------------------------------------|\n",
    "\n",
    "Types:\n",
    "NRIC: string \n",
    "researcher_name: string \n",
    "sector: string (categorical)\n",
    "salary: int \n",
    "degree: int (categorical) \n",
    "\"\"\"\n",
    "\n",
    "# categorical attributes \n",
    "SECTOR_TYPES = [\"Agricultural\", \"Aerospace\", \"Engineering\", \"Healthcare\"] \n",
    "QUALIFICATION_TYPES = [\"PhD\", \"Masters\", \"Bachelors\", \"Non-degree\", \"Post-grad\"]\n",
    "\n",
    "# constants\n",
    "SKEW_PARAM = 2\n",
    "SALARY_RANGE = [4000, 15000]\n",
    "\n",
    "# NATIONALITY_TYPES = [\"SC\", \"PR\", \"FC\"]\n",
    "\n",
    "def create_simulated_data(no_of_records=NO_OF_RECORDS):\n",
    "    simulated_data = pd.DataFrame()\n",
    "    \n",
    "    # NRIC\n",
    "    simulated_data[\"NRIC\"] = [generate_nric() for _ in range(0, no_of_records)]\n",
    "    \n",
    "    # researcher_name\n",
    "    simulated_data[\"researcher_name\"] = [names.get_full_name() for _ in range(0, no_of_records)]\n",
    "    \n",
    "    # sector\n",
    "    simulated_data[\"sector\"] = np.random.choice(SECTOR_TYPES, size=no_of_records) \n",
    "    \n",
    "    # salary\n",
    "    simulated_data[\"salary\"] = abs(skewnorm.rvs(SKEW_PARAM, size=no_of_records))*SALARY_RANGE[0] + SALARY_RANGE[0]\n",
    "    #np.random.randint(SALARY_RANGE[0], SALARY_RANGE[1], size=no_of_records)\n",
    "    # using gamma distribution \n",
    "    # https://en.wikipedia.org/wiki/Gamma_distribution\n",
    "    # simulated_data[\"salary\"] = np.round(np.random.gamma(10, 300, size=no_of_records), 2)\n",
    "\n",
    "    # degree\n",
    "    simulated_data[\"degree\"] = np.random.choice(QUALIFICATION_TYPES, size=no_of_records) \n",
    "     \n",
    "    return simulated_data"
   ]
  },
  {
   "cell_type": "code",
   "execution_count": 123,
   "id": "5de49d82-486d-4ba3-8136-813d9eee6f7e",
   "metadata": {},
   "outputs": [],
   "source": [
    "no_of_records = [200, 500, 1000, 10000]\n",
    "for n in no_of_records:\n",
    "    simulated_data = create_simulated_data(n)\n",
    "    simulated_data.to_csv(f\"data/{FILENAME}_{n}.csv\", mode='w', index=False)"
   ]
  },
  {
   "cell_type": "code",
   "execution_count": 122,
   "id": "682ded98-a4b9-4158-ad9b-1116da114e61",
   "metadata": {},
   "outputs": [
    {
     "data": {
      "text/html": [
       "<div>\n",
       "<style scoped>\n",
       "    .dataframe tbody tr th:only-of-type {\n",
       "        vertical-align: middle;\n",
       "    }\n",
       "\n",
       "    .dataframe tbody tr th {\n",
       "        vertical-align: top;\n",
       "    }\n",
       "\n",
       "    .dataframe thead th {\n",
       "        text-align: right;\n",
       "    }\n",
       "</style>\n",
       "<table border=\"1\" class=\"dataframe\">\n",
       "  <thead>\n",
       "    <tr style=\"text-align: right;\">\n",
       "      <th></th>\n",
       "      <th>NRIC</th>\n",
       "      <th>researcher_name</th>\n",
       "      <th>sector</th>\n",
       "      <th>salary</th>\n",
       "      <th>degree</th>\n",
       "    </tr>\n",
       "  </thead>\n",
       "  <tbody>\n",
       "    <tr>\n",
       "      <th>0</th>\n",
       "      <td>S9268280T</td>\n",
       "      <td>Willie Mize</td>\n",
       "      <td>Aerospace</td>\n",
       "      <td>6203.461818</td>\n",
       "      <td>Bachelors</td>\n",
       "    </tr>\n",
       "    <tr>\n",
       "      <th>1</th>\n",
       "      <td>S4975476Y</td>\n",
       "      <td>Cindy East</td>\n",
       "      <td>Aerospace</td>\n",
       "      <td>6187.320903</td>\n",
       "      <td>Masters</td>\n",
       "    </tr>\n",
       "    <tr>\n",
       "      <th>2</th>\n",
       "      <td>T0086498S</td>\n",
       "      <td>James Nelson</td>\n",
       "      <td>Engineering</td>\n",
       "      <td>8654.193118</td>\n",
       "      <td>Bachelors</td>\n",
       "    </tr>\n",
       "    <tr>\n",
       "      <th>3</th>\n",
       "      <td>S2874305N</td>\n",
       "      <td>Amy Skiver</td>\n",
       "      <td>Agricultural</td>\n",
       "      <td>5205.116851</td>\n",
       "      <td>Bachelors</td>\n",
       "    </tr>\n",
       "    <tr>\n",
       "      <th>4</th>\n",
       "      <td>F1367051X</td>\n",
       "      <td>Roy Duncan</td>\n",
       "      <td>Engineering</td>\n",
       "      <td>11460.761533</td>\n",
       "      <td>Bachelors</td>\n",
       "    </tr>\n",
       "    <tr>\n",
       "      <th>...</th>\n",
       "      <td>...</td>\n",
       "      <td>...</td>\n",
       "      <td>...</td>\n",
       "      <td>...</td>\n",
       "      <td>...</td>\n",
       "    </tr>\n",
       "    <tr>\n",
       "      <th>9995</th>\n",
       "      <td>T2064926G</td>\n",
       "      <td>Margaret Anderson</td>\n",
       "      <td>Engineering</td>\n",
       "      <td>4433.660264</td>\n",
       "      <td>Post-grad</td>\n",
       "    </tr>\n",
       "    <tr>\n",
       "      <th>9996</th>\n",
       "      <td>S4763975W</td>\n",
       "      <td>Lisa Charleston</td>\n",
       "      <td>Agricultural</td>\n",
       "      <td>5952.295431</td>\n",
       "      <td>Non-degree</td>\n",
       "    </tr>\n",
       "    <tr>\n",
       "      <th>9997</th>\n",
       "      <td>F9439971M</td>\n",
       "      <td>Deanna Hill</td>\n",
       "      <td>Aerospace</td>\n",
       "      <td>4309.339768</td>\n",
       "      <td>Bachelors</td>\n",
       "    </tr>\n",
       "    <tr>\n",
       "      <th>9998</th>\n",
       "      <td>G3762017W</td>\n",
       "      <td>Constance Hamrick</td>\n",
       "      <td>Agricultural</td>\n",
       "      <td>9354.935459</td>\n",
       "      <td>Post-grad</td>\n",
       "    </tr>\n",
       "    <tr>\n",
       "      <th>9999</th>\n",
       "      <td>F5548107M</td>\n",
       "      <td>Eric Sampsell</td>\n",
       "      <td>Agricultural</td>\n",
       "      <td>4963.626104</td>\n",
       "      <td>Bachelors</td>\n",
       "    </tr>\n",
       "  </tbody>\n",
       "</table>\n",
       "<p>10000 rows × 5 columns</p>\n",
       "</div>"
      ],
      "text/plain": [
       "           NRIC    researcher_name        sector        salary      degree\n",
       "0     S9268280T        Willie Mize     Aerospace   6203.461818   Bachelors\n",
       "1     S4975476Y         Cindy East     Aerospace   6187.320903     Masters\n",
       "2     T0086498S       James Nelson   Engineering   8654.193118   Bachelors\n",
       "3     S2874305N         Amy Skiver  Agricultural   5205.116851   Bachelors\n",
       "4     F1367051X         Roy Duncan   Engineering  11460.761533   Bachelors\n",
       "...         ...                ...           ...           ...         ...\n",
       "9995  T2064926G  Margaret Anderson   Engineering   4433.660264   Post-grad\n",
       "9996  S4763975W    Lisa Charleston  Agricultural   5952.295431  Non-degree\n",
       "9997  F9439971M        Deanna Hill     Aerospace   4309.339768   Bachelors\n",
       "9998  G3762017W  Constance Hamrick  Agricultural   9354.935459   Post-grad\n",
       "9999  F5548107M      Eric Sampsell  Agricultural   4963.626104   Bachelors\n",
       "\n",
       "[10000 rows x 5 columns]"
      ]
     },
     "execution_count": 122,
     "metadata": {},
     "output_type": "execute_result"
    }
   ],
   "source": [
    "simulated_data"
   ]
  },
  {
   "cell_type": "markdown",
   "id": "1534e379-a521-487f-94f0-ccab6a5de584",
   "metadata": {},
   "source": [
    "### Salary skewed distribution"
   ]
  },
  {
   "cell_type": "code",
   "execution_count": 114,
   "id": "0f8c29df-1605-4534-9669-100dd32e9511",
   "metadata": {},
   "outputs": [
    {
     "data": {
      "text/plain": [
       "<AxesSubplot:xlabel='salary', ylabel='Count'>"
      ]
     },
     "execution_count": 114,
     "metadata": {},
     "output_type": "execute_result"
    },
    {
     "data": {
      "image/png": "[encoded data removed]",
      "text/plain": [
       "<Figure size 432x288 with 1 Axes>"
      ]
     },
     "metadata": {
      "needs_background": "light"
     },
     "output_type": "display_data"
    }
   ],
   "source": [
    "sns.histplot(data=simulated_data['salary'], binwidth=1000)"
   ]
  },
  {
   "cell_type": "code",
   "execution_count": null,
   "id": "d5577337-4988-40c6-81a9-5566a97a2f71",
   "metadata": {},
   "outputs": [],
   "source": []
  }
 ],
 "metadata": {
  "kernelspec": {
   "display_name": "Python 3 (ipykernel)",
   "language": "python",
   "name": "python3"
  },
  "language_info": {
   "codemirror_mode": {
    "name": "ipython",
    "version": 3
   },
   "file_extension": ".py",
   "mimetype": "text/x-python",
   "name": "python",
   "nbconvert_exporter": "python",
   "pygments_lexer": "ipython3",
   "version": "3.8.11"
  }
 },
 "nbformat": 4,
 "nbformat_minor": 5
}
