{
 "cells": [
  {
   "cell_type": "markdown",
   "id": "8509e905-72ba-4718-9c59-3f7ddb7ed389",
   "metadata": {},
   "source": [
    "# Using Differential Privacy for Privacy-preserving Statistical Releases on Synthetic Suvery Data"
   ]
  },
  {
   "cell_type": "markdown",
   "id": "4ea81685-49bd-4ffd-9318-79e6f0a00ec8",
   "metadata": {
    "tags": []
   },
   "source": [
    "<img src=\"images/researchers.jpeg\" width=1000 />\n",
    "\n",
    "This notebook is aimed at demonstrating how to generate and release basic statistical outcomes in differentially private manner. \n",
    "\n",
    "Let's assume NRF has requested A\\*STAR for the following statistics (queries): \n",
    "- Count of researchers \n",
    "- Sum of researchers' income \n",
    "- Mean of researchers' income \n",
    "- Count of researchers by sector\n",
    "- Count of researchers by sector and academic degree\n",
    "\n",
    "A\\*STAR values the privacy of their survey participants, so they want to make sure that the data they release does not reveal anything about specific people. This is a perfect use case for differential privacy: it will allow us to publish useful insights about groups, while protecting data about individuals.\n",
    "\n",
    "The noise added to the computation of a query can depend on the privacy parameters, the type of query, and the data itself. But in many cases, the result will still convey accurate insights about the original data. We wil learn the impact of:  \n",
    "1. **Epsilon(ε)**: The privacy loss incurred by researchers in the dataset. Larger values indicate less privacy and more accuracy.\n",
    "2. **Sensitivity**: The worst case change in a query's output when a row is removed/added. Noise scales with the sensitivity of a query.\n",
    "3. **Clamping bounds**: Clipping the raw values to the set lower and upper bounds. Noise scales with the size of the bounds\n",
    "4. **Dataset size**: Noise cancels out with larger dataset size hence better accuracy. \n",
    "\n",
    "With the above queries we will also be introduced to the concepts of **parallel composition** and **post-processing**.  \n",
    "\n",
    "### Contents \n",
    "\n",
    "1. [Overview of Differential Private Mechanisms](#cell1)\n",
    "    * 1.1. [Laplacian mechanism](#cell11)\n",
    "    * 1.2. [Gaussian mechanism ](#cell12)\n",
    "2. [Utility Functions](#cell2)\n",
    "3. [Computing Queries Using Differential Privacy](#cell3)\n",
    "    * 3.1. [Synthetic survey data](#cell31)\n",
    "    * 3.2. [Count of researchers](#cell32)\n",
    "        * 3.2.1. [Impact of epsilon](#cell321)\n",
    "    * 3.3. [Sum of researchers' income](#cell33)\n",
    "        * 3.3.1. [Impact of epsilon](#cell331)\n",
    "        * 3.3.2. [Impact of clamping bounds](#cell332)\n",
    "    * 3.4. [Mean of researchers' income (with post-processing)](#cell34)\n",
    "    * 3.5. [Count of researchers by sector (with parallel composition)](#cell35)\n",
    "    * 3.6. [Count of researchers by sector and academic degree (with parallel composition)](#cell36)\n",
    "4. [Impact of Dataset Size](#cell4)"
   ]
  },
  {
   "cell_type": "code",
   "execution_count": 1,
   "id": "2a488984-bed2-4f99-9216-d096d0132948",
   "metadata": {},
   "outputs": [],
   "source": [
    "import numpy as np\n",
    "import pandas as pd\n",
    "\n",
    "import seaborn as sns\n",
    "import matplotlib.pyplot as plt"
   ]
  },
  {
   "cell_type": "markdown",
   "id": "622f4661-c8bf-4af9-9058-fe4dad44d8a9",
   "metadata": {},
   "source": [
    "## 1. Overview of Differential Private Mechanisms <a id=\"cell1\"></a>"
   ]
  },
  {
   "cell_type": "markdown",
   "id": "56720dc6-dfc2-40a6-8e3a-bd8a938bdca7",
   "metadata": {},
   "source": [
    "### 1.1. Laplace mechanism <a id=\"cell11\"></a>\n",
    "\n",
    "For a function ${f}(x)$ that output's a number for a query, **laplace mechanism** $M(x)$ is given as: \n",
    "\n",
    "$M(x)= {f}(x) + Lap(\\frac{s}{\\epsilon}$)\n",
    "\n",
    "where **$s$** denotes sensitivtity and **$Lap(\\frac{s}{\\epsilon})$** denotes sampling a random value from the [laplacian distribution](https://en.wikipedia.org/wiki/Laplace_distribution) with center 0 and scale $\\frac{s}{\\epsilon}$.\n",
    "\n",
    "You can notice that the noise scale is directly proportional to sensitivity ($s$) and inversely proportional to epsilon ($\\epsilon$).\n",
    "\n",
    "The laplacian mechanism satisfies the **$\\epsilon$-differential privacy** i.e. pure-differential privacy, meaning, it provides worst case privacy gaurantee to the individuals in the dataset. "
   ]
  },
  {
   "cell_type": "code",
   "execution_count": 2,
   "id": "44a52c96-8b8e-477a-9f49-a66800377fe9",
   "metadata": {},
   "outputs": [],
   "source": [
    "def laplace_mechanism(query, sensitivity, epsilon):\n",
    "    return query + round(np.random.laplace(loc=0, scale=sensitivity/epsilon), 2)"
   ]
  },
  {
   "cell_type": "markdown",
   "id": "3abf3e77-cd56-4059-a074-b71d138ddada",
   "metadata": {},
   "source": [
    "### 1.2. Gaussian mechanism <a id=\"cell12\"></a>\n",
    "\n",
    "For a function ${f}(x)$ that output's a number for a query, **gaussian mechanism** $M(x)$ is given as: \n",
    "\n",
    "$M(x)= {f}(x) + \\mathcal{N}(\\sigma^{2})$\n",
    "\n",
    "where $\\sigma^{2} = \\frac{2s^2 \\log(1.25/\\delta)}{\\epsilon^2}$\n",
    "\n",
    "$\\mathcal{N}(\\sigma^{2})$ denotes sampling a random value from the [gaussian distribution](https://en.wikipedia.org/wiki/Normal_distribution) with center 0 and scale **$\\sigma^{2}$**. \n",
    "\n",
    "$s$ is sensitivity  \n",
    "\n",
    "𝛿 is the failue probability \n",
    "- with probability 1−𝛿, we will get the same guarantee as pure differential privacy;\n",
    "- with probability 𝛿, we get no guarantee \n",
    "\n",
    "You can notice that the noise scale is directly proportional to sensitivity ($s$) and inversely proportional to epsilon ($\\epsilon$) and delta ($\\delta$).\n",
    "\n",
    "The gaussian mechanism satisfies the **$(\\epsilon, \\delta)$-differential privacy** i.e. approximate-differential privacy, meaning, it provides relaxed privacy gaurantee. "
   ]
  },
  {
   "cell_type": "code",
   "execution_count": 3,
   "id": "a8d039f1-0c70-47f0-b5d1-893d8341406e",
   "metadata": {},
   "outputs": [],
   "source": [
    "def gaussian_mechanism(query, sensitivity, epsilon, delta):\n",
    "    sigma = np.sqrt(2 * np.log(1.25 / delta)) * sensitivity / epsilon\n",
    "    return query + np.random.normal(loc=0, scale=sigma)"
   ]
  },
  {
   "cell_type": "markdown",
   "id": "921ed731-ef1f-434b-8bc2-0c52dcb79f44",
   "metadata": {},
   "source": [
    "## 2. Utility Functions <a id=\"cell2\"></a>"
   ]
  },
  {
   "cell_type": "code",
   "execution_count": 4,
   "id": "7ddc1fc5-0de6-4c4c-ab52-0f640b3363ce",
   "metadata": {},
   "outputs": [],
   "source": [
    "# function we will use to compute percentage absolute error \n",
    "def percentage_error(true_value, private_value):\n",
    "    return round(abs(true_value - private_value)/true_value*100, 2)"
   ]
  },
  {
   "cell_type": "code",
   "execution_count": 5,
   "id": "41b72831-cf43-4c53-af16-c83e0897f463",
   "metadata": {},
   "outputs": [],
   "source": [
    "# constants for the visualisations \n",
    "colors = [\"#4CB7A5\", \"#0198E1\", \"#DE3163\"]\n",
    "\n",
    "# function we will use to visualise the impact of sensitivity, epsilon, bounds and dataset size \n",
    "# on the accuracy of a query output\n",
    "def visualise(dp_results, param, param_values, errors, ylabel, title, labels, figsize=(10, 6)):\n",
    "    dp_results = pd.DataFrame(dp_results, index=labels)\n",
    "    \n",
    "    legend_labels = ['True value']\n",
    "    for param_value, error in zip(param_values, errors):\n",
    "        legend_labels.append(f\"{param} = {str(param_value)} : Error = {str(round(error, 1))}%\")\n",
    "\n",
    "    ax = dp_results.plot.bar(rot=0, figsize=figsize, width=0.8, fontsize=12, colormap = \"Wistia\")\n",
    "    \n",
    "    plt.title(title, fontsize=16)\n",
    "    plt.grid(axis='y', alpha=0.5)\n",
    "    plt.ylabel(ylabel, fontsize = 14)\n",
    "    plt.legend(fontsize = 12, labels=legend_labels)\n",
    "    sns.move_legend(ax, \"upper left\", bbox_to_anchor=(1, 1))"
   ]
  },
  {
   "cell_type": "markdown",
   "id": "62d0f441-b67d-468b-8857-f2d6249417a5",
   "metadata": {},
   "source": [
    "## 3. Computing Queries Using Differential Privacy <a id=\"cell3\"></a>"
   ]
  },
  {
   "cell_type": "markdown",
   "id": "b06e855c-8ea9-4005-a5eb-3b3a3fd8d12e",
   "metadata": {},
   "source": [
    "### 3.1. Synthetic survey data <a id=\"cell31\"></a>\n",
    "\n",
    "Now, we need to load our dataset, containing information about the researchers "
   ]
  },
  {
   "cell_type": "code",
   "execution_count": 6,
   "id": "262ac056-f280-4134-b433-23d0da6d8aaa",
   "metadata": {},
   "outputs": [
    {
     "name": "stdout",
     "output_type": "stream",
     "text": [
      "Number of rows in the dataset 500\n"
     ]
    },
    {
     "data": {
      "text/html": [
       "<div>\n",
       "<style scoped>\n",
       "    .dataframe tbody tr th:only-of-type {\n",
       "        vertical-align: middle;\n",
       "    }\n",
       "\n",
       "    .dataframe tbody tr th {\n",
       "        vertical-align: top;\n",
       "    }\n",
       "\n",
       "    .dataframe thead th {\n",
       "        text-align: right;\n",
       "    }\n",
       "</style>\n",
       "<table border=\"1\" class=\"dataframe\">\n",
       "  <thead>\n",
       "    <tr style=\"text-align: right;\">\n",
       "      <th></th>\n",
       "      <th>NRIC</th>\n",
       "      <th>researcher_name</th>\n",
       "      <th>sector</th>\n",
       "      <th>income</th>\n",
       "      <th>degree</th>\n",
       "    </tr>\n",
       "  </thead>\n",
       "  <tbody>\n",
       "    <tr>\n",
       "      <th>0</th>\n",
       "      <td>F7582445S</td>\n",
       "      <td>Richard Westfall</td>\n",
       "      <td>Aerospace</td>\n",
       "      <td>6527</td>\n",
       "      <td>Post-grad</td>\n",
       "    </tr>\n",
       "    <tr>\n",
       "      <th>1</th>\n",
       "      <td>F6351848Q</td>\n",
       "      <td>Brenda Tonn</td>\n",
       "      <td>Healthcare</td>\n",
       "      <td>8383</td>\n",
       "      <td>Non-degree</td>\n",
       "    </tr>\n",
       "    <tr>\n",
       "      <th>2</th>\n",
       "      <td>F0543228O</td>\n",
       "      <td>Juanita Cornwell</td>\n",
       "      <td>Agricultural</td>\n",
       "      <td>8298</td>\n",
       "      <td>Masters</td>\n",
       "    </tr>\n",
       "    <tr>\n",
       "      <th>3</th>\n",
       "      <td>G2869872L</td>\n",
       "      <td>Mary Lagasca</td>\n",
       "      <td>Engineering</td>\n",
       "      <td>3763</td>\n",
       "      <td>PhD</td>\n",
       "    </tr>\n",
       "    <tr>\n",
       "      <th>4</th>\n",
       "      <td>T0323244I</td>\n",
       "      <td>Frederick Patrick</td>\n",
       "      <td>Aerospace</td>\n",
       "      <td>13694</td>\n",
       "      <td>Masters</td>\n",
       "    </tr>\n",
       "    <tr>\n",
       "      <th>5</th>\n",
       "      <td>S8542460T</td>\n",
       "      <td>Paul Engler</td>\n",
       "      <td>Agricultural</td>\n",
       "      <td>3222</td>\n",
       "      <td>Masters</td>\n",
       "    </tr>\n",
       "    <tr>\n",
       "      <th>6</th>\n",
       "      <td>T3274897X</td>\n",
       "      <td>Frances Kinsler</td>\n",
       "      <td>Healthcare</td>\n",
       "      <td>4095</td>\n",
       "      <td>PhD</td>\n",
       "    </tr>\n",
       "    <tr>\n",
       "      <th>7</th>\n",
       "      <td>S8801177R</td>\n",
       "      <td>Leticia Fox</td>\n",
       "      <td>Healthcare</td>\n",
       "      <td>5191</td>\n",
       "      <td>Non-degree</td>\n",
       "    </tr>\n",
       "    <tr>\n",
       "      <th>8</th>\n",
       "      <td>S3833675A</td>\n",
       "      <td>Jose Higa</td>\n",
       "      <td>Healthcare</td>\n",
       "      <td>7598</td>\n",
       "      <td>Masters</td>\n",
       "    </tr>\n",
       "    <tr>\n",
       "      <th>9</th>\n",
       "      <td>G9347179L</td>\n",
       "      <td>Lionel Daily</td>\n",
       "      <td>Healthcare</td>\n",
       "      <td>5310</td>\n",
       "      <td>Masters</td>\n",
       "    </tr>\n",
       "    <tr>\n",
       "      <th>10</th>\n",
       "      <td>T7812546C</td>\n",
       "      <td>Michelle Hixon</td>\n",
       "      <td>Healthcare</td>\n",
       "      <td>7196</td>\n",
       "      <td>Non-degree</td>\n",
       "    </tr>\n",
       "    <tr>\n",
       "      <th>11</th>\n",
       "      <td>T2490150Q</td>\n",
       "      <td>Christina Carden</td>\n",
       "      <td>Engineering</td>\n",
       "      <td>3663</td>\n",
       "      <td>Non-degree</td>\n",
       "    </tr>\n",
       "    <tr>\n",
       "      <th>12</th>\n",
       "      <td>S3998174H</td>\n",
       "      <td>John Meyer</td>\n",
       "      <td>Agricultural</td>\n",
       "      <td>7744</td>\n",
       "      <td>Non-degree</td>\n",
       "    </tr>\n",
       "    <tr>\n",
       "      <th>13</th>\n",
       "      <td>S2187931H</td>\n",
       "      <td>Donald Colarusso</td>\n",
       "      <td>Agricultural</td>\n",
       "      <td>10814</td>\n",
       "      <td>Masters</td>\n",
       "    </tr>\n",
       "    <tr>\n",
       "      <th>14</th>\n",
       "      <td>T7529106Y</td>\n",
       "      <td>Sally Russell</td>\n",
       "      <td>Aerospace</td>\n",
       "      <td>7320</td>\n",
       "      <td>Bachelors</td>\n",
       "    </tr>\n",
       "    <tr>\n",
       "      <th>15</th>\n",
       "      <td>S6016021F</td>\n",
       "      <td>Edgar Rodriquez</td>\n",
       "      <td>Healthcare</td>\n",
       "      <td>7871</td>\n",
       "      <td>Non-degree</td>\n",
       "    </tr>\n",
       "    <tr>\n",
       "      <th>16</th>\n",
       "      <td>F2049187Z</td>\n",
       "      <td>Shaun Mohler</td>\n",
       "      <td>Aerospace</td>\n",
       "      <td>6919</td>\n",
       "      <td>Masters</td>\n",
       "    </tr>\n",
       "    <tr>\n",
       "      <th>17</th>\n",
       "      <td>S8894563U</td>\n",
       "      <td>Bernice Garibay</td>\n",
       "      <td>Aerospace</td>\n",
       "      <td>3973</td>\n",
       "      <td>PhD</td>\n",
       "    </tr>\n",
       "    <tr>\n",
       "      <th>18</th>\n",
       "      <td>F0714133R</td>\n",
       "      <td>Joshua Gooch</td>\n",
       "      <td>Healthcare</td>\n",
       "      <td>4876</td>\n",
       "      <td>Post-grad</td>\n",
       "    </tr>\n",
       "    <tr>\n",
       "      <th>19</th>\n",
       "      <td>F7977406E</td>\n",
       "      <td>Beatrice Fowler</td>\n",
       "      <td>Aerospace</td>\n",
       "      <td>8918</td>\n",
       "      <td>Non-degree</td>\n",
       "    </tr>\n",
       "  </tbody>\n",
       "</table>\n",
       "</div>"
      ],
      "text/plain": [
       "         NRIC    researcher_name        sector  income      degree\n",
       "0   F7582445S   Richard Westfall     Aerospace    6527   Post-grad\n",
       "1   F6351848Q        Brenda Tonn    Healthcare    8383  Non-degree\n",
       "2   F0543228O   Juanita Cornwell  Agricultural    8298     Masters\n",
       "3   G2869872L       Mary Lagasca   Engineering    3763         PhD\n",
       "4   T0323244I  Frederick Patrick     Aerospace   13694     Masters\n",
       "5   S8542460T        Paul Engler  Agricultural    3222     Masters\n",
       "6   T3274897X    Frances Kinsler    Healthcare    4095         PhD\n",
       "7   S8801177R        Leticia Fox    Healthcare    5191  Non-degree\n",
       "8   S3833675A          Jose Higa    Healthcare    7598     Masters\n",
       "9   G9347179L       Lionel Daily    Healthcare    5310     Masters\n",
       "10  T7812546C     Michelle Hixon    Healthcare    7196  Non-degree\n",
       "11  T2490150Q   Christina Carden   Engineering    3663  Non-degree\n",
       "12  S3998174H         John Meyer  Agricultural    7744  Non-degree\n",
       "13  S2187931H   Donald Colarusso  Agricultural   10814     Masters\n",
       "14  T7529106Y      Sally Russell     Aerospace    7320   Bachelors\n",
       "15  S6016021F    Edgar Rodriquez    Healthcare    7871  Non-degree\n",
       "16  F2049187Z       Shaun Mohler     Aerospace    6919     Masters\n",
       "17  S8894563U    Bernice Garibay     Aerospace    3973         PhD\n",
       "18  F0714133R       Joshua Gooch    Healthcare    4876   Post-grad\n",
       "19  F7977406E    Beatrice Fowler     Aerospace    8918  Non-degree"
      ]
     },
     "execution_count": 6,
     "metadata": {},
     "output_type": "execute_result"
    }
   ],
   "source": [
    "# reading the csv file \n",
    "data = pd.read_csv(\"data/simulated_data_500.csv\")\n",
    "data_size = len(data)\n",
    "\n",
    "print(f\"Number of rows in the dataset {data_size}\")\n",
    "data.head(20)"
   ]
  },
  {
   "cell_type": "markdown",
   "id": "acc9fc48-4f6c-4ffc-bb44-6448449e87c9",
   "metadata": {},
   "source": [
    "Great! Our dataset is ready for analysis. "
   ]
  },
  {
   "cell_type": "markdown",
   "id": "5b9e83f2-3622-4025-b946-129bd05b200c",
   "metadata": {},
   "source": [
    "### 3.2. Count of researchers <a id=\"cell32\"></a>\n",
    "\n",
    "We will count the researchers in the dataset who participated in the survey. We will also assume each researcher contributes to atmost one row. "
   ]
  },
  {
   "cell_type": "markdown",
   "id": "8e82c25b-8b7b-4394-b2e9-996c365d3287",
   "metadata": {},
   "source": [
    "##### True count"
   ]
  },
  {
   "cell_type": "code",
   "execution_count": 7,
   "id": "b17b5e49-877f-487e-be52-60b77131be4b",
   "metadata": {},
   "outputs": [
    {
     "name": "stdout",
     "output_type": "stream",
     "text": [
      "+----------------------------------+\n",
      "True count of the researchers: 500\n",
      "+----------------------------------+\n"
     ]
    }
   ],
   "source": [
    "# count of researchers is the number of rows\n",
    "true_count = len(data['researcher_name'])\n",
    "\n",
    "print(\"+----------------------------------+\")\n",
    "print(f\"True count of the researchers: {true_count}\")\n",
    "print(\"+----------------------------------+\")"
   ]
  },
  {
   "cell_type": "markdown",
   "id": "f74da60d-6140-48da-af6f-6a2b84c01d67",
   "metadata": {},
   "source": [
    "##### Private count "
   ]
  },
  {
   "cell_type": "markdown",
   "id": "dd619075-8556-4c3f-8dec-fb5ee85c998f",
   "metadata": {},
   "source": [
    "We now allocate epsilon = 0.1 to count the researchers in a differentially private manner.   \n",
    "\n",
    "As a rule of thumb, sensitivity of **count** query is 1. "
   ]
  },
  {
   "cell_type": "code",
   "execution_count": 8,
   "id": "c5b92505-3a1e-46af-9ee9-4647c1f81080",
   "metadata": {},
   "outputs": [
    {
     "name": "stdout",
     "output_type": "stream",
     "text": [
      "+-------------------------------------------------------------------+\n",
      "Private count of the researchers: 534.23 with error: 6.85%\n",
      "+-------------------------------------------------------------------+\n"
     ]
    }
   ],
   "source": [
    "sensitivity = 1 \n",
    "\n",
    "# you can play around with the epsilon value here\n",
    "epsilon = 0.1\n",
    "\n",
    "# applying laplacian mechanism\n",
    "private_count = laplace_mechanism(true_count, sensitivity, epsilon)\n",
    "\n",
    "print(\"+-------------------------------------------------------------------+\")\n",
    "print(f\"Private count of the researchers: {private_count} with error: {percentage_error(true_count, private_count)}%\")\n",
    "print(\"+-------------------------------------------------------------------+\")"
   ]
  },
  {
   "cell_type": "markdown",
   "id": "78702328-2b62-4f02-9f0c-c1753052fc23",
   "metadata": {},
   "source": [
    "**Everytime you run the above lines of code, you might see different values! This is a central characteristic of differential privacy: it injects some randomisation (we call this noise) in the execution of the query.** "
   ]
  },
  {
   "cell_type": "markdown",
   "id": "4dc18e69-86c6-4947-be2f-3cd612e9c82f",
   "metadata": {},
   "source": [
    "#### 3.2.1. Impact of epsilon <a id=\"cell321\"></a>\n",
    "\n",
    "Now, we will visualise error with different values of epsilon. "
   ]
  },
  {
   "cell_type": "code",
   "execution_count": 9,
   "id": "6f48b26e-9538-48ca-8fbe-7d81dcb42bd0",
   "metadata": {},
   "outputs": [
    {
     "data": {
      "image/png": "[encoded data removed]",
      "text/plain": [
       "<Figure size 432x288 with 1 Axes>"
      ]
     },
     "metadata": {
      "needs_background": "light"
     },
     "output_type": "display_data"
    }
   ],
   "source": [
    "sensitivity = 1 \n",
    "\n",
    "# you can play around with the epsilon values here \n",
    "epsilons = [0.01, 0.05, 0.1, 2]\n",
    "\n",
    "# for visualisation\n",
    "errors = []\n",
    "dp_results = {}\n",
    "dp_results[\"true_count\"] = [true_count]\n",
    "\n",
    "# evaluating on different values of epsilon\n",
    "for epsilon in epsilons:\n",
    "    # adding laplacian noise\n",
    "    private_count = laplace_mechanism(true_count, sensitivity, epsilon)\n",
    "    \n",
    "    dp_results[f\"epsilon_{epsilon}\"] = [private_count]\n",
    "    errors.append(percentage_error(true_count, private_count))\n",
    "\n",
    "# visualise data \n",
    "labels = [\"\"]\n",
    "title = f\"Researchers' count (data size = {data_size})\"\n",
    "ylabel = \"Count\"\n",
    "visualise(dp_results, 'ε', epsilons, errors, ylabel, title, labels, (6, 4))"
   ]
  },
  {
   "cell_type": "markdown",
   "id": "69540c7d-2afa-48e9-b361-f62a36212f7b",
   "metadata": {
    "tags": []
   },
   "source": [
    "### 3.3. Sum of researchers' income <a id=\"cell33\"></a>\n",
    "\n",
    "Counting query, which we ran is very useful, but we often need a little more: sums, averages, medians… We will see how to compute this larger class of aggregations with differential privacy. These operations require us to learn and use a new concept: **clamping bounds.** \n",
    "\n",
    "Sometimes we known a reasonable minimum and maximum for each value of a column, you can use those as clamping bounds e.g., age can have lower bound of 0 and an upper bound of 120.  It is simple to assume, without looking at the dataset, that all of the researchers in the survey are under the age of 120 and that ages must have a positive value.\n",
    "\n",
    "Sometimes, things are not as clear-cut. Let's first explain what these clamping bounds do in order to understand what to do in more complicated situations."
   ]
  },
  {
   "cell_type": "markdown",
   "id": "913f74d4-5a3a-49f5-bb42-496c780e3a85",
   "metadata": {},
   "source": [
    "#### Clamping bounds \n",
    "The data is clamped to be within minimum and maximum bounds in order to limit\n",
    "the influence any one individual has on the query. \n",
    "\n",
    "$ f_{clamping}(x)= \n",
    "\\begin{cases}\n",
    "    upper,& \\text{if } x\\gt upper\\\\\n",
    "    lower,& \\text{if } x\\lt lower\\\\\n",
    "    x,              & \\text{otherwise}\n",
    "\\end{cases}$\n",
    "\n",
    "If these bounds are too \n",
    "tight, the release may be biased, because values outside these bounds\n",
    "are replaced with the nearest bound. On the other hand, if these bounds \n",
    "are too wide, the respective release will have greater variance.\n",
    "\n",
    "**What do clamping bounds actually do?** 🧐\n",
    "\n",
    "These minimum and maximum values for numerical columns have direct affect on the value of the computed statistics, possibly dramatically. In particular, they have two major effects.\n",
    "\n",
    "- The input data will be clamped within these bounds.\n",
    "- The amount of noise in the data will (typically) increase with the size of the clamping bounds.\n",
    "\n",
    "This is rational: the goal of differential privacy is to hide the influence of a single individual in the data, and clamping bounds limit that impact."
   ]
  },
  {
   "cell_type": "markdown",
   "id": "6536d4d4-f9a3-436f-867c-e37cc105592a",
   "metadata": {},
   "source": [
    "**Using distribution of researchers' income to estimate bounds** "
   ]
  },
  {
   "cell_type": "markdown",
   "id": "3b41b1b2-3d2d-4030-899a-ff74d1df4f4d",
   "metadata": {},
   "source": [
    "The total income for researchers is what we want to calculate. What are the proper clamping bounds?\n",
    "\n",
    "Examining the most frequent values for this column is a common first step in making this choice The following histogram gives us an idea of the data distribution."
   ]
  },
  {
   "cell_type": "code",
   "execution_count": 10,
   "id": "72169038-5972-4ad6-bb83-1cc5d7059a7b",
   "metadata": {},
   "outputs": [
    {
     "data": {
      "image/png": "[encoded data removed]",
      "text/plain": [
       "<Figure size 432x288 with 1 Axes>"
      ]
     },
     "metadata": {
      "needs_background": "light"
     },
     "output_type": "display_data"
    }
   ],
   "source": [
    "sns.histplot(data['income'], color=colors[0])\n",
    "plt.xlabel('Income')\n",
    "plt.ylabel('Count of researchers');"
   ]
  },
  {
   "cell_type": "markdown",
   "id": "eda52069-b6c5-4ccf-9947-2b5f8bba7566",
   "metadata": {},
   "source": [
    "It is usually acceptable to visualise the data distribution and make a judgment call, but it is not acceptable to take, for example, the exact maximum value in the data because doing so would reveal the value of a single data point."
   ]
  },
  {
   "cell_type": "markdown",
   "id": "5171891f-6e27-4e0f-a348-5b3150e7cda9",
   "metadata": {},
   "source": [
    "##### True sum"
   ]
  },
  {
   "cell_type": "code",
   "execution_count": 11,
   "id": "81868b5a-deba-4218-87eb-b6bd545d2f30",
   "metadata": {},
   "outputs": [
    {
     "name": "stdout",
     "output_type": "stream",
     "text": [
      "+-----------------------------------------------------+\n",
      "True sum of the researchers' income: 3014194\n",
      "+-----------------------------------------------------+\n"
     ]
    }
   ],
   "source": [
    "true_sum_income = sum(data['income'])\n",
    "\n",
    "print(\"+-----------------------------------------------------+\")\n",
    "print(f\"True sum of the researchers' income: {true_sum_income}\")\n",
    "print(\"+-----------------------------------------------------+\")"
   ]
  },
  {
   "cell_type": "markdown",
   "id": "bc85aa45-5a8f-4128-b4ee-a51891f6bd55",
   "metadata": {},
   "source": [
    "##### Bounded sum"
   ]
  },
  {
   "cell_type": "code",
   "execution_count": 12,
   "id": "ef0ab84d-d4a6-44af-8155-23fcfce21fac",
   "metadata": {},
   "outputs": [
    {
     "data": {
      "text/html": [
       "<div>\n",
       "<style scoped>\n",
       "    .dataframe tbody tr th:only-of-type {\n",
       "        vertical-align: middle;\n",
       "    }\n",
       "\n",
       "    .dataframe tbody tr th {\n",
       "        vertical-align: top;\n",
       "    }\n",
       "\n",
       "    .dataframe thead th {\n",
       "        text-align: right;\n",
       "    }\n",
       "</style>\n",
       "<table border=\"1\" class=\"dataframe\">\n",
       "  <thead>\n",
       "    <tr style=\"text-align: right;\">\n",
       "      <th></th>\n",
       "      <th>income</th>\n",
       "      <th>bounded_income</th>\n",
       "    </tr>\n",
       "  </thead>\n",
       "  <tbody>\n",
       "    <tr>\n",
       "      <th>0</th>\n",
       "      <td>6527</td>\n",
       "      <td>6527</td>\n",
       "    </tr>\n",
       "    <tr>\n",
       "      <th>1</th>\n",
       "      <td>8383</td>\n",
       "      <td>8383</td>\n",
       "    </tr>\n",
       "    <tr>\n",
       "      <th>2</th>\n",
       "      <td>8298</td>\n",
       "      <td>8298</td>\n",
       "    </tr>\n",
       "    <tr>\n",
       "      <th>3</th>\n",
       "      <td>3763</td>\n",
       "      <td>6000</td>\n",
       "    </tr>\n",
       "    <tr>\n",
       "      <th>4</th>\n",
       "      <td>13694</td>\n",
       "      <td>9000</td>\n",
       "    </tr>\n",
       "    <tr>\n",
       "      <th>5</th>\n",
       "      <td>3222</td>\n",
       "      <td>6000</td>\n",
       "    </tr>\n",
       "    <tr>\n",
       "      <th>6</th>\n",
       "      <td>4095</td>\n",
       "      <td>6000</td>\n",
       "    </tr>\n",
       "    <tr>\n",
       "      <th>7</th>\n",
       "      <td>5191</td>\n",
       "      <td>6000</td>\n",
       "    </tr>\n",
       "    <tr>\n",
       "      <th>8</th>\n",
       "      <td>7598</td>\n",
       "      <td>7598</td>\n",
       "    </tr>\n",
       "    <tr>\n",
       "      <th>9</th>\n",
       "      <td>5310</td>\n",
       "      <td>6000</td>\n",
       "    </tr>\n",
       "  </tbody>\n",
       "</table>\n",
       "</div>"
      ],
      "text/plain": [
       "   income  bounded_income\n",
       "0    6527            6527\n",
       "1    8383            8383\n",
       "2    8298            8298\n",
       "3    3763            6000\n",
       "4   13694            9000\n",
       "5    3222            6000\n",
       "6    4095            6000\n",
       "7    5191            6000\n",
       "8    7598            7598\n",
       "9    5310            6000"
      ]
     },
     "execution_count": 12,
     "metadata": {},
     "output_type": "execute_result"
    }
   ],
   "source": [
    "# setting the clamping bounds \n",
    "lower_bound = 6000\n",
    "upper_bound = 9000\n",
    "\n",
    "# applying clamping \n",
    "# - values less than `lower_bound` will be clipped to `lower_bound` \n",
    "# - values greater than `upper_bound` will be clipped to `upper_bound` \n",
    "data['bounded_income'] = data['income'].clip(lower=lower_bound, upper=upper_bound)\n",
    "\n",
    "data[['income', 'bounded_income']].head(10)"
   ]
  },
  {
   "cell_type": "code",
   "execution_count": 13,
   "id": "fb1ab9bc-5725-4a01-87f2-7147762c728d",
   "metadata": {},
   "outputs": [
    {
     "name": "stdout",
     "output_type": "stream",
     "text": [
      "+--------------------------------------------------------------+\n",
      "True bounded sum of the researchers' income: 3360366\n",
      "+--------------------------------------------------------------+\n"
     ]
    }
   ],
   "source": [
    "# computing sum on the bounded values\n",
    "true_bounded_sum_income = sum(data['bounded_income'])\n",
    "\n",
    "print(\"+--------------------------------------------------------------+\")\n",
    "print(f\"True bounded sum of the researchers' income: {true_bounded_sum_income}\")\n",
    "print(\"+--------------------------------------------------------------+\")"
   ]
  },
  {
   "cell_type": "markdown",
   "id": "9eaafb40-d118-47c1-8cb4-bae9bad5201b",
   "metadata": {},
   "source": [
    "##### Private sum"
   ]
  },
  {
   "cell_type": "code",
   "execution_count": 14,
   "id": "f6989b3f-e547-4101-8de7-c3a48d3cf98e",
   "metadata": {},
   "outputs": [
    {
     "name": "stdout",
     "output_type": "stream",
     "text": [
      "+-----------------------------------------------------------------------+\n",
      "Private sum of the researchers's income: 3321854.24 with error: 10.21%\n",
      "+-----------------------------------------------------------------------+\n"
     ]
    }
   ],
   "source": [
    "# sensivity of the sum query in this case is the upper_bound\n",
    "# reason: maximum the sum query's output will change on adding/removing a row is the `upper_bound`\n",
    "sensitivity = upper_bound \n",
    "epsilon = 0.1\n",
    "\n",
    "# applying laplacian mechanism\n",
    "private_sum_income = laplace_mechanism(true_bounded_sum_income, sensitivity, epsilon)\n",
    "\n",
    "print(\"+-----------------------------------------------------------------------+\")\n",
    "print(f\"Private sum of the researchers's income: {private_sum_income} with error: {percentage_error(true_sum_income, private_sum_income)}%\")\n",
    "print(\"+-----------------------------------------------------------------------+\")"
   ]
  },
  {
   "cell_type": "markdown",
   "id": "b9691055-c853-4b41-8ef9-93297fde5960",
   "metadata": {},
   "source": [
    "#### 3.3.1. Impact of epsilon <a id=\"cell331\"></a>\n",
    "\n",
    "Now, we will visualise error with different values of epsilon. "
   ]
  },
  {
   "cell_type": "code",
   "execution_count": 15,
   "id": "5bf18c98-7d7e-40c5-898b-ead65a48c6f8",
   "metadata": {},
   "outputs": [
    {
     "data": {
      "image/png": "[encoded data removed]",
      "text/plain": [
       "<Figure size 432x288 with 1 Axes>"
      ]
     },
     "metadata": {
      "needs_background": "light"
     },
     "output_type": "display_data"
    }
   ],
   "source": [
    "# you can play around with the epsilon values here \n",
    "epsilons = [0.01, 0.05, 0.1, 2]\n",
    "\n",
    "# for visualisation\n",
    "errors = []\n",
    "dp_results = {}\n",
    "dp_results[\"true_sum\"] = [true_sum_income]\n",
    "\n",
    "# evaluating on different values of epsilon\n",
    "for epsilon in epsilons:\n",
    "    # applying laplace mechanism\n",
    "    private_sum_income = laplace_mechanism(true_sum_income, sensitivity, epsilon)\n",
    "    \n",
    "    dp_results[f\"epsilon_{epsilon}\"] = [private_sum_income]\n",
    "    errors.append(percentage_error(true_sum_income, private_sum_income))\n",
    "\n",
    "# visualise data \n",
    "labels = [\"\"]\n",
    "title = f\"Sum of Researchers' income (data size = {data_size})\"\n",
    "ylabel = \"Sum\"\n",
    "visualise(dp_results, 'ε', epsilons, errors, ylabel, title, labels, (6, 4))"
   ]
  },
  {
   "cell_type": "markdown",
   "id": "7df225c5-e5cf-44c5-b964-4b5d19c190f8",
   "metadata": {},
   "source": [
    "#### 3.3.2. Impact of clamping bounds <a id=\"cell332\"></a>\n",
    "\n",
    "Now, we will visualise error with different clamping bounds. "
   ]
  },
  {
   "cell_type": "code",
   "execution_count": 16,
   "id": "1f0cffa4-b50c-4f65-bf9b-884de929af47",
   "metadata": {},
   "outputs": [
    {
     "data": {
      "image/png": "[encoded data removed]",
      "text/plain": [
       "<Figure size 432x288 with 1 Axes>"
      ]
     },
     "metadata": {
      "needs_background": "light"
     },
     "output_type": "display_data"
    }
   ],
   "source": [
    "epsilon = 0.1\n",
    "\n",
    "# you can play around with the clamping bounds here \n",
    "bounds = [(4000, 6000), (4000, 10000), (5000, 15000), (4000, 20000)]\n",
    "\n",
    "# for visualisation\n",
    "errors = []\n",
    "dp_results = {}\n",
    "dp_results[\"true_sum\"] = [true_sum_income]\n",
    "\n",
    "# evaluating on different values of clamping bounds\n",
    "for l, u in bounds:\n",
    "    # setting sensitivity of the sum query as the `upper_bound`\n",
    "    sensitivity = u\n",
    "\n",
    "    # applying clamping \n",
    "    data['bounded_income'] = data['income'].clip(lower=l, upper=u)\n",
    "\n",
    "    # sum of the bounded salaries\n",
    "    true_bounded_sum_income = sum(data['bounded_income'])\n",
    "    \n",
    "    # applying laplace mechanism\n",
    "    private_sum_income = laplace_mechanism(true_sum_income, sensitivity, epsilon)\n",
    "    \n",
    "    dp_results[f\"bounds_{str(l)}_{str(u)}\"] = [private_sum_income]\n",
    "    errors.append(percentage_error(true_sum_income, private_sum_income))\n",
    "\n",
    "# visualise data \n",
    "labels = [\"\"]\n",
    "title = f\"Sum of Researchers' income (data size = {data_size})\"\n",
    "ylabel = \"Sum\"\n",
    "visualise(dp_results, 'bounds', bounds, errors, ylabel, title, labels, (6, 4))"
   ]
  },
  {
   "cell_type": "markdown",
   "id": "cc0c7500-63ab-4afc-8c8c-9eea68f208a0",
   "metadata": {},
   "source": [
    "### 3.4. Mean of researchers' income (with post-processing) <a id=\"cell34\"></a>\n",
    "\n",
    "We might be more interested in the mean income. Fortunately, we already have the differential private releases of the total number of researchers and their income, which we can use to calculate the mean. (Yay! No epsilon spending 😎)\n",
    "\n",
    "A key feature of differential privacy is **post-processing**, which enables you to perform operations on differentially private releases without jeopardizing their privacy guarantee. The only obvious constraint is that you do not look at the original dataset.  "
   ]
  },
  {
   "cell_type": "markdown",
   "id": "866f846d-7f69-4e00-b35f-5667bb691a97",
   "metadata": {},
   "source": [
    "##### True mean"
   ]
  },
  {
   "cell_type": "code",
   "execution_count": 17,
   "id": "ed182de6-c3bf-408f-890a-3deae57c9a25",
   "metadata": {},
   "outputs": [
    {
     "name": "stdout",
     "output_type": "stream",
     "text": [
      "+--------------------------------------------------------+\n",
      "True mean of the researchers's income: 6028.388\n",
      "+--------------------------------------------------------+\n"
     ]
    }
   ],
   "source": [
    "true_mean_income = true_sum_income/true_count\n",
    "\n",
    "print(\"+--------------------------------------------------------+\")\n",
    "print(f\"True mean of the researchers's income: {true_mean_income}\")\n",
    "print(\"+--------------------------------------------------------+\")"
   ]
  },
  {
   "cell_type": "markdown",
   "id": "68d34a0e-1fea-44b3-b805-b3669eef3a8a",
   "metadata": {},
   "source": [
    "##### Private mean"
   ]
  },
  {
   "cell_type": "code",
   "execution_count": 18,
   "id": "b8312437-62e4-4738-babf-cd00c3c579e4",
   "metadata": {},
   "outputs": [
    {
     "name": "stdout",
     "output_type": "stream",
     "text": [
      "+----------------------------------------------------------------------------+\n",
      "Private mean of the researchers's income: 5382.422900793888 with error: 10.72%\n",
      "+----------------------------------------------------------------------------+\n"
     ]
    }
   ],
   "source": [
    "# computing the private mean using the released private sum and count \n",
    "private_mean_income = private_sum_income/private_count\n",
    "\n",
    "print(\"+----------------------------------------------------------------------------+\")\n",
    "print(f\"Private mean of the researchers's income: {private_mean_income} with error: {percentage_error(true_mean_income, private_mean_income)}%\")\n",
    "print(\"+----------------------------------------------------------------------------+\")"
   ]
  },
  {
   "cell_type": "markdown",
   "id": "112fbe9b-3518-42e4-8164-99c987f57df0",
   "metadata": {},
   "source": [
    "## Parallel composition \n",
    "\n",
    "The aggregates we observed, count, sum, and mean, returned a single statistic for all the data. However, a lot of frequently used data analysis operations are group-by queries, which partition the data into groups and calculate one aggregation per group.\n",
    "\n",
    "\n",
    "**Parallel composition** is based on the idea of splitting your dataset into disjoint chunks and running a differentially private mechanism on each chunk separately. Since the chunks are disjoint, each individual’s data appears in exactly one chunk - so even if there are, say, k  chunks in total (and therefore k runs of the mechanism), the mechanism runs exactly once on the data of each individual. \n",
    "\n",
    "**So instead of spending a privacy loss of k$\\epsilon$ (with sequential composition -- epsilons add up on running multiple queries on a dataset), you only incur a privacy loss of $\\epsilon$.** Wow! 😮 "
   ]
  },
  {
   "cell_type": "markdown",
   "id": "f7884269-3259-4a81-8305-cab399a76b22",
   "metadata": {},
   "source": [
    "### 3.5. Count of researchers by sector (with parallel composition) <a id=\"cell35\"></a>\n",
    "\n",
    "We will assume that each researcher belongs to only one sector among Agricultural, Aerospace, Engineering and Healthcare.\n",
    "\n",
    "Note: If a reseacher belongs to more than one sector than sensivity of the query will increase. Moreover, we need to apply bounds on the maximum sectors a researcher can belong to prevent scaling of the noise. "
   ]
  },
  {
   "cell_type": "markdown",
   "id": "e3723e05-0ce9-49ef-8b06-399e7990b06e",
   "metadata": {},
   "source": [
    "##### **True** count of the researchers by sector"
   ]
  },
  {
   "cell_type": "code",
   "execution_count": 19,
   "id": "cf6f9a8b-28bb-45aa-8857-688533f6f68c",
   "metadata": {},
   "outputs": [
    {
     "data": {
      "text/html": [
       "<div>\n",
       "<style scoped>\n",
       "    .dataframe tbody tr th:only-of-type {\n",
       "        vertical-align: middle;\n",
       "    }\n",
       "\n",
       "    .dataframe tbody tr th {\n",
       "        vertical-align: top;\n",
       "    }\n",
       "\n",
       "    .dataframe thead th {\n",
       "        text-align: right;\n",
       "    }\n",
       "</style>\n",
       "<table border=\"1\" class=\"dataframe\">\n",
       "  <thead>\n",
       "    <tr style=\"text-align: right;\">\n",
       "      <th></th>\n",
       "      <th>sector</th>\n",
       "    </tr>\n",
       "  </thead>\n",
       "  <tbody>\n",
       "    <tr>\n",
       "      <th>Aerospace</th>\n",
       "      <td>144</td>\n",
       "    </tr>\n",
       "    <tr>\n",
       "      <th>Healthcare</th>\n",
       "      <td>127</td>\n",
       "    </tr>\n",
       "    <tr>\n",
       "      <th>Engineering</th>\n",
       "      <td>119</td>\n",
       "    </tr>\n",
       "    <tr>\n",
       "      <th>Agricultural</th>\n",
       "      <td>110</td>\n",
       "    </tr>\n",
       "  </tbody>\n",
       "</table>\n",
       "</div>"
      ],
      "text/plain": [
       "              sector\n",
       "Aerospace        144\n",
       "Healthcare       127\n",
       "Engineering      119\n",
       "Agricultural     110"
      ]
     },
     "execution_count": 19,
     "metadata": {},
     "output_type": "execute_result"
    }
   ],
   "source": [
    "true_counts_by_sector = data['sector'].value_counts().to_frame()\n",
    "true_counts_by_sector"
   ]
  },
  {
   "cell_type": "markdown",
   "id": "29274c10-4ee9-48d9-a57e-562109fca2f2",
   "metadata": {},
   "source": [
    "##### **Private** count of the researchers by sector\n",
    "\n",
    "This analysis has a total privacy loss of the set epsilon value (in this case 1), even though we release many results"
   ]
  },
  {
   "cell_type": "code",
   "execution_count": 20,
   "id": "bf125a0e-3a87-4076-9863-f792f90fb1b9",
   "metadata": {},
   "outputs": [
    {
     "data": {
      "text/html": [
       "<div>\n",
       "<style scoped>\n",
       "    .dataframe tbody tr th:only-of-type {\n",
       "        vertical-align: middle;\n",
       "    }\n",
       "\n",
       "    .dataframe tbody tr th {\n",
       "        vertical-align: top;\n",
       "    }\n",
       "\n",
       "    .dataframe thead th {\n",
       "        text-align: right;\n",
       "    }\n",
       "</style>\n",
       "<table border=\"1\" class=\"dataframe\">\n",
       "  <thead>\n",
       "    <tr style=\"text-align: right;\">\n",
       "      <th></th>\n",
       "      <th>sector</th>\n",
       "    </tr>\n",
       "  </thead>\n",
       "  <tbody>\n",
       "    <tr>\n",
       "      <th>Aerospace</th>\n",
       "      <td>145.03</td>\n",
       "    </tr>\n",
       "    <tr>\n",
       "      <th>Healthcare</th>\n",
       "      <td>126.28</td>\n",
       "    </tr>\n",
       "    <tr>\n",
       "      <th>Engineering</th>\n",
       "      <td>119.49</td>\n",
       "    </tr>\n",
       "    <tr>\n",
       "      <th>Agricultural</th>\n",
       "      <td>109.82</td>\n",
       "    </tr>\n",
       "  </tbody>\n",
       "</table>\n",
       "</div>"
      ],
      "text/plain": [
       "              sector\n",
       "Aerospace     145.03\n",
       "Healthcare    126.28\n",
       "Engineering   119.49\n",
       "Agricultural  109.82"
      ]
     },
     "execution_count": 20,
     "metadata": {},
     "output_type": "execute_result"
    }
   ],
   "source": [
    "# sensitivity of the query is 1 \n",
    "sensitivity = 1 \n",
    "# setting the epsilon \n",
    "epsilon = 1\n",
    "\n",
    "# applying laplace mechanism\n",
    "add_laplace_noise = lambda true_value: laplace_mechanism(true_value, sensitivity, epsilon)\n",
    "# adding noise\n",
    "private_count_by_sector = data['sector'].value_counts().apply(add_laplace_noise)\n",
    "\n",
    "private_count_by_sector.to_frame()"
   ]
  },
  {
   "cell_type": "markdown",
   "id": "9a0794a7-4193-4bc1-8aec-0df7f8a14283",
   "metadata": {},
   "source": [
    "#### Impact of epsilon on the query's output "
   ]
  },
  {
   "cell_type": "code",
   "execution_count": 21,
   "id": "e13c19eb-1846-467c-8845-35e65a681360",
   "metadata": {},
   "outputs": [],
   "source": [
    "true_counts_by_sector_dict = dict(true_counts_by_sector['sector'])"
   ]
  },
  {
   "cell_type": "code",
   "execution_count": 22,
   "id": "c55c69ac-bb1b-4c33-bda8-4755f4f543b9",
   "metadata": {},
   "outputs": [
    {
     "data": {
      "image/png": "[encoded data removed]",
      "text/plain": [
       "<Figure size 864x432 with 1 Axes>"
      ]
     },
     "metadata": {
      "needs_background": "light"
     },
     "output_type": "display_data"
    }
   ],
   "source": [
    "# you can play arround with epsilon values here\n",
    "epsilons = [0.01, 0.1, 0.5, 1]\n",
    "\n",
    "# for visualisation\n",
    "errors = []\n",
    "dp_results = {}\n",
    "true_counts_by_sector = true_counts_by_sector_dict.values()\n",
    "dp_results[\"true_counts_by_sector\"] = true_counts_by_sector\n",
    "num_sectors = len(true_counts_by_sector)\n",
    "\n",
    "# evaluating on different values of epsilon\n",
    "for epsilon in epsilons:\n",
    "    # applying laplace mechanism\n",
    "    private_counts_by_sector = [laplace_mechanism(true_count, sensitivity, epsilon) for true_count in true_counts_by_sector]\n",
    "    \n",
    "    dp_results[f\"epsilon_{epsilon}\"] = private_counts_by_sector\n",
    "    error = sum([percentage_error(tc, pc) for  tc, pc in zip(true_counts_by_sector, private_counts_by_sector)])/num_sectors\n",
    "    errors.append(error)\n",
    "\n",
    "# visualise data \n",
    "labels = true_counts_by_sector_dict.keys() #[\"Aerospace\", \"Agricultural\", \"Engineering\", \"Healthcare\"]\n",
    "title = f\"Count of researchers by sector (data size = {data_size})\"\n",
    "ylabel = \"Count\"\n",
    "\n",
    "visualise(dp_results, 'ε', epsilons, errors, ylabel, title, labels, (12, 6))"
   ]
  },
  {
   "cell_type": "markdown",
   "id": "606a1775-b953-4f0d-bfaa-29c72d702782",
   "metadata": {},
   "source": [
    "### 3.6. Count of researchers by sector and academic degree (with parallel composition) <a id=\"cell36\"></a>"
   ]
  },
  {
   "cell_type": "markdown",
   "id": "0d6877b4-0deb-4d47-9743-23e1c02c24c2",
   "metadata": {},
   "source": [
    "##### **True** count of the researchers by sector and academic degree"
   ]
  },
  {
   "cell_type": "code",
   "execution_count": 23,
   "id": "f9af7e28-5478-4f61-8657-c9986289001d",
   "metadata": {},
   "outputs": [
    {
     "data": {
      "text/html": [
       "<div>\n",
       "<style scoped>\n",
       "    .dataframe tbody tr th:only-of-type {\n",
       "        vertical-align: middle;\n",
       "    }\n",
       "\n",
       "    .dataframe tbody tr th {\n",
       "        vertical-align: top;\n",
       "    }\n",
       "\n",
       "    .dataframe thead th {\n",
       "        text-align: right;\n",
       "    }\n",
       "</style>\n",
       "<table border=\"1\" class=\"dataframe\">\n",
       "  <thead>\n",
       "    <tr style=\"text-align: right;\">\n",
       "      <th>degree</th>\n",
       "      <th>Bachelors</th>\n",
       "      <th>Masters</th>\n",
       "      <th>Non-degree</th>\n",
       "      <th>PhD</th>\n",
       "      <th>Post-grad</th>\n",
       "    </tr>\n",
       "    <tr>\n",
       "      <th>sector</th>\n",
       "      <th></th>\n",
       "      <th></th>\n",
       "      <th></th>\n",
       "      <th></th>\n",
       "      <th></th>\n",
       "    </tr>\n",
       "  </thead>\n",
       "  <tbody>\n",
       "    <tr>\n",
       "      <th>Aerospace</th>\n",
       "      <td>27</td>\n",
       "      <td>36</td>\n",
       "      <td>27</td>\n",
       "      <td>30</td>\n",
       "      <td>24</td>\n",
       "    </tr>\n",
       "    <tr>\n",
       "      <th>Agricultural</th>\n",
       "      <td>20</td>\n",
       "      <td>13</td>\n",
       "      <td>23</td>\n",
       "      <td>28</td>\n",
       "      <td>26</td>\n",
       "    </tr>\n",
       "    <tr>\n",
       "      <th>Engineering</th>\n",
       "      <td>22</td>\n",
       "      <td>23</td>\n",
       "      <td>36</td>\n",
       "      <td>23</td>\n",
       "      <td>15</td>\n",
       "    </tr>\n",
       "    <tr>\n",
       "      <th>Healthcare</th>\n",
       "      <td>25</td>\n",
       "      <td>25</td>\n",
       "      <td>28</td>\n",
       "      <td>23</td>\n",
       "      <td>26</td>\n",
       "    </tr>\n",
       "  </tbody>\n",
       "</table>\n",
       "</div>"
      ],
      "text/plain": [
       "degree        Bachelors  Masters  Non-degree  PhD  Post-grad\n",
       "sector                                                      \n",
       "Aerospace            27       36          27   30         24\n",
       "Agricultural         20       13          23   28         26\n",
       "Engineering          22       23          36   23         15\n",
       "Healthcare           25       25          28   23         26"
      ]
     },
     "execution_count": 23,
     "metadata": {},
     "output_type": "execute_result"
    }
   ],
   "source": [
    "pd.crosstab(data['sector'], data['degree'])"
   ]
  },
  {
   "cell_type": "markdown",
   "id": "756979b2-f1fe-49aa-b4ef-8e57e80157e6",
   "metadata": {},
   "source": [
    "##### **Private** count of the researchers by sector and academic degree"
   ]
  },
  {
   "cell_type": "code",
   "execution_count": 24,
   "id": "340c7c5e-90b9-4dca-a1fc-3d4b88bffbdc",
   "metadata": {},
   "outputs": [
    {
     "data": {
      "text/html": [
       "<div>\n",
       "<style scoped>\n",
       "    .dataframe tbody tr th:only-of-type {\n",
       "        vertical-align: middle;\n",
       "    }\n",
       "\n",
       "    .dataframe tbody tr th {\n",
       "        vertical-align: top;\n",
       "    }\n",
       "\n",
       "    .dataframe thead th {\n",
       "        text-align: right;\n",
       "    }\n",
       "</style>\n",
       "<table border=\"1\" class=\"dataframe\">\n",
       "  <thead>\n",
       "    <tr style=\"text-align: right;\">\n",
       "      <th>degree</th>\n",
       "      <th>Bachelors</th>\n",
       "      <th>Masters</th>\n",
       "      <th>Non-degree</th>\n",
       "      <th>PhD</th>\n",
       "      <th>Post-grad</th>\n",
       "    </tr>\n",
       "    <tr>\n",
       "      <th>sector</th>\n",
       "      <th></th>\n",
       "      <th></th>\n",
       "      <th></th>\n",
       "      <th></th>\n",
       "      <th></th>\n",
       "    </tr>\n",
       "  </thead>\n",
       "  <tbody>\n",
       "    <tr>\n",
       "      <th>Aerospace</th>\n",
       "      <td>26.72</td>\n",
       "      <td>38.32</td>\n",
       "      <td>27.08</td>\n",
       "      <td>35.84</td>\n",
       "      <td>25.43</td>\n",
       "    </tr>\n",
       "    <tr>\n",
       "      <th>Agricultural</th>\n",
       "      <td>19.87</td>\n",
       "      <td>13.68</td>\n",
       "      <td>19.19</td>\n",
       "      <td>27.98</td>\n",
       "      <td>24.59</td>\n",
       "    </tr>\n",
       "    <tr>\n",
       "      <th>Engineering</th>\n",
       "      <td>19.28</td>\n",
       "      <td>23.28</td>\n",
       "      <td>53.10</td>\n",
       "      <td>22.67</td>\n",
       "      <td>16.11</td>\n",
       "    </tr>\n",
       "    <tr>\n",
       "      <th>Healthcare</th>\n",
       "      <td>23.30</td>\n",
       "      <td>34.34</td>\n",
       "      <td>29.73</td>\n",
       "      <td>20.28</td>\n",
       "      <td>26.52</td>\n",
       "    </tr>\n",
       "  </tbody>\n",
       "</table>\n",
       "</div>"
      ],
      "text/plain": [
       "degree        Bachelors  Masters  Non-degree    PhD  Post-grad\n",
       "sector                                                        \n",
       "Aerospace         26.72    38.32       27.08  35.84      25.43\n",
       "Agricultural      19.87    13.68       19.19  27.98      24.59\n",
       "Engineering       19.28    23.28       53.10  22.67      16.11\n",
       "Healthcare        23.30    34.34       29.73  20.28      26.52"
      ]
     },
     "execution_count": 24,
     "metadata": {},
     "output_type": "execute_result"
    }
   ],
   "source": [
    "sensitivity = 1 \n",
    "epsilon = 0.5\n",
    "\n",
    "true_count_by_degree_and_sector = pd.crosstab(data['sector'], data['degree'])\n",
    "\n",
    "# applying laplace mechanism\n",
    "add_laplace_noise = lambda true_value: laplace_mechanism(true_value, sensitivity, epsilon)\n",
    "true_count_by_degree_and_sector.applymap(add_laplace_noise)"
   ]
  },
  {
   "cell_type": "markdown",
   "id": "8da5de5d-9ad6-47b9-822a-f3d4fb028a03",
   "metadata": {},
   "source": [
    "### 4. Impact of Dataset Size  (TODO) <a id=\"cell4\"></a>"
   ]
  },
  {
   "cell_type": "code",
   "execution_count": 27,
   "id": "68449599-bd61-4928-ac21-8a31d26f898d",
   "metadata": {},
   "outputs": [
    {
     "name": "stdout",
     "output_type": "stream",
     "text": [
      "Number of rows in the dataset 10000\n"
     ]
    },
    {
     "data": {
      "text/html": [
       "<div>\n",
       "<style scoped>\n",
       "    .dataframe tbody tr th:only-of-type {\n",
       "        vertical-align: middle;\n",
       "    }\n",
       "\n",
       "    .dataframe tbody tr th {\n",
       "        vertical-align: top;\n",
       "    }\n",
       "\n",
       "    .dataframe thead th {\n",
       "        text-align: right;\n",
       "    }\n",
       "</style>\n",
       "<table border=\"1\" class=\"dataframe\">\n",
       "  <thead>\n",
       "    <tr style=\"text-align: right;\">\n",
       "      <th></th>\n",
       "      <th>NRIC</th>\n",
       "      <th>researcher_name</th>\n",
       "      <th>sector</th>\n",
       "      <th>income</th>\n",
       "      <th>degree</th>\n",
       "    </tr>\n",
       "  </thead>\n",
       "  <tbody>\n",
       "    <tr>\n",
       "      <th>0</th>\n",
       "      <td>S7212245T</td>\n",
       "      <td>Ernesto Griffin</td>\n",
       "      <td>Aerospace</td>\n",
       "      <td>4876</td>\n",
       "      <td>Non-degree</td>\n",
       "    </tr>\n",
       "    <tr>\n",
       "      <th>1</th>\n",
       "      <td>F0642125K</td>\n",
       "      <td>Margaret Mays</td>\n",
       "      <td>Healthcare</td>\n",
       "      <td>6685</td>\n",
       "      <td>Non-degree</td>\n",
       "    </tr>\n",
       "    <tr>\n",
       "      <th>2</th>\n",
       "      <td>G2319709V</td>\n",
       "      <td>David Hendryx</td>\n",
       "      <td>Engineering</td>\n",
       "      <td>8337</td>\n",
       "      <td>Masters</td>\n",
       "    </tr>\n",
       "    <tr>\n",
       "      <th>3</th>\n",
       "      <td>F4712075F</td>\n",
       "      <td>John Hagens</td>\n",
       "      <td>Agricultural</td>\n",
       "      <td>3504</td>\n",
       "      <td>Masters</td>\n",
       "    </tr>\n",
       "    <tr>\n",
       "      <th>4</th>\n",
       "      <td>T5654604E</td>\n",
       "      <td>Michael Shaddix</td>\n",
       "      <td>Engineering</td>\n",
       "      <td>5232</td>\n",
       "      <td>Masters</td>\n",
       "    </tr>\n",
       "  </tbody>\n",
       "</table>\n",
       "</div>"
      ],
      "text/plain": [
       "        NRIC  researcher_name        sector  income      degree\n",
       "0  S7212245T  Ernesto Griffin     Aerospace    4876  Non-degree\n",
       "1  F0642125K    Margaret Mays    Healthcare    6685  Non-degree\n",
       "2  G2319709V    David Hendryx   Engineering    8337     Masters\n",
       "3  F4712075F      John Hagens  Agricultural    3504     Masters\n",
       "4  T5654604E  Michael Shaddix   Engineering    5232     Masters"
      ]
     },
     "execution_count": 27,
     "metadata": {},
     "output_type": "execute_result"
    }
   ],
   "source": [
    "# reading the csv file \n",
    "data_10000 = pd.read_csv(\"data/simulated_data_10000.csv\")\n",
    "\n",
    "data_size = len(data_10000)\n",
    "\n",
    "print(f\"Number of rows in the dataset {data_size}\")\n",
    "data_10000.head(5)"
   ]
  },
  {
   "cell_type": "code",
   "execution_count": 28,
   "id": "8c0f4997-2ebb-48b5-85d2-f3c81c68dbfa",
   "metadata": {},
   "outputs": [
    {
     "name": "stdout",
     "output_type": "stream",
     "text": [
      "200 1177415 589582.37 49.93\n",
      "500 2970166 3523500.0 18.63\n",
      "1000 5966955 6619101.91 10.93\n",
      "10000 60194596 61045299.8 1.41\n"
     ]
    }
   ],
   "source": [
    "epsilon = 0.01\n",
    "bounds = [4000, 12000]\n",
    "sensitivity = bounds[0]\n",
    "\n",
    "dataset_sizes = [200, 500, 1000, 10000]\n",
    "\n",
    "# for visualisation\n",
    "errors = []\n",
    "dp_results = {}\n",
    "\n",
    "\n",
    "for dataset_size in dataset_sizes:\n",
    "    data_subset = data_10000[\"income\"][:dataset_size]\n",
    "    \n",
    "    true_sum = sum(data_subset)\n",
    "    dp_results[\"true_sum\"] = [true_sum]\n",
    "    \n",
    "    # applying clamping \n",
    "    data_subset['bounded_income'] = data_subset.clip(lower=bounds[0], upper=bounds[1])\n",
    "    \n",
    "    # sum of the bounded salaries\n",
    "    true_bounded_sum_income = sum(data_subset['bounded_income'])\n",
    "    \n",
    "    # applying laplace mechanism\n",
    "    private_sum_income = laplace_mechanism(true_bounded_sum_income, sensitivity, epsilon)\n",
    "    \n",
    "    \n",
    "    dp_results[f\"dataset_size_{dataset_size}\"] = [private_sum_income]\n",
    "    errors.append(percentage_error(true_sum, private_sum_income))\n",
    "    \n",
    "    print(dataset_size, true_sum, private_sum_income, percentage_error(true_sum, private_sum_income))\n",
    "\n",
    "# # visualise data \n",
    "# labels = [\"\"]\n",
    "# title = f\"Sum of Researchers' income (data size = {data_size})\"\n",
    "# ylabel = \"Sum\"\n",
    "# visualise(dp_results, \"dataset_size\", dataset_sizes, errors, ylabel, title, labels, (6, 4))"
   ]
  }
 ],
 "metadata": {
  "kernelspec": {
   "display_name": "Python 3 (ipykernel)",
   "language": "python",
   "name": "python3"
  },
  "language_info": {
   "codemirror_mode": {
    "name": "ipython",
    "version": 3
   },
   "file_extension": ".py",
   "mimetype": "text/x-python",
   "name": "python",
   "nbconvert_exporter": "python",
   "pygments_lexer": "ipython3",
   "version": "3.8.11"
  }
 },
 "nbformat": 4,
 "nbformat_minor": 5
}
