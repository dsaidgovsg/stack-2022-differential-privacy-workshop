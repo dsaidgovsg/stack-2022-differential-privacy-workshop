{
 "cells": [
  {
   "cell_type": "markdown",
   "id": "8509e905-72ba-4718-9c59-3f7ddb7ed389",
   "metadata": {
    "id": "8509e905-72ba-4718-9c59-3f7ddb7ed389"
   },
   "source": [
    "# Using Differential Privacy for Privacy-preserving Statistical Releases on Synthetic Suvery Data"
   ]
  },
  {
   "cell_type": "markdown",
   "id": "4ea81685-49bd-4ffd-9318-79e6f0a00ec8",
   "metadata": {
    "id": "4ea81685-49bd-4ffd-9318-79e6f0a00ec8",
    "tags": []
   },
   "source": [
    "<img src=\"https://drive.google.com/uc?id=1Qy42HQkEcVF3FM3nlod_9xZVKzU0ZR1f\"  width=600/>\n",
    "\n",
    "This notebook is aimed at demonstrating how to generate and release basic statistical outcomes in differentially private manner. \n",
    "\n",
    "Let's assume a data analyst has requested a trusted data curator for the following statistics (queries): \n",
    "\n",
    "**Single statistics**\n",
    "- **Count of researchers** (concepts covered epsilon and sensitivity)\n",
    "- **Sum of researchers' income** (concept covered clamping bounds)\n",
    "- **Mean of researchers' income** (concept covered post-processing)\n",
    "\n",
    "**Multiple statistics**\n",
    "- **Histogram: count of researchers by sector** (concept covered parallel-composition)\n",
    "- **Contingency table (or cross-tabulation): count of researchers by sector and academic degree** (concept covered parallel-composition) \n",
    "\n",
    "The data curator values the privacy of their survey participants, so they want to make sure that the data they release does not reveal anything about specific people. This is a perfect use case for differential privacy: it will allow us to publish useful insights about groups, while protecting data about individuals.\n",
    "\n",
    "The noise added to the computation of a query can depend on the privacy parameters, the type of query, and the data itself. But in many cases, the result will still convey accurate insights about the original data. We wil learn the impact of:  \n",
    "1. **Epsilon(ε)**: The privacy loss incurred by researchers in the dataset. Larger values indicate less privacy and more accuracy.\n",
    "2. **Sensitivity**: The worst case change in a query's output when a row is removed/added. Noise scales with the sensitivity of a query.\n",
    "3. **Clamping bounds**: Clipping the raw values to the set lower and upper bounds. Noise scales with the size of the bounds\n",
    "\n",
    "With the above queries we will also be introduced to the concepts of **parallel composition** and **post-processing**.  \n",
    "\n",
    "### Contents \n",
    "\n",
    "1. [Overview of Differential Private Mechanisms](#cell1)\n",
    "    * 1.1. [Laplacian mechanism](#cell11)\n",
    "    * 1.2. [Gaussian mechanism ](#cell12)\n",
    "2. [Utility Functions](#cell2)\n",
    "3. [Computing Queries Using Differential Privacy](#cell3)\n",
    "    * 3.1. [Synthetic survey data](#cell31)\n",
    "    * 3.2. [Count of researchers](#cell32)\n",
    "        * 3.2.1. [Impact of epsilon](#cell321)\n",
    "    * 3.3. [Sum of researchers' income](#cell33)\n",
    "        * 3.3.1. [Impact of epsilon](#cell331)\n",
    "        * 3.3.2. [Impact of clamping bounds](#cell332)\n",
    "    * 3.4. [Mean of researchers' income (with post-processing)](#cell34)\n",
    "    * 3.5. [Histogram: count of researchers by sector (with parallel composition)](#cell35)\n",
    "    * 3.6. [Contingency table: count of researchers by sector and academic degree (with parallel composition)](#cell36)\n"
   ]
  },
  {
   "cell_type": "code",
   "execution_count": 2,
   "id": "2a488984-bed2-4f99-9216-d096d0132948",
   "metadata": {
    "id": "2a488984-bed2-4f99-9216-d096d0132948"
   },
   "outputs": [],
   "source": [
    "import numpy as np\n",
    "import pandas as pd\n",
    "\n",
    "import seaborn as sns\n",
    "import matplotlib.pyplot as plt"
   ]
  },
  {
   "cell_type": "markdown",
   "id": "622f4661-c8bf-4af9-9058-fe4dad44d8a9",
   "metadata": {
    "id": "622f4661-c8bf-4af9-9058-fe4dad44d8a9"
   },
   "source": [
    "## 1. Overview of Differential Private Mechanisms <a id=\"cell1\"></a>\n",
    "\n",
    "For a better understanding of the **Laplace and Gaussian mechanisms** please refer to [this notebook]((https://github.com/dsaidgovsg/stack-2022-differential-privacy-workshop/blob/main/mechanisms.ipynb)."
   ]
  },
  {
   "cell_type": "markdown",
   "id": "56720dc6-dfc2-40a6-8e3a-bd8a938bdca7",
   "metadata": {
    "id": "56720dc6-dfc2-40a6-8e3a-bd8a938bdca7"
   },
   "source": [
    "### 1.1. Laplace mechanism <a id=\"cell11\"></a>\n",
    "\n",
    "For a function ${f}(x)$ that output's a number for a query, **laplace mechanism** $M(x)$ is given as: \n",
    "\n",
    "$M(x)= {f}(x) + Lap(\\frac{s}{\\epsilon}$)\n",
    "\n",
    "where **$s$** denotes sensitivtity and **$Lap(\\frac{s}{\\epsilon})$** denotes sampling a random value from the [laplacian distribution](https://en.wikipedia.org/wiki/Laplace_distribution) with center 0 and scale $\\frac{s}{\\epsilon}$.\n",
    "\n",
    "You can notice that the noise scale is directly proportional to sensitivity ($s$) and inversely proportional to epsilon ($\\epsilon$).\n",
    "\n",
    "The laplacian mechanism satisfies the **$\\epsilon$-differential privacy** i.e. pure-differential privacy, meaning, it provides worst case privacy gaurantee to the individuals in the dataset. "
   ]
  },
  {
   "cell_type": "code",
   "execution_count": 3,
   "id": "44a52c96-8b8e-477a-9f49-a66800377fe9",
   "metadata": {
    "id": "44a52c96-8b8e-477a-9f49-a66800377fe9"
   },
   "outputs": [],
   "source": [
    "def laplace_mechanism(query_out, sensitivity, epsilon):\n",
    "    return query_out + np.random.laplace(loc=0, scale=sensitivity/epsilon)"
   ]
  },
  {
   "cell_type": "markdown",
   "id": "3abf3e77-cd56-4059-a074-b71d138ddada",
   "metadata": {
    "id": "3abf3e77-cd56-4059-a074-b71d138ddada"
   },
   "source": [
    "### 1.2. Gaussian mechanism <a id=\"cell12\"></a>\n",
    "\n",
    "For a function ${f}(x)$ that output's a number for a query, **gaussian mechanism** $M(x)$ for ${\\epsilon < 1}$ is given as: \n",
    "\n",
    "$M(x)= {f}(x) + \\mathcal{N}(\\sigma^{2})$\n",
    "\n",
    "where $\\sigma^{2} = \\frac{2s^2 \\log(1.25/\\delta)}{\\epsilon^2}$\n",
    "\n",
    "$\\mathcal{N}(\\sigma^{2})$ denotes sampling a random value from the [gaussian distribution](https://en.wikipedia.org/wiki/Normal_distribution) with center 0 and scale **$\\sigma^{2}$**. \n",
    "\n",
    "$s$ is sensitivity  \n",
    "\n",
    "𝛿 is the failue probability \n",
    "- with probability 1−𝛿, we will get the same guarantee as pure differential privacy;\n",
    "- with probability 𝛿, we get no guarantee \n",
    "\n",
    "You can notice that the noise scale is directly proportional to sensitivity ($s$) and inversely proportional to epsilon ($\\epsilon$) and delta ($\\delta$).\n",
    "\n",
    "The gaussian mechanism satisfies the **$(\\epsilon, \\delta)$-differential privacy** i.e. approximate-differential privacy, meaning, it provides relaxed privacy gaurantee. "
   ]
  },
  {
   "cell_type": "code",
   "execution_count": 4,
   "id": "a8d039f1-0c70-47f0-b5d1-893d8341406e",
   "metadata": {
    "id": "a8d039f1-0c70-47f0-b5d1-893d8341406e"
   },
   "outputs": [],
   "source": [
    "def gaussian_mechanism(query, sensitivity, epsilon, delta):\n",
    "    sigma = np.sqrt(2 * np.log(1.25 / delta)) * sensitivity / epsilon\n",
    "    return query + np.random.normal(loc=0, scale=sigma)"
   ]
  },
  {
   "cell_type": "markdown",
   "id": "921ed731-ef1f-434b-8bc2-0c52dcb79f44",
   "metadata": {
    "id": "921ed731-ef1f-434b-8bc2-0c52dcb79f44"
   },
   "source": [
    "## 2. Utility Functions <a id=\"cell2\"></a>"
   ]
  },
  {
   "cell_type": "code",
   "execution_count": 5,
   "id": "7ddc1fc5-0de6-4c4c-ab52-0f640b3363ce",
   "metadata": {
    "id": "7ddc1fc5-0de6-4c4c-ab52-0f640b3363ce"
   },
   "outputs": [],
   "source": [
    "# function we will use to compute percentage absolute error \n",
    "def percentage_error(true_value, private_value):\n",
    "    return round(abs(true_value - private_value)/true_value*100, 2)"
   ]
  },
  {
   "cell_type": "code",
   "execution_count": 6,
   "id": "41b72831-cf43-4c53-af16-c83e0897f463",
   "metadata": {
    "id": "41b72831-cf43-4c53-af16-c83e0897f463"
   },
   "outputs": [],
   "source": [
    "# constants for the visualisations \n",
    "colors = [\"#4CB7A5\", \"#0198E1\", \"#DE3163\"]\n",
    "\n",
    "# function we will use to visualise the impact of sensitivity, epsilon and clamping bounds\n",
    "# on the accuracy of a query output\n",
    "def visualise(dp_results, param, param_values, errors, ylabel, title, labels, figsize=(10, 6)):\n",
    "    dp_results = pd.DataFrame(dp_results, index=labels)\n",
    "    \n",
    "    legend_labels = ['True value']\n",
    "    for param_value, error in zip(param_values, errors):\n",
    "        legend_labels.append(f\"{param} = {str(param_value)} : Error = {str(round(error, 1))}%\")\n",
    "\n",
    "    ax = dp_results.plot.bar(rot=0, figsize=figsize, width=0.8, fontsize=12, colormap = \"Wistia\")\n",
    "    \n",
    "    plt.title(title, fontsize=16)\n",
    "    plt.grid(axis='y', alpha=0.5)\n",
    "    plt.ylabel(ylabel, fontsize = 14)\n",
    "    plt.legend(fontsize = 12, labels=legend_labels)\n",
    "    sns.move_legend(ax, \"upper left\", bbox_to_anchor=(1, 1))"
   ]
  },
  {
   "cell_type": "markdown",
   "id": "62d0f441-b67d-468b-8857-f2d6249417a5",
   "metadata": {
    "id": "62d0f441-b67d-468b-8857-f2d6249417a5"
   },
   "source": [
    "## 3. Computing Queries Using Differential Privacy <a id=\"cell3\"></a>"
   ]
  },
  {
   "cell_type": "markdown",
   "id": "b06e855c-8ea9-4005-a5eb-3b3a3fd8d12e",
   "metadata": {
    "id": "b06e855c-8ea9-4005-a5eb-3b3a3fd8d12e"
   },
   "source": [
    "### 3.1. Synthetic survey data <a id=\"cell31\"></a>\n",
    "\n",
    "Now, we need to load our dataset, containing information about the researchers \n",
    "\n",
    "**Note**: You can refer to [the notebook](https://github.com/dsaidgovsg/stack-2022-differential-privacy-workshop/blob/main/generate_data.ipynb) on synthetic data generator. "
   ]
  },
  {
   "cell_type": "code",
   "execution_count": 7,
   "id": "262ac056-f280-4134-b433-23d0da6d8aaa",
   "metadata": {
    "colab": {
     "base_uri": "https://localhost:8080/",
     "height": 381
    },
    "id": "262ac056-f280-4134-b433-23d0da6d8aaa",
    "outputId": "a6829908-4570-495e-f905-6c266dcef832"
   },
   "outputs": [
    {
     "name": "stdout",
     "output_type": "stream",
     "text": [
      "Number of rows in the dataset 500\n"
     ]
    },
    {
     "data": {
      "text/html": [
       "<div>\n",
       "<style scoped>\n",
       "    .dataframe tbody tr th:only-of-type {\n",
       "        vertical-align: middle;\n",
       "    }\n",
       "\n",
       "    .dataframe tbody tr th {\n",
       "        vertical-align: top;\n",
       "    }\n",
       "\n",
       "    .dataframe thead th {\n",
       "        text-align: right;\n",
       "    }\n",
       "</style>\n",
       "<table border=\"1\" class=\"dataframe\">\n",
       "  <thead>\n",
       "    <tr style=\"text-align: right;\">\n",
       "      <th></th>\n",
       "      <th>NRIC</th>\n",
       "      <th>researcher_name</th>\n",
       "      <th>sector</th>\n",
       "      <th>income</th>\n",
       "      <th>degree</th>\n",
       "    </tr>\n",
       "  </thead>\n",
       "  <tbody>\n",
       "    <tr>\n",
       "      <th>0</th>\n",
       "      <td>F7582445S</td>\n",
       "      <td>Richard Westfall</td>\n",
       "      <td>Aerospace</td>\n",
       "      <td>6527</td>\n",
       "      <td>Post-grad</td>\n",
       "    </tr>\n",
       "    <tr>\n",
       "      <th>1</th>\n",
       "      <td>F6351848Q</td>\n",
       "      <td>Brenda Tonn</td>\n",
       "      <td>Healthcare</td>\n",
       "      <td>8383</td>\n",
       "      <td>Non-degree</td>\n",
       "    </tr>\n",
       "    <tr>\n",
       "      <th>2</th>\n",
       "      <td>F0543228O</td>\n",
       "      <td>Juanita Cornwell</td>\n",
       "      <td>Agricultural</td>\n",
       "      <td>8298</td>\n",
       "      <td>Masters</td>\n",
       "    </tr>\n",
       "    <tr>\n",
       "      <th>3</th>\n",
       "      <td>G2869872L</td>\n",
       "      <td>Mary Lagasca</td>\n",
       "      <td>Engineering</td>\n",
       "      <td>3763</td>\n",
       "      <td>PhD</td>\n",
       "    </tr>\n",
       "    <tr>\n",
       "      <th>4</th>\n",
       "      <td>T0323244I</td>\n",
       "      <td>Frederick Patrick</td>\n",
       "      <td>Aerospace</td>\n",
       "      <td>13694</td>\n",
       "      <td>Masters</td>\n",
       "    </tr>\n",
       "    <tr>\n",
       "      <th>5</th>\n",
       "      <td>S8542460T</td>\n",
       "      <td>Paul Engler</td>\n",
       "      <td>Agricultural</td>\n",
       "      <td>3222</td>\n",
       "      <td>Masters</td>\n",
       "    </tr>\n",
       "    <tr>\n",
       "      <th>6</th>\n",
       "      <td>T3274897X</td>\n",
       "      <td>Frances Kinsler</td>\n",
       "      <td>Healthcare</td>\n",
       "      <td>4095</td>\n",
       "      <td>PhD</td>\n",
       "    </tr>\n",
       "    <tr>\n",
       "      <th>7</th>\n",
       "      <td>S8801177R</td>\n",
       "      <td>Leticia Fox</td>\n",
       "      <td>Healthcare</td>\n",
       "      <td>5191</td>\n",
       "      <td>Non-degree</td>\n",
       "    </tr>\n",
       "    <tr>\n",
       "      <th>8</th>\n",
       "      <td>S3833675A</td>\n",
       "      <td>Jose Higa</td>\n",
       "      <td>Healthcare</td>\n",
       "      <td>7598</td>\n",
       "      <td>Masters</td>\n",
       "    </tr>\n",
       "    <tr>\n",
       "      <th>9</th>\n",
       "      <td>G9347179L</td>\n",
       "      <td>Lionel Daily</td>\n",
       "      <td>Healthcare</td>\n",
       "      <td>5310</td>\n",
       "      <td>Masters</td>\n",
       "    </tr>\n",
       "  </tbody>\n",
       "</table>\n",
       "</div>"
      ],
      "text/plain": [
       "        NRIC    researcher_name        sector  income      degree\n",
       "0  F7582445S   Richard Westfall     Aerospace    6527   Post-grad\n",
       "1  F6351848Q        Brenda Tonn    Healthcare    8383  Non-degree\n",
       "2  F0543228O   Juanita Cornwell  Agricultural    8298     Masters\n",
       "3  G2869872L       Mary Lagasca   Engineering    3763         PhD\n",
       "4  T0323244I  Frederick Patrick     Aerospace   13694     Masters\n",
       "5  S8542460T        Paul Engler  Agricultural    3222     Masters\n",
       "6  T3274897X    Frances Kinsler    Healthcare    4095         PhD\n",
       "7  S8801177R        Leticia Fox    Healthcare    5191  Non-degree\n",
       "8  S3833675A          Jose Higa    Healthcare    7598     Masters\n",
       "9  G9347179L       Lionel Daily    Healthcare    5310     Masters"
      ]
     },
     "execution_count": 7,
     "metadata": {},
     "output_type": "execute_result"
    }
   ],
   "source": [
    "# loading data from google drive\n",
    "\n",
    "# dataset with 500 rows\n",
    "url='https://drive.google.com/file/d/1UmOb_GX7d2CuxLOj1wqAuhFM_gV9GREg/view?usp=share_link' # data with 500 rows\n",
    "\n",
    "# +--------------------------------------------------------------------+\n",
    "# You can uncomment and use a link to load the dataset of desired size\n",
    "# +--------------------------------------------------------------------+\n",
    "# data with 1000 rows\n",
    "# url = 'https://drive.google.com/file/d/1o7SKjUGY71bVC77B_r4QEsP31agZyvyj/view?usp=share_link' \n",
    "\n",
    "# data with 10000 rows\n",
    "# url = 'https://drive.google.com/file/d/1nkCfBcCdLoqtXqzw7ETG9BLt2xtWkfol/view?usp=share_link' \n",
    "\n",
    "url='https://drive.google.com/uc?id=' + url.split('/')[-2]\n",
    "\n",
    "# loading data into pandas dataframe\n",
    "data = pd.read_csv(url)\n",
    "\n",
    "data_size = len(data)\n",
    "\n",
    "print(f\"Number of rows in the dataset {data_size}\")\n",
    "data.head(10)"
   ]
  },
  {
   "cell_type": "markdown",
   "id": "acc9fc48-4f6c-4ffc-bb44-6448449e87c9",
   "metadata": {
    "id": "acc9fc48-4f6c-4ffc-bb44-6448449e87c9"
   },
   "source": [
    "Great! Our dataset is ready for analysis. 😀"
   ]
  },
  {
   "cell_type": "markdown",
   "id": "5b9e83f2-3622-4025-b946-129bd05b200c",
   "metadata": {
    "id": "5b9e83f2-3622-4025-b946-129bd05b200c"
   },
   "source": [
    "### 3.2. Count of researchers <a id=\"cell32\"></a> 📊\n",
    "\n",
    "--- \n",
    "\n",
    "We will count the researchers in the dataset who participated in the survey. We will also assume each researcher contributes to atmost one row. "
   ]
  },
  {
   "cell_type": "markdown",
   "id": "8e82c25b-8b7b-4394-b2e9-996c365d3287",
   "metadata": {
    "id": "8e82c25b-8b7b-4394-b2e9-996c365d3287"
   },
   "source": [
    "##### True count"
   ]
  },
  {
   "cell_type": "code",
   "execution_count": 8,
   "id": "b17b5e49-877f-487e-be52-60b77131be4b",
   "metadata": {
    "colab": {
     "base_uri": "https://localhost:8080/"
    },
    "id": "b17b5e49-877f-487e-be52-60b77131be4b",
    "outputId": "453602b7-2065-4f3f-b3c9-9be6bef687f5"
   },
   "outputs": [
    {
     "name": "stdout",
     "output_type": "stream",
     "text": [
      "+----------------------------------+\n",
      "True count of the researchers: 500\n",
      "+----------------------------------+\n"
     ]
    }
   ],
   "source": [
    "# count of researchers is the number of rows\n",
    "true_count = len(data['researcher_name'])\n",
    "\n",
    "print(\"+----------------------------------+\")\n",
    "print(f\"True count of the researchers: {true_count}\")\n",
    "print(\"+----------------------------------+\")"
   ]
  },
  {
   "cell_type": "markdown",
   "id": "f74da60d-6140-48da-af6f-6a2b84c01d67",
   "metadata": {
    "id": "f74da60d-6140-48da-af6f-6a2b84c01d67"
   },
   "source": [
    "##### Private count "
   ]
  },
  {
   "cell_type": "markdown",
   "id": "dd619075-8556-4c3f-8dec-fb5ee85c998f",
   "metadata": {
    "id": "dd619075-8556-4c3f-8dec-fb5ee85c998f"
   },
   "source": [
    "We now allocate epsilon = 0.1 to count the researchers in a differentially private manner.   \n",
    "\n",
    "As a rule of thumb, sensitivity of **count** query is 1. "
   ]
  },
  {
   "cell_type": "code",
   "execution_count": 9,
   "id": "c5b92505-3a1e-46af-9ee9-4647c1f81080",
   "metadata": {
    "colab": {
     "base_uri": "https://localhost:8080/"
    },
    "id": "c5b92505-3a1e-46af-9ee9-4647c1f81080",
    "outputId": "b37d674e-09f8-42f4-a67b-3b8bf7cc1dcf"
   },
   "outputs": [
    {
     "name": "stdout",
     "output_type": "stream",
     "text": [
      "+-------------------------------------------------------------------+\n",
      "Private count of the researchers: 500.23158889960973 with error: 0.05%\n",
      "+-------------------------------------------------------------------+\n"
     ]
    }
   ],
   "source": [
    "sensitivity = 1 \n",
    "\n",
    "# +------------------------------------------------+\n",
    "# You can play around with the epsilon value here\n",
    "# +------------------------------------------------+\n",
    "epsilon = 0.8\n",
    "\n",
    "# applying laplacian mechanism\n",
    "private_count = laplace_mechanism(true_count, sensitivity, epsilon)\n",
    "\n",
    "print(\"+-------------------------------------------------------------------+\")\n",
    "print(f\"Private count of the researchers: {private_count} with error: {percentage_error(true_count, private_count)}%\")\n",
    "print(\"+-------------------------------------------------------------------+\")"
   ]
  },
  {
   "cell_type": "markdown",
   "id": "78702328-2b62-4f02-9f0c-c1753052fc23",
   "metadata": {
    "id": "78702328-2b62-4f02-9f0c-c1753052fc23"
   },
   "source": [
    "**Everytime you run the above lines of code, you might see different values! This is a central characteristic of differential privacy: it injects some randomisation (we call this noise) in the execution of the query.** "
   ]
  },
  {
   "cell_type": "markdown",
   "id": "4dc18e69-86c6-4947-be2f-3cd612e9c82f",
   "metadata": {
    "id": "4dc18e69-86c6-4947-be2f-3cd612e9c82f"
   },
   "source": [
    "#### 3.2.1. Impact of epsilon <a id=\"cell321\"></a>\n",
    "\n",
    "Now, we will visualise error with different values of epsilon. "
   ]
  },
  {
   "cell_type": "code",
   "execution_count": 10,
   "id": "6f48b26e-9538-48ca-8fbe-7d81dcb42bd0",
   "metadata": {
    "colab": {
     "base_uri": "https://localhost:8080/",
     "height": 274
    },
    "id": "6f48b26e-9538-48ca-8fbe-7d81dcb42bd0",
    "outputId": "fc2753f4-7990-441d-e951-dbae4dc0efef"
   },
   "outputs": [
    {
     "data": {
      "image/png": "[encoded data removed]",
      "text/plain": [
       "<Figure size 432x288 with 1 Axes>"
      ]
     },
     "metadata": {
      "needs_background": "light"
     },
     "output_type": "display_data"
    }
   ],
   "source": [
    "sensitivity = 1 \n",
    "\n",
    "# +------------------------------------------------+\n",
    "# You can play around with the epsilon values here \n",
    "# +------------------------------------------------+\n",
    "epsilons = [0.01, 0.05, 0.1, 2]\n",
    "\n",
    "# for visualisation\n",
    "errors = []\n",
    "dp_results = {}\n",
    "dp_results[\"true_count\"] = [true_count]\n",
    "\n",
    "# evaluating on different values of epsilon\n",
    "for epsilon in epsilons:\n",
    "    # adding laplacian noise\n",
    "    private_count = laplace_mechanism(true_count, sensitivity, epsilon)\n",
    "    \n",
    "    dp_results[f\"epsilon_{epsilon}\"] = [private_count]\n",
    "    errors.append(percentage_error(true_count, private_count))\n",
    "\n",
    "# visualise data \n",
    "labels = [\"\"]\n",
    "title = f\"Researchers' count (data size = {data_size})\"\n",
    "ylabel = \"Count\"\n",
    "visualise(dp_results, 'ε', epsilons, errors, ylabel, title, labels, (6, 4))"
   ]
  },
  {
   "cell_type": "markdown",
   "id": "69540c7d-2afa-48e9-b361-f62a36212f7b",
   "metadata": {
    "id": "69540c7d-2afa-48e9-b361-f62a36212f7b",
    "tags": []
   },
   "source": [
    "### 3.3. Sum of researchers' income <a id=\"cell33\"></a> 📊\n",
    "---\n",
    "\n",
    "Counting query, which we ran is very useful, but we often need a little more: sums, averages, … We will see how to compute this larger class of aggregations with differential privacy. These operations require us to learn and use a new concept: **clamping bounds.** \n",
    "\n",
    "Sometimes we known a reasonable minimum and maximum for each value of a column, you can use those as clamping bounds e.g., age can have lower bound of 0 and an upper bound of 118.  It is simple to assume, without looking at the dataset, that all of the researchers in the survey are under the age of 118 and that ages must have a positive value.\n",
    "\n",
    "Sometimes, things are not as clear-cut. Let's first explain what these clamping bounds do in order to understand what to do in more complicated situations."
   ]
  },
  {
   "cell_type": "markdown",
   "id": "913f74d4-5a3a-49f5-bb42-496c780e3a85",
   "metadata": {
    "id": "913f74d4-5a3a-49f5-bb42-496c780e3a85"
   },
   "source": [
    "#### Clamping bounds \n",
    "The data is clamped to be within lower and upper bounds in order to limit\n",
    "the influence any one individual has on the query. \n",
    "\n",
    "$ f_{clamping}(x)= \n",
    "\\begin{cases}\n",
    "    upper,& \\text{if } x\\gt upper\\\\\n",
    "    lower,& \\text{if } x\\lt lower\\\\\n",
    "    x,              & \\text{otherwise}\n",
    "\\end{cases}$\n",
    "\n",
    "**What do clamping bounds actually do?** 🧐\n",
    "\n",
    "These lower (minimum) and upper (maximum) values for numerical columns have direct affect on the value of the computed statistics, possibly dramatically. In particular, they have two major effects.\n",
    "\n",
    "- The input data will be clamped within these bounds.\n",
    "- The amount of noise in the data will (typically) increase with the size of the clamping bounds.\n",
    "\n",
    "This is rational: the goal of differential privacy is to hide the influence of a single individual in the data, and clamping bounds limit that impact."
   ]
  },
  {
   "cell_type": "markdown",
   "id": "6536d4d4-f9a3-436f-867c-e37cc105592a",
   "metadata": {
    "id": "6536d4d4-f9a3-436f-867c-e37cc105592a"
   },
   "source": [
    "**Using distribution of researchers' income to estimate bounds** "
   ]
  },
  {
   "cell_type": "markdown",
   "id": "3b41b1b2-3d2d-4030-899a-ff74d1df4f4d",
   "metadata": {
    "id": "3b41b1b2-3d2d-4030-899a-ff74d1df4f4d"
   },
   "source": [
    "The total income for researchers is what we want to calculate. What are the proper clamping bounds?\n",
    "\n",
    "Examining the most frequent values for this column is a common first step in making this choice. The following histogram gives us an idea of the data distribution."
   ]
  },
  {
   "cell_type": "code",
   "execution_count": 11,
   "id": "72169038-5972-4ad6-bb83-1cc5d7059a7b",
   "metadata": {
    "colab": {
     "base_uri": "https://localhost:8080/",
     "height": 279
    },
    "id": "72169038-5972-4ad6-bb83-1cc5d7059a7b",
    "outputId": "4117fd05-8c68-4c1a-c586-142c7e5b3fbb"
   },
   "outputs": [
    {
     "data": {
      "image/png": "[encoded data removed]",
      "text/plain": [
       "<Figure size 432x288 with 1 Axes>"
      ]
     },
     "metadata": {
      "needs_background": "light"
     },
     "output_type": "display_data"
    }
   ],
   "source": [
    "sns.histplot(data['income'], color=colors[0])\n",
    "plt.xlabel('Income')\n",
    "plt.ylabel('Count of researchers');"
   ]
  },
  {
   "cell_type": "markdown",
   "id": "eda52069-b6c5-4ccf-9947-2b5f8bba7566",
   "metadata": {
    "id": "eda52069-b6c5-4ccf-9947-2b5f8bba7566"
   },
   "source": [
    "**Note**: It is usually acceptable to visualise the data distribution and make a judgment call, but it is not acceptable to take, for example, the exact maximum value in the data because doing so would reveal the value of a single data point."
   ]
  },
  {
   "cell_type": "markdown",
   "id": "5171891f-6e27-4e0f-a348-5b3150e7cda9",
   "metadata": {
    "id": "5171891f-6e27-4e0f-a348-5b3150e7cda9"
   },
   "source": [
    "##### True sum"
   ]
  },
  {
   "cell_type": "code",
   "execution_count": 12,
   "id": "81868b5a-deba-4218-87eb-b6bd545d2f30",
   "metadata": {
    "colab": {
     "base_uri": "https://localhost:8080/"
    },
    "id": "81868b5a-deba-4218-87eb-b6bd545d2f30",
    "outputId": "f31ab77a-0e45-4153-d1fe-aabe23de6c3a"
   },
   "outputs": [
    {
     "name": "stdout",
     "output_type": "stream",
     "text": [
      "+-----------------------------------------------------+\n",
      "True sum of the researchers' income: 3014194\n",
      "+-----------------------------------------------------+\n"
     ]
    }
   ],
   "source": [
    "true_sum_income = sum(data['income'])\n",
    "\n",
    "print(\"+-----------------------------------------------------+\")\n",
    "print(f\"True sum of the researchers' income: {true_sum_income}\")\n",
    "print(\"+-----------------------------------------------------+\")"
   ]
  },
  {
   "cell_type": "markdown",
   "id": "bc85aa45-5a8f-4128-b4ee-a51891f6bd55",
   "metadata": {
    "id": "bc85aa45-5a8f-4128-b4ee-a51891f6bd55"
   },
   "source": [
    "##### Bounded sum"
   ]
  },
  {
   "cell_type": "code",
   "execution_count": 13,
   "id": "ef0ab84d-d4a6-44af-8155-23fcfce21fac",
   "metadata": {
    "colab": {
     "base_uri": "https://localhost:8080/",
     "height": 677
    },
    "id": "ef0ab84d-d4a6-44af-8155-23fcfce21fac",
    "outputId": "a90034e3-30e6-4ef4-b7f1-dabd23103f7b"
   },
   "outputs": [
    {
     "data": {
      "text/html": [
       "<div>\n",
       "<style scoped>\n",
       "    .dataframe tbody tr th:only-of-type {\n",
       "        vertical-align: middle;\n",
       "    }\n",
       "\n",
       "    .dataframe tbody tr th {\n",
       "        vertical-align: top;\n",
       "    }\n",
       "\n",
       "    .dataframe thead th {\n",
       "        text-align: right;\n",
       "    }\n",
       "</style>\n",
       "<table border=\"1\" class=\"dataframe\">\n",
       "  <thead>\n",
       "    <tr style=\"text-align: right;\">\n",
       "      <th></th>\n",
       "      <th>income</th>\n",
       "      <th>bounded_income</th>\n",
       "    </tr>\n",
       "  </thead>\n",
       "  <tbody>\n",
       "    <tr>\n",
       "      <th>480</th>\n",
       "      <td>3861</td>\n",
       "      <td>4000</td>\n",
       "    </tr>\n",
       "    <tr>\n",
       "      <th>481</th>\n",
       "      <td>5028</td>\n",
       "      <td>5028</td>\n",
       "    </tr>\n",
       "    <tr>\n",
       "      <th>482</th>\n",
       "      <td>3765</td>\n",
       "      <td>4000</td>\n",
       "    </tr>\n",
       "    <tr>\n",
       "      <th>483</th>\n",
       "      <td>10517</td>\n",
       "      <td>10517</td>\n",
       "    </tr>\n",
       "    <tr>\n",
       "      <th>484</th>\n",
       "      <td>14382</td>\n",
       "      <td>13000</td>\n",
       "    </tr>\n",
       "    <tr>\n",
       "      <th>485</th>\n",
       "      <td>5722</td>\n",
       "      <td>5722</td>\n",
       "    </tr>\n",
       "    <tr>\n",
       "      <th>486</th>\n",
       "      <td>4080</td>\n",
       "      <td>4080</td>\n",
       "    </tr>\n",
       "    <tr>\n",
       "      <th>487</th>\n",
       "      <td>6321</td>\n",
       "      <td>6321</td>\n",
       "    </tr>\n",
       "    <tr>\n",
       "      <th>488</th>\n",
       "      <td>4572</td>\n",
       "      <td>4572</td>\n",
       "    </tr>\n",
       "    <tr>\n",
       "      <th>489</th>\n",
       "      <td>5823</td>\n",
       "      <td>5823</td>\n",
       "    </tr>\n",
       "    <tr>\n",
       "      <th>490</th>\n",
       "      <td>6358</td>\n",
       "      <td>6358</td>\n",
       "    </tr>\n",
       "    <tr>\n",
       "      <th>491</th>\n",
       "      <td>5619</td>\n",
       "      <td>5619</td>\n",
       "    </tr>\n",
       "    <tr>\n",
       "      <th>492</th>\n",
       "      <td>4319</td>\n",
       "      <td>4319</td>\n",
       "    </tr>\n",
       "    <tr>\n",
       "      <th>493</th>\n",
       "      <td>8470</td>\n",
       "      <td>8470</td>\n",
       "    </tr>\n",
       "    <tr>\n",
       "      <th>494</th>\n",
       "      <td>3688</td>\n",
       "      <td>4000</td>\n",
       "    </tr>\n",
       "    <tr>\n",
       "      <th>495</th>\n",
       "      <td>5472</td>\n",
       "      <td>5472</td>\n",
       "    </tr>\n",
       "    <tr>\n",
       "      <th>496</th>\n",
       "      <td>4491</td>\n",
       "      <td>4491</td>\n",
       "    </tr>\n",
       "    <tr>\n",
       "      <th>497</th>\n",
       "      <td>3534</td>\n",
       "      <td>4000</td>\n",
       "    </tr>\n",
       "    <tr>\n",
       "      <th>498</th>\n",
       "      <td>3968</td>\n",
       "      <td>4000</td>\n",
       "    </tr>\n",
       "    <tr>\n",
       "      <th>499</th>\n",
       "      <td>4012</td>\n",
       "      <td>4012</td>\n",
       "    </tr>\n",
       "  </tbody>\n",
       "</table>\n",
       "</div>"
      ],
      "text/plain": [
       "     income  bounded_income\n",
       "480    3861            4000\n",
       "481    5028            5028\n",
       "482    3765            4000\n",
       "483   10517           10517\n",
       "484   14382           13000\n",
       "485    5722            5722\n",
       "486    4080            4080\n",
       "487    6321            6321\n",
       "488    4572            4572\n",
       "489    5823            5823\n",
       "490    6358            6358\n",
       "491    5619            5619\n",
       "492    4319            4319\n",
       "493    8470            8470\n",
       "494    3688            4000\n",
       "495    5472            5472\n",
       "496    4491            4491\n",
       "497    3534            4000\n",
       "498    3968            4000\n",
       "499    4012            4012"
      ]
     },
     "execution_count": 13,
     "metadata": {},
     "output_type": "execute_result"
    }
   ],
   "source": [
    "# +------------------------------------------------+\n",
    "# You can play around with the clamping bounds  here \n",
    "# +------------------------------------------------+\n",
    "lower_bound = 4000\n",
    "upper_bound = 13000\n",
    "\n",
    "# apply clipping to the raw values to keep them within the set bounds\n",
    "# - values less than `lower_bound` will be clipped to `lower_bound` \n",
    "# - values greater than `upper_bound` will be clipped to `upper_bound` \n",
    "data['bounded_income'] = data['income'].clip(lower=lower_bound, upper=upper_bound)\n",
    "\n",
    "data[['income', 'bounded_income']].tail(20)"
   ]
  },
  {
   "cell_type": "code",
   "execution_count": 14,
   "id": "fb1ab9bc-5725-4a01-87f2-7147762c728d",
   "metadata": {
    "colab": {
     "base_uri": "https://localhost:8080/"
    },
    "id": "fb1ab9bc-5725-4a01-87f2-7147762c728d",
    "outputId": "7dc859f1-8259-4548-9e7f-5faee18fe22c"
   },
   "outputs": [
    {
     "name": "stdout",
     "output_type": "stream",
     "text": [
      "+--------------------------------------------------------------+\n",
      "True bounded sum of the researchers' income: 3058870\n",
      "+--------------------------------------------------------------+\n"
     ]
    }
   ],
   "source": [
    "# computing sum on the bounded values\n",
    "true_bounded_sum_income = sum(data['bounded_income'])\n",
    "\n",
    "print(\"+--------------------------------------------------------------+\")\n",
    "print(f\"True bounded sum of the researchers' income: {true_bounded_sum_income}\")\n",
    "print(\"+--------------------------------------------------------------+\")"
   ]
  },
  {
   "cell_type": "markdown",
   "id": "9eaafb40-d118-47c1-8cb4-bae9bad5201b",
   "metadata": {
    "id": "9eaafb40-d118-47c1-8cb4-bae9bad5201b"
   },
   "source": [
    "##### Private sum"
   ]
  },
  {
   "cell_type": "code",
   "execution_count": 15,
   "id": "f6989b3f-e547-4101-8de7-c3a48d3cf98e",
   "metadata": {
    "colab": {
     "base_uri": "https://localhost:8080/"
    },
    "id": "f6989b3f-e547-4101-8de7-c3a48d3cf98e",
    "outputId": "83631495-e902-4feb-a98e-49b20d3e9ebe"
   },
   "outputs": [
    {
     "name": "stdout",
     "output_type": "stream",
     "text": [
      "+-----------------------------------------------------------------------+\n",
      "Private sum of the researchers's income: 3078311.6424102113 with error: 2.13%\n",
      "+-----------------------------------------------------------------------+\n"
     ]
    }
   ],
   "source": [
    "# sensivity of the sum query in this case is the upper_bound\n",
    "# reason: maximum the sum query's output will change on adding/removing a row is the `upper_bound`\n",
    "sensitivity = upper_bound \n",
    "\n",
    "# +------------------------------------------------+\n",
    "# You can play around with the epsilon value here \n",
    "# +------------------------------------------------+\n",
    "epsilon = 0.8\n",
    "\n",
    "# applying laplacian mechanism\n",
    "private_sum_income = laplace_mechanism(true_bounded_sum_income, sensitivity, epsilon)\n",
    "\n",
    "print(\"+-----------------------------------------------------------------------+\")\n",
    "print(f\"Private sum of the researchers's income: {private_sum_income} with error: {percentage_error(true_sum_income, private_sum_income)}%\")\n",
    "print(\"+-----------------------------------------------------------------------+\")"
   ]
  },
  {
   "cell_type": "markdown",
   "id": "b9691055-c853-4b41-8ef9-93297fde5960",
   "metadata": {
    "id": "b9691055-c853-4b41-8ef9-93297fde5960"
   },
   "source": [
    "#### 3.3.1. Impact of epsilon <a id=\"cell331\"></a>\n",
    "\n",
    "Now, we will visualise error with different values of epsilon. "
   ]
  },
  {
   "cell_type": "code",
   "execution_count": 16,
   "id": "5bf18c98-7d7e-40c5-898b-ead65a48c6f8",
   "metadata": {
    "colab": {
     "base_uri": "https://localhost:8080/",
     "height": 274
    },
    "id": "5bf18c98-7d7e-40c5-898b-ead65a48c6f8",
    "outputId": "c7028b6c-62d3-4faa-9566-8276983a64a9"
   },
   "outputs": [
    {
     "data": {
      "image/png": "[encoded data removed]",
      "text/plain": [
       "<Figure size 432x288 with 1 Axes>"
      ]
     },
     "metadata": {
      "needs_background": "light"
     },
     "output_type": "display_data"
    }
   ],
   "source": [
    "# +------------------------------------------------+\n",
    "# You can play around with the epsilon values here \n",
    "# +------------------------------------------------+\n",
    "epsilons = [0.01, 0.05, 0.1, 2]\n",
    "\n",
    "# for visualisation\n",
    "errors = []\n",
    "dp_results = {}\n",
    "dp_results[\"true_sum\"] = [true_sum_income]\n",
    "\n",
    "# evaluating on different values of epsilon\n",
    "for epsilon in epsilons:\n",
    "    # applying laplace mechanism\n",
    "    private_sum_income = laplace_mechanism(true_sum_income, sensitivity, epsilon)\n",
    "    \n",
    "    dp_results[f\"epsilon_{epsilon}\"] = [private_sum_income]\n",
    "    errors.append(percentage_error(true_sum_income, private_sum_income))\n",
    "\n",
    "# visualise data \n",
    "labels = [\"\"]\n",
    "title = f\"Sum of Researchers' income (data size = {data_size})\"\n",
    "ylabel = \"Sum\"\n",
    "visualise(dp_results, 'ε', epsilons, errors, ylabel, title, labels, (6, 4))"
   ]
  },
  {
   "cell_type": "markdown",
   "id": "7df225c5-e5cf-44c5-b964-4b5d19c190f8",
   "metadata": {
    "id": "7df225c5-e5cf-44c5-b964-4b5d19c190f8"
   },
   "source": [
    "#### 3.3.2. Impact of clamping bounds <a id=\"cell332\"></a>\n",
    "\n",
    "Now, we will visualise error with different clamping bounds. "
   ]
  },
  {
   "cell_type": "markdown",
   "id": "WRclwrYTWQEN",
   "metadata": {
    "id": "WRclwrYTWQEN"
   },
   "source": [
    "---\n",
    "If these bounds are too tight, the release may be biased, because values outside these bounds\n",
    "are replaced with the nearest bound. On the other hand, if these bounds are too wide, the respective release will have greater variance.\n",
    "\n",
    "---"
   ]
  },
  {
   "cell_type": "code",
   "execution_count": 17,
   "id": "1f0cffa4-b50c-4f65-bf9b-884de929af47",
   "metadata": {
    "colab": {
     "base_uri": "https://localhost:8080/",
     "height": 274
    },
    "id": "1f0cffa4-b50c-4f65-bf9b-884de929af47",
    "outputId": "5b2f1cd4-c29c-4a26-e261-8a17712b3098"
   },
   "outputs": [
    {
     "data": {
      "image/png": "[encoded data removed]",
      "text/plain": [
       "<Figure size 432x288 with 1 Axes>"
      ]
     },
     "metadata": {
      "needs_background": "light"
     },
     "output_type": "display_data"
    }
   ],
   "source": [
    "epsilon = 0.1\n",
    "\n",
    "# +------------------------------------------------+\n",
    "# You can play around with the clamping bounds here \n",
    "# +------------------------------------------------+\n",
    "bounds = [(4000, 6000), (4000, 8000), (4000, 13000), (4000, 30000)]\n",
    "\n",
    "# for visualisation\n",
    "errors = []\n",
    "dp_results = {}\n",
    "dp_results[\"true_sum\"] = [true_sum_income]\n",
    "\n",
    "# evaluating on different values of clamping bounds\n",
    "for l, u in bounds:\n",
    "    # setting sensitivity of the sum query as the `upper_bound`\n",
    "    sensitivity = u\n",
    "\n",
    "    # applying clamping \n",
    "    data['bounded_income'] = data['income'].clip(lower=l, upper=u)\n",
    "\n",
    "    # sum of the bounded salaries\n",
    "    true_bounded_sum_income = sum(data['bounded_income'])\n",
    "    \n",
    "    # applying laplace mechanism\n",
    "    private_sum_income = laplace_mechanism(true_bounded_sum_income, sensitivity, epsilon)\n",
    "    \n",
    "    dp_results[f\"bounds_{str(l)}_{str(u)}\"] = [private_sum_income]\n",
    "    errors.append(percentage_error(true_sum_income, private_sum_income))\n",
    "\n",
    "# visualise data \n",
    "labels = [\"\"]\n",
    "title = f\"Sum of Researchers' income (data size = {data_size})\"\n",
    "ylabel = \"Sum\"\n",
    "visualise(dp_results, 'bounds', bounds, errors, ylabel, title, labels, (6, 4))"
   ]
  },
  {
   "cell_type": "markdown",
   "id": "cc0c7500-63ab-4afc-8c8c-9eea68f208a0",
   "metadata": {
    "id": "cc0c7500-63ab-4afc-8c8c-9eea68f208a0"
   },
   "source": [
    "### 3.4. Mean of researchers' income (with post-processing) <a id=\"cell34\"></a> 📊\n",
    "---\n",
    "\n",
    "We might be more interested in the mean income. Fortunately, we already have the differential private releases of the total number of researchers and their income, which we can use to calculate the mean. (Yay! No epsilon spending 😎)\n",
    "\n",
    "A key feature of differential privacy is **post-processing**, which enables you to perform operations on differentially private releases without jeopardizing their privacy guarantee. The only obvious constraint is that you do not look at the original dataset. 👀"
   ]
  },
  {
   "cell_type": "markdown",
   "id": "866f846d-7f69-4e00-b35f-5667bb691a97",
   "metadata": {
    "id": "866f846d-7f69-4e00-b35f-5667bb691a97"
   },
   "source": [
    "##### True mean"
   ]
  },
  {
   "cell_type": "code",
   "execution_count": 18,
   "id": "ed182de6-c3bf-408f-890a-3deae57c9a25",
   "metadata": {
    "colab": {
     "base_uri": "https://localhost:8080/"
    },
    "id": "ed182de6-c3bf-408f-890a-3deae57c9a25",
    "outputId": "1236913e-e307-4d68-de83-76d642840762"
   },
   "outputs": [
    {
     "name": "stdout",
     "output_type": "stream",
     "text": [
      "+--------------------------------------------------------+\n",
      "True mean of the researchers's income: 6028.388\n",
      "+--------------------------------------------------------+\n"
     ]
    }
   ],
   "source": [
    "true_mean_income = true_sum_income/true_count\n",
    "\n",
    "print(\"+--------------------------------------------------------+\")\n",
    "print(f\"True mean of the researchers's income: {true_mean_income}\")\n",
    "print(\"+--------------------------------------------------------+\")"
   ]
  },
  {
   "cell_type": "markdown",
   "id": "68d34a0e-1fea-44b3-b805-b3669eef3a8a",
   "metadata": {
    "id": "68d34a0e-1fea-44b3-b805-b3669eef3a8a"
   },
   "source": [
    "##### Private mean"
   ]
  },
  {
   "cell_type": "code",
   "execution_count": 19,
   "id": "b8312437-62e4-4738-babf-cd00c3c579e4",
   "metadata": {
    "colab": {
     "base_uri": "https://localhost:8080/"
    },
    "id": "b8312437-62e4-4738-babf-cd00c3c579e4",
    "outputId": "fa229655-d2fe-4e4c-f4a1-ec0329d089cc"
   },
   "outputs": [
    {
     "name": "stdout",
     "output_type": "stream",
     "text": [
      "+----------------------------------------------------------------------------+\n",
      "Private mean of the researchers's income: 6967.126645445499 with error: 15.57%\n",
      "+----------------------------------------------------------------------------+\n"
     ]
    }
   ],
   "source": [
    "# computing the private mean using the released private sum and count \n",
    "private_mean_income = private_sum_income/private_count\n",
    "\n",
    "print(\"+----------------------------------------------------------------------------+\")\n",
    "print(f\"Private mean of the researchers's income: {private_mean_income} with error: {percentage_error(true_mean_income, private_mean_income)}%\")\n",
    "print(\"+----------------------------------------------------------------------------+\")"
   ]
  },
  {
   "cell_type": "markdown",
   "id": "112fbe9b-3518-42e4-8164-99c987f57df0",
   "metadata": {
    "id": "112fbe9b-3518-42e4-8164-99c987f57df0"
   },
   "source": [
    "## Parallel composition \n",
    "\n",
    "The aggregates we observed, count, sum, and mean, returned a single statistic for all the data. However, a lot of frequently used data analysis operations are group-by queries, which partition the data into groups and calculate one aggregation per group.\n",
    "\n",
    "Using **Parallel composition** instead of spending a privacy loss of k$\\epsilon$ (with sequential composition -- epsilons add up on running multiple queries on a dataset), you only incur a privacy loss of $\\epsilon$. Wow! 😮 \n",
    "\n",
    "\n",
    "**Parallel composition** is based on the idea of splitting your dataset into disjoint chunks and running a differentially private mechanism on each chunk separately. Since the chunks are disjoint, each individual’s data appears in exactly one chunk - so even if there are, say, k  chunks in total (and therefore k runs of the mechanism), the mechanism runs exactly once on the data of each individual. \n",
    "\n"
   ]
  },
  {
   "cell_type": "markdown",
   "id": "f7884269-3259-4a81-8305-cab399a76b22",
   "metadata": {
    "id": "f7884269-3259-4a81-8305-cab399a76b22"
   },
   "source": [
    "### 3.5. Histogram:  count of researchers by sector (with parallel composition) <a id=\"cell35\"></a> 📊\n",
    "---\n",
    "\n",
    "We will assume that each researcher belongs to only one sector among Agricultural, Aerospace, Engineering and Healthcare.\n",
    "\n",
    "Note: If a reseacher belongs to more than one sector than sensivity of the query will increase. Moreover, we need to apply bounds on the maximum sectors a researcher can belong to prevent scaling of the noise. "
   ]
  },
  {
   "cell_type": "markdown",
   "id": "e3723e05-0ce9-49ef-8b06-399e7990b06e",
   "metadata": {
    "id": "e3723e05-0ce9-49ef-8b06-399e7990b06e"
   },
   "source": [
    "##### **True** count of the researchers by sector"
   ]
  },
  {
   "cell_type": "code",
   "execution_count": 20,
   "id": "cf6f9a8b-28bb-45aa-8857-688533f6f68c",
   "metadata": {
    "colab": {
     "base_uri": "https://localhost:8080/",
     "height": 175
    },
    "id": "cf6f9a8b-28bb-45aa-8857-688533f6f68c",
    "outputId": "ffc486d6-ee78-4721-8c3b-2a733c1c20b3"
   },
   "outputs": [
    {
     "data": {
      "text/html": [
       "<div>\n",
       "<style scoped>\n",
       "    .dataframe tbody tr th:only-of-type {\n",
       "        vertical-align: middle;\n",
       "    }\n",
       "\n",
       "    .dataframe tbody tr th {\n",
       "        vertical-align: top;\n",
       "    }\n",
       "\n",
       "    .dataframe thead th {\n",
       "        text-align: right;\n",
       "    }\n",
       "</style>\n",
       "<table border=\"1\" class=\"dataframe\">\n",
       "  <thead>\n",
       "    <tr style=\"text-align: right;\">\n",
       "      <th></th>\n",
       "      <th>sector</th>\n",
       "    </tr>\n",
       "  </thead>\n",
       "  <tbody>\n",
       "    <tr>\n",
       "      <th>Aerospace</th>\n",
       "      <td>144</td>\n",
       "    </tr>\n",
       "    <tr>\n",
       "      <th>Healthcare</th>\n",
       "      <td>127</td>\n",
       "    </tr>\n",
       "    <tr>\n",
       "      <th>Engineering</th>\n",
       "      <td>119</td>\n",
       "    </tr>\n",
       "    <tr>\n",
       "      <th>Agricultural</th>\n",
       "      <td>110</td>\n",
       "    </tr>\n",
       "  </tbody>\n",
       "</table>\n",
       "</div>"
      ],
      "text/plain": [
       "              sector\n",
       "Aerospace        144\n",
       "Healthcare       127\n",
       "Engineering      119\n",
       "Agricultural     110"
      ]
     },
     "execution_count": 20,
     "metadata": {},
     "output_type": "execute_result"
    }
   ],
   "source": [
    "true_counts_by_sector = data['sector'].value_counts().to_frame()\n",
    "true_counts_by_sector"
   ]
  },
  {
   "cell_type": "markdown",
   "id": "29274c10-4ee9-48d9-a57e-562109fca2f2",
   "metadata": {
    "id": "29274c10-4ee9-48d9-a57e-562109fca2f2"
   },
   "source": [
    "##### **Private** count of the researchers by sector\n",
    "\n",
    "This analysis has a total privacy loss of the set epsilon value (in this case 1), even though we release many results"
   ]
  },
  {
   "cell_type": "code",
   "execution_count": 21,
   "id": "bf125a0e-3a87-4076-9863-f792f90fb1b9",
   "metadata": {
    "colab": {
     "base_uri": "https://localhost:8080/",
     "height": 175
    },
    "id": "bf125a0e-3a87-4076-9863-f792f90fb1b9",
    "outputId": "4ce6b124-daab-464d-dbd0-f96b5d5a2e74"
   },
   "outputs": [
    {
     "data": {
      "text/html": [
       "<div>\n",
       "<style scoped>\n",
       "    .dataframe tbody tr th:only-of-type {\n",
       "        vertical-align: middle;\n",
       "    }\n",
       "\n",
       "    .dataframe tbody tr th {\n",
       "        vertical-align: top;\n",
       "    }\n",
       "\n",
       "    .dataframe thead th {\n",
       "        text-align: right;\n",
       "    }\n",
       "</style>\n",
       "<table border=\"1\" class=\"dataframe\">\n",
       "  <thead>\n",
       "    <tr style=\"text-align: right;\">\n",
       "      <th></th>\n",
       "      <th>sector</th>\n",
       "    </tr>\n",
       "  </thead>\n",
       "  <tbody>\n",
       "    <tr>\n",
       "      <th>Aerospace</th>\n",
       "      <td>143.770220</td>\n",
       "    </tr>\n",
       "    <tr>\n",
       "      <th>Healthcare</th>\n",
       "      <td>126.139416</td>\n",
       "    </tr>\n",
       "    <tr>\n",
       "      <th>Engineering</th>\n",
       "      <td>118.006796</td>\n",
       "    </tr>\n",
       "    <tr>\n",
       "      <th>Agricultural</th>\n",
       "      <td>109.826815</td>\n",
       "    </tr>\n",
       "  </tbody>\n",
       "</table>\n",
       "</div>"
      ],
      "text/plain": [
       "                  sector\n",
       "Aerospace     143.770220\n",
       "Healthcare    126.139416\n",
       "Engineering   118.006796\n",
       "Agricultural  109.826815"
      ]
     },
     "execution_count": 21,
     "metadata": {},
     "output_type": "execute_result"
    }
   ],
   "source": [
    "# sensitivity of the query is 1 \n",
    "sensitivity = 1 \n",
    "\n",
    "# +------------------------------------------------+\n",
    "# You can play around with the epsilon value here \n",
    "# +------------------------------------------------+\n",
    "epsilon = 0.8\n",
    "# applying laplace mechanism\n",
    "add_laplace_noise = lambda true_value: laplace_mechanism(true_value, sensitivity, epsilon)\n",
    "# adding noise\n",
    "private_count_by_sector = data['sector'].value_counts().apply(add_laplace_noise)\n",
    "\n",
    "private_count_by_sector.to_frame()"
   ]
  },
  {
   "cell_type": "markdown",
   "id": "9a0794a7-4193-4bc1-8aec-0df7f8a14283",
   "metadata": {
    "id": "9a0794a7-4193-4bc1-8aec-0df7f8a14283"
   },
   "source": [
    "#### Impact of epsilon on the query's output "
   ]
  },
  {
   "cell_type": "code",
   "execution_count": 22,
   "id": "e13c19eb-1846-467c-8845-35e65a681360",
   "metadata": {
    "id": "e13c19eb-1846-467c-8845-35e65a681360"
   },
   "outputs": [],
   "source": [
    "true_counts_by_sector_dict = dict(true_counts_by_sector['sector'])"
   ]
  },
  {
   "cell_type": "code",
   "execution_count": 23,
   "id": "c55c69ac-bb1b-4c33-bda8-4755f4f543b9",
   "metadata": {
    "colab": {
     "base_uri": "https://localhost:8080/",
     "height": 395
    },
    "id": "c55c69ac-bb1b-4c33-bda8-4755f4f543b9",
    "outputId": "0fa5cb53-699f-42fa-a7be-b14161fb49d6"
   },
   "outputs": [
    {
     "data": {
      "image/png": "[encoded data removed]",
      "text/plain": [
       "<Figure size 864x432 with 1 Axes>"
      ]
     },
     "metadata": {
      "needs_background": "light"
     },
     "output_type": "display_data"
    }
   ],
   "source": [
    "# +------------------------------------------------+\n",
    "# You can play around with the epsilon values here \n",
    "# +------------------------------------------------+\n",
    "epsilons = [0.01, 0.1, 0.5, 1]\n",
    "\n",
    "# for visualisation\n",
    "errors = []\n",
    "dp_results = {}\n",
    "true_counts_by_sector = true_counts_by_sector_dict.values()\n",
    "dp_results[\"true_counts_by_sector\"] = true_counts_by_sector\n",
    "num_sectors = len(true_counts_by_sector)\n",
    "\n",
    "# evaluating on different values of epsilon\n",
    "for epsilon in epsilons:\n",
    "    # applying laplace mechanism\n",
    "    private_counts_by_sector = [laplace_mechanism(true_count, sensitivity, epsilon) for true_count in true_counts_by_sector]\n",
    "    \n",
    "    dp_results[f\"epsilon_{epsilon}\"] = private_counts_by_sector\n",
    "    error = sum([percentage_error(tc, pc) for  tc, pc in zip(true_counts_by_sector, private_counts_by_sector)])/num_sectors\n",
    "    errors.append(error)\n",
    "\n",
    "# visualise data \n",
    "labels = true_counts_by_sector_dict.keys() #[\"Aerospace\", \"Agricultural\", \"Engineering\", \"Healthcare\"]\n",
    "title = f\"Count of researchers by sector (data size = {data_size})\"\n",
    "ylabel = \"Count\"\n",
    "\n",
    "visualise(dp_results, 'ε', epsilons, errors, ylabel, title, labels, (12, 6))"
   ]
  },
  {
   "cell_type": "markdown",
   "id": "606a1775-b953-4f0d-bfaa-29c72d702782",
   "metadata": {
    "id": "606a1775-b953-4f0d-bfaa-29c72d702782"
   },
   "source": [
    "### 3.6. Contingency table: count of researchers by sector and academic degree (with parallel composition) <a id=\"cell36\"></a> 📊\n",
    "---\n",
    "\n",
    "A contingency table or cross tabulation (often shortened to crosstab) is like a multi-dimensional histogram."
   ]
  },
  {
   "cell_type": "markdown",
   "id": "0d6877b4-0deb-4d47-9743-23e1c02c24c2",
   "metadata": {
    "id": "0d6877b4-0deb-4d47-9743-23e1c02c24c2"
   },
   "source": [
    "##### **True** count of the researchers by sector and academic degree"
   ]
  },
  {
   "cell_type": "code",
   "execution_count": 24,
   "id": "f9af7e28-5478-4f61-8657-c9986289001d",
   "metadata": {
    "colab": {
     "base_uri": "https://localhost:8080/",
     "height": 206
    },
    "id": "f9af7e28-5478-4f61-8657-c9986289001d",
    "outputId": "e191a814-83f0-451f-ea39-138efb4faeb2"
   },
   "outputs": [
    {
     "data": {
      "text/html": [
       "<div>\n",
       "<style scoped>\n",
       "    .dataframe tbody tr th:only-of-type {\n",
       "        vertical-align: middle;\n",
       "    }\n",
       "\n",
       "    .dataframe tbody tr th {\n",
       "        vertical-align: top;\n",
       "    }\n",
       "\n",
       "    .dataframe thead th {\n",
       "        text-align: right;\n",
       "    }\n",
       "</style>\n",
       "<table border=\"1\" class=\"dataframe\">\n",
       "  <thead>\n",
       "    <tr style=\"text-align: right;\">\n",
       "      <th>degree</th>\n",
       "      <th>Bachelors</th>\n",
       "      <th>Masters</th>\n",
       "      <th>Non-degree</th>\n",
       "      <th>PhD</th>\n",
       "      <th>Post-grad</th>\n",
       "    </tr>\n",
       "    <tr>\n",
       "      <th>sector</th>\n",
       "      <th></th>\n",
       "      <th></th>\n",
       "      <th></th>\n",
       "      <th></th>\n",
       "      <th></th>\n",
       "    </tr>\n",
       "  </thead>\n",
       "  <tbody>\n",
       "    <tr>\n",
       "      <th>Aerospace</th>\n",
       "      <td>27</td>\n",
       "      <td>36</td>\n",
       "      <td>27</td>\n",
       "      <td>30</td>\n",
       "      <td>24</td>\n",
       "    </tr>\n",
       "    <tr>\n",
       "      <th>Agricultural</th>\n",
       "      <td>20</td>\n",
       "      <td>13</td>\n",
       "      <td>23</td>\n",
       "      <td>28</td>\n",
       "      <td>26</td>\n",
       "    </tr>\n",
       "    <tr>\n",
       "      <th>Engineering</th>\n",
       "      <td>22</td>\n",
       "      <td>23</td>\n",
       "      <td>36</td>\n",
       "      <td>23</td>\n",
       "      <td>15</td>\n",
       "    </tr>\n",
       "    <tr>\n",
       "      <th>Healthcare</th>\n",
       "      <td>25</td>\n",
       "      <td>25</td>\n",
       "      <td>28</td>\n",
       "      <td>23</td>\n",
       "      <td>26</td>\n",
       "    </tr>\n",
       "  </tbody>\n",
       "</table>\n",
       "</div>"
      ],
      "text/plain": [
       "degree        Bachelors  Masters  Non-degree  PhD  Post-grad\n",
       "sector                                                      \n",
       "Aerospace            27       36          27   30         24\n",
       "Agricultural         20       13          23   28         26\n",
       "Engineering          22       23          36   23         15\n",
       "Healthcare           25       25          28   23         26"
      ]
     },
     "execution_count": 24,
     "metadata": {},
     "output_type": "execute_result"
    }
   ],
   "source": [
    "pd.crosstab(data['sector'], data['degree'])"
   ]
  },
  {
   "cell_type": "markdown",
   "id": "756979b2-f1fe-49aa-b4ef-8e57e80157e6",
   "metadata": {
    "id": "756979b2-f1fe-49aa-b4ef-8e57e80157e6"
   },
   "source": [
    "##### **Private** count of the researchers by sector and academic degree"
   ]
  },
  {
   "cell_type": "code",
   "execution_count": 25,
   "id": "340c7c5e-90b9-4dca-a1fc-3d4b88bffbdc",
   "metadata": {
    "colab": {
     "base_uri": "https://localhost:8080/",
     "height": 206
    },
    "id": "340c7c5e-90b9-4dca-a1fc-3d4b88bffbdc",
    "outputId": "ad76aa6d-8205-40ce-d91a-c109b2b7680f"
   },
   "outputs": [
    {
     "data": {
      "text/html": [
       "<div>\n",
       "<style scoped>\n",
       "    .dataframe tbody tr th:only-of-type {\n",
       "        vertical-align: middle;\n",
       "    }\n",
       "\n",
       "    .dataframe tbody tr th {\n",
       "        vertical-align: top;\n",
       "    }\n",
       "\n",
       "    .dataframe thead th {\n",
       "        text-align: right;\n",
       "    }\n",
       "</style>\n",
       "<table border=\"1\" class=\"dataframe\">\n",
       "  <thead>\n",
       "    <tr style=\"text-align: right;\">\n",
       "      <th>degree</th>\n",
       "      <th>Bachelors</th>\n",
       "      <th>Masters</th>\n",
       "      <th>Non-degree</th>\n",
       "      <th>PhD</th>\n",
       "      <th>Post-grad</th>\n",
       "    </tr>\n",
       "    <tr>\n",
       "      <th>sector</th>\n",
       "      <th></th>\n",
       "      <th></th>\n",
       "      <th></th>\n",
       "      <th></th>\n",
       "      <th></th>\n",
       "    </tr>\n",
       "  </thead>\n",
       "  <tbody>\n",
       "    <tr>\n",
       "      <th>Aerospace</th>\n",
       "      <td>24.942531</td>\n",
       "      <td>43.081124</td>\n",
       "      <td>23.614067</td>\n",
       "      <td>31.464817</td>\n",
       "      <td>23.403479</td>\n",
       "    </tr>\n",
       "    <tr>\n",
       "      <th>Agricultural</th>\n",
       "      <td>17.440872</td>\n",
       "      <td>12.827360</td>\n",
       "      <td>27.822482</td>\n",
       "      <td>27.058071</td>\n",
       "      <td>23.673984</td>\n",
       "    </tr>\n",
       "    <tr>\n",
       "      <th>Engineering</th>\n",
       "      <td>25.531286</td>\n",
       "      <td>17.943140</td>\n",
       "      <td>35.995639</td>\n",
       "      <td>24.099307</td>\n",
       "      <td>16.735882</td>\n",
       "    </tr>\n",
       "    <tr>\n",
       "      <th>Healthcare</th>\n",
       "      <td>29.178593</td>\n",
       "      <td>28.567575</td>\n",
       "      <td>32.743192</td>\n",
       "      <td>20.483161</td>\n",
       "      <td>30.762574</td>\n",
       "    </tr>\n",
       "  </tbody>\n",
       "</table>\n",
       "</div>"
      ],
      "text/plain": [
       "degree        Bachelors    Masters  Non-degree        PhD  Post-grad\n",
       "sector                                                              \n",
       "Aerospace     24.942531  43.081124   23.614067  31.464817  23.403479\n",
       "Agricultural  17.440872  12.827360   27.822482  27.058071  23.673984\n",
       "Engineering   25.531286  17.943140   35.995639  24.099307  16.735882\n",
       "Healthcare    29.178593  28.567575   32.743192  20.483161  30.762574"
      ]
     },
     "execution_count": 25,
     "metadata": {},
     "output_type": "execute_result"
    }
   ],
   "source": [
    "sensitivity = 1 \n",
    "\n",
    "# +------------------------------------------------+\n",
    "# You can play around with the epsilon value here \n",
    "# +------------------------------------------------+\n",
    "epsilon = 0.5\n",
    "\n",
    "true_count_by_degree_and_sector = pd.crosstab(data['sector'], data['degree'])\n",
    "\n",
    "# applying laplace mechanism\n",
    "add_laplace_noise = lambda true_value: laplace_mechanism(true_value, sensitivity, epsilon)\n",
    "true_count_by_degree_and_sector.applymap(add_laplace_noise)"
   ]
  },
  {
   "cell_type": "code",
   "execution_count": null,
   "id": "MPKyQA0wGIzN",
   "metadata": {
    "id": "MPKyQA0wGIzN"
   },
   "outputs": [],
   "source": []
  }
 ],
 "metadata": {
  "colab": {
   "collapsed_sections": [],
   "provenance": []
  },
  "kernelspec": {
   "display_name": "Python 3 (ipykernel)",
   "language": "python",
   "name": "python3"
  },
  "language_info": {
   "codemirror_mode": {
    "name": "ipython",
    "version": 3
   },
   "file_extension": ".py",
   "mimetype": "text/x-python",
   "name": "python",
   "nbconvert_exporter": "python",
   "pygments_lexer": "ipython3",
   "version": "3.8.11"
  }
 },
 "nbformat": 4,
 "nbformat_minor": 5
}
